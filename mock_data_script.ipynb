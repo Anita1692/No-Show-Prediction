{
 "cells": [
  {
   "cell_type": "code",
   "execution_count": 5,
   "id": "8eff96fe",
   "metadata": {},
   "outputs": [],
   "source": [
    "import random\n",
    "import csv\n",
    "import datetime\n",
    "\n",
    "columns = [\"CustomerId\", \"AppointmentID\", \"Cust Age\", \"Cust Gender\", \"Build Year\", \"Vehicle Age\", \"Vehicle Type\", \"Vehicle OEM\", \"Appointment Day\",\n",
    "           \"AppointmentDay\",\"ScheduledDate\", \"ScheduledDay\", \"SMS_received\", \"Reminder received\", \"Issue Arena\", \"Issue Criticality\", \"Issue Severity\", \n",
    "           \"Last Serviced date\", \"Techinician assigned\", \"New Issue\", \"No-show\"\n",
    "]\n",
    "customerId =  range(47406, 4679987)\n",
    "appointmentId = range(104173, 8933493)\n",
    "cust_age = range(18,60)\n",
    "gender = [\"Male\", \"Female\"]\n",
    "buildYear = range(2001, 2022)\n",
    "vehicleType = []\n",
    "vehicleOEM=[]\n",
    "vehicleAge = []\n",
    "appointmentDate = [] #get day from date\n",
    "scheduledDate = [] #get day from date\n",
    "notificationReceived = [\"TRUE\", \"FALSE\"]\n",
    "reminderReceived = [\"TRUE\", \"FALSE\"]\n",
    "issueArena = []\n",
    "issueCriticality = [\"High\", \"Low\", \"Medium\"]\n",
    "issueSeverity = [\"High\", \"Low\", \"Medium\"]\n",
    "lastServiceDate = []\n",
    "techinicianAssigned = [\"TRUE\", \"FALSE\"]\n",
    "newIssue = [\"TRUE\", \"FALSE\"]\n",
    "noShow = [\"FALSE\", \"TRUE\"]\n",
    "todays_date = datetime.datetime.now()\n",
    "dummyData = [-7,102,98,-15,-4,100]\n",
    "\n",
    "# Get Vehicle Data From CSV\n",
    "with open('vehicle_data.csv') as f:\n",
    "    reader = csv.reader(f)\n",
    "    header = next(f)\n",
    "    vehicle_data = list(reader)\n",
    "####\n",
    "\n",
    "# Get Vehicle Issue Arena from CSV\n",
    "with open('Issue Arena.csv') as f:\n",
    "    reader = csv.reader(f)\n",
    "    header = next(f)\n",
    "    issue_data = list(reader)\n",
    "####\n",
    "\n",
    "start_date = datetime.date(2022, 1, 1)\n",
    "end_date = datetime.date(2022, 9, 27)\n",
    "\n",
    "time_between_dates = end_date - start_date\n",
    "days_between_dates = time_between_dates.days\n",
    "final_data = []\n",
    "for i in range(1,350000):\n",
    "    lst = []\n",
    "    lst.append(random.randint(47406,4679987))\n",
    "    lst.append(random.randint(104173, 8933493))\n",
    "    if i%17500 == 0:\n",
    "        lst.append(random.choice(dummyData))\n",
    "    else:\n",
    "        lst.append(random.randint(18,60))\n",
    "    genderSelect = random.choice(gender)\n",
    "    lst.append(genderSelect)\n",
    "    if i%70000 == 0:\n",
    "        bYear = random.randint(1990,1995)\n",
    "    else:\n",
    "        bYear = random.randint(2001,2022)\n",
    "    lst.append(bYear)\n",
    "    build = random.choice(buildYear)\n",
    "    lst.append(int(todays_date.strftime(\"%Y\")) - bYear)\n",
    "    v_data = random.choice(vehicle_data)\n",
    "    lst.append(v_data[1])\n",
    "    lst.append(v_data[0])\n",
    "    #appointment date\n",
    "    \n",
    "    random_number_of_days = random.randrange(days_between_dates)\n",
    "    random_date = start_date + datetime.timedelta(days=random_number_of_days)\n",
    "    appointmentDate = random_date.strftime(\"%m/%d/%Y\")\n",
    "    appointmentDay = random_date.strftime(\"%A\")\n",
    "    lst.append(appointmentDate)\n",
    "    lst.append(appointmentDay)\n",
    "    \n",
    "    #Scheduled date\n",
    "    sch_start_date = datetime.date(int(random_date.strftime(\"%Y\")), int(random_date.strftime(\"%m\")), int(random_date.strftime(\"%d\")))\n",
    "    sch_end_date = sch_start_date + datetime.timedelta(days=20)\n",
    "    sch_time_between_dates = sch_end_date - sch_start_date\n",
    "    sch_days_between_dates = sch_time_between_dates.days\n",
    "    random_number_of_days = random.randrange(sch_days_between_dates)\n",
    "    random_date = sch_start_date + datetime.timedelta(days=random_number_of_days)\n",
    "    scheduledDate = random_date.strftime(\"%m-%d-%Y\")\n",
    "    scheduledDay = random_date.strftime(\"%A\")\n",
    "    lst.append(scheduledDate +\" \"+str(random.randint(1,12))+\":\"+str(random.randint(1,12)*5))\n",
    "    lst.append(scheduledDay)\n",
    "    if scheduledDay == \"Sunday\":\n",
    "        continue;\n",
    "    ###\n",
    "\n",
    "    lst.append(random.choice(notificationReceived))\n",
    "    lst.append(random.choice(reminderReceived))\n",
    "    issueArena = issue_data\n",
    "    issueArena = random.choice(issue_data)\n",
    "    lst.append(issueArena[0])\n",
    "    lst.append(issueArena[1])\n",
    "    lst.append(issueArena[2])\n",
    "    #Last Service Date\n",
    "    ser_start_date = datetime.date(bYear, 1, 1)\n",
    "    #do we need to have any condition? \n",
    "    ser_end_date = sch_start_date\n",
    "    ser_time_between_dates = ser_end_date - ser_start_date\n",
    "    ser_days_between_dates = ser_time_between_dates.days\n",
    "    if ser_days_between_dates<=0:\n",
    "        continue\n",
    "    random_number_of_days = random.randrange(ser_days_between_dates)\n",
    "    #random_date = ser_start_date + datetime.timedelta(days=random_number_of_days)\n",
    "    serviceDate = random_date.strftime(\"%m-%d-%Y\")\n",
    "    lst.append(serviceDate)\n",
    "    \n",
    "    lst.append(random.choice(techinicianAssigned))\n",
    "    lst.append(random.choice(newIssue))\n",
    "    if int(issueArena[1]) >=7 and int(issueArena[1])<=10:\n",
    "        noShowSelect = random.choices(noShow, weights=(95, 9))\n",
    "    else:\n",
    "        noShowSelect = random.choices(noShow, weights=(72, 28))\n",
    "    lst.append(\" \".join(noShowSelect))\n",
    "    final_data.append(lst);\n",
    "\n",
    "with open('output.csv', 'w', newline='') as f:\n",
    "    writer = csv.writer(f)\n",
    "    writer.writerow(columns)\n",
    "    writer.writerows(final_data)"
   ]
  },
  {
   "cell_type": "code",
   "execution_count": 120,
   "id": "26a6e497",
   "metadata": {},
   "outputs": [
    {
     "name": "stdout",
     "output_type": "stream",
     "text": [
      "[['Make', 'Category'], ['Audi', 'SUV'], ['Chevrolet', 'Sedan'], ['Cadillac', 'SUV'], ['Chevrolet', 'Coupe'], ['Chevrolet', ' Convertible'], ['Acura', 'Sedan'], ['Chevrolet', 'Pickup'], ['BMW', 'Sedan'], ['Chrysler', 'Van'], ['Chrysler', 'Minivan'], ['BMW', 'SUV'], ['Ford', 'Sedan'], ['Buick', 'SUV'], ['Audi', 'Coupe'], ['Audi', ' Convertible'], ['Chevrolet', 'SUV'], ['Acura', 'SUV'], ['INFINITI', 'SUV'], ['GMC', 'Pickup'], ['Honda', 'Sedan'], ['Hyundai', 'SUV'], ['Ford', 'SUV'], ['Ford', 'Coupe'], ['Ford', ' Convertible'], ['Hyundai', 'Sedan'], ['Chevrolet', 'Convertible'], ['Jeep', 'Pickup'], ['Cadillac', 'Sedan'], ['Audi', 'Sedan'], ['Audi', ' Coupe'], ['Ford', 'Pickup'], ['Honda', 'Hatchback'], ['Honda', ' Sedan'], ['Jeep', 'SUV'], ['GMC', 'SUV'], ['Chevrolet', 'Hatchback'], ['Hyundai', 'Coupe'], ['Genesis', 'Sedan'], ['Honda', 'Van'], ['Honda', 'Minivan'], ['Hyundai', 'Hatchback'], ['Dodge', 'SUV'], ['Honda', 'Pickup'], ['Honda', 'SUV'], ['Dodge', 'Sedan'], ['INFINITI', 'Coupe'], ['Jaguar', 'SUV'], ['INFINITI', 'Sedan'], ['Jaguar', 'Convertible'], ['Kia', 'SUV'], ['Kia', 'Sedan'], ['Kia', ' Hatchback'], ['Land Rover', 'SUV'], ['Kia', 'Van'], ['Kia', 'Minivan'], ['Kia', 'Wagon'], ['Lexus', 'Sedan'], ['Lexus', 'Coupe'], ['Lexus', 'SUV'], ['Mercedes-Benz', 'SUV'], ['Mercedes-Benz', 'Sedan'], ['Mitsubishi', 'SUV'], ['Lincoln', 'Sedan'], ['Lincoln', 'SUV'], ['MAZDA', 'SUV'], ['MAZDA', 'Sedan'], ['MAZDA', ' Hatchback'], ['Mitsubishi', 'Sedan'], ['Nissan', 'SUV'], ['Nissan', ' Coupe'], ['Lincoln', ' Convertible'], ['Lincoln', ' Sedan'], ['Mercedes-Benz', 'Convertible'], ['Mercedes-Benz', ' Sedan'], ['Nissan', 'Van'], ['Nissan', 'Minivan'], ['Mercedes-Benz', 'Coupe'], ['Mercedes-Benz', ' Wagon'], ['MINI', 'SUV'], ['Nissan', 'Sedan'], ['Nissan', 'Coupe'], ['Mitsubishi', 'Hatchback'], ['Porsche', 'Sedan'], ['Porsche', 'Convertible'], ['Porsche', 'SUV'], ['Ram', 'Pickup'], ['Subaru', 'Coupe'], ['Toyota', 'Sedan'], ['Subaru', 'Sedan'], ['Subaru', 'Wagon'], ['Subaru', ' Sedan'], ['Subaru', 'SUV'], ['Toyota', 'Hatchback'], ['Toyota', 'Coupe'], ['Toyota', 'SUV'], ['Toyota', 'Pickup'], ['Toyota', 'Van'], ['Toyota', 'Minivan'], ['Toyota', ' Coupe'], ['Volkswagen', 'Sedan'], ['Volvo', 'SUV'], ['Acura', 'Coupe'], ['Acura', ' Convertible'], ['Alfa Romeo', 'Convertible'], ['Volkswagen', 'SUV'], ['Volvo', 'SUV1992'], ['BMW', 'Convertible'], ['BMW', ' Sedan'], ['BMW', 'Coupe'], ['BMW', ' Convertible'], ['Audi', 'Convertible'], ['Audi', ' Sedan'], ['Audi', 'Wagon'], ['Alfa Romeo', 'SUV'], ['Alfa Romeo', 'Sedan'], ['BMW', ' Wagon'], ['BMW', ' Coupe'], ['BMW', 'Hatchback'], ['Buick', 'Sedan'], ['Buick', 'Wagon'], ['Buick', 'Convertible'], ['Chevrolet', ' Hatchback'], ['Cadillac', 'Coupe'], ['Cadillac', ' Hatchback'], ['Chevrolet', 'Van'], ['Dodge', 'Coupe'], ['Dodge', ' Convertible'], ['FIAT', 'Hatchback'], ['FIAT', 'Minivan'], ['FIAT', ' Wagon'], ['Dodge', 'Van'], ['Chrysler', 'Sedan'], ['FIAT', 'Convertible'], ['FIAT', ' Coupe'], ['FIAT', 'SUV'], ['FIAT', ' Sedan'], ['Ford', 'Hatchback'], ['Ford', 'Van'], ['GMC', 'Minivan'], ['GMC', ' Sedan'], ['Freightliner', 'Van'], ['Freightliner', ' Convertible'], ['Honda', 'Coupe'], ['Honda', ' Convertible'], ['Jaguar', 'Sedan'], ['Jaguar', 'Wagon'], ['Jaguar', ' Convertible'], ['Jaguar', 'Coupe'], ['Maserati', 'SUV'], ['MAZDA', 'Convertible'], ['Maserati', 'Sedan'], ['Mercedes-Benz', ' Convertible'], ['Mercedes-Benz', ' Hatchback'], ['Mercedes-Benz', 'Minivan'], ['Mercedes-Benz', 'Van'], ['MINI', 'Convertible'], ['MINI', ' Convertible'], ['MINI', 'Hatchback'], ['Nissan', 'Pickup'], ['Nissan', ' Wagon'], ['Nissan', 'Hatchback'], ['Nissan', ' Convertible'], ['Porsche', 'Coupe'], ['Porsche', 'Minivan'], ['Ram', 'Van'], ['Ram', ' Wagon'], ['Tesla', 'SUV'], ['Tesla', 'Sedan'], ['Volkswagen', 'Wagon'], ['Volkswagen', 'Hatchback'], ['Volkswagen', ' Coupe'], ['Volkswagen', 'Convertible'], ['Volkswagen', ' Sedan'], ['Volvo', 'Sedan'], ['Volvo', 'Wagon'], ['Volvo', 'SUV2020'], ['Volvo', ' Coupe'], ['Volvo', ' Convertible'], ['Aston Martin', 'Convertible'], ['Aston Martin', ' Convertible'], ['Aston Martin', ' Sedan'], ['Alfa Romeo', 'Coupe'], ['Aston Martin', 'Coupe'], ['Bentley', 'SUV'], ['Bentley', ' Sedan'], ['Bentley', ' Coupe'], ['Bentley', 'Sedan'], ['Bentley', 'Convertible'], ['Bentley', ' Convertible'], ['Ferrari', 'Hatchback'], ['Ferrari', 'Coupe'], ['Ferrari', 'Convertible'], ['Ford', 'Wagon'], ['Ford', ' Hatchback'], ['Ford', ' Coupe'], ['Ford', 'Convertible'], ['Ford', 'Minivan'], ['GMC', 'Van'], ['GMC', ' Hatchback'], ['Honda', ' Wagon'], ['Jaguar', ' Coupe'], ['Kia', 'Hatchback'], ['Lamborghini', 'Coupe'], ['Lamborghini', 'Convertible'], ['Lotus', 'Coupe'], ['McLaren', 'Coupe'], ['Maserati', 'Coupe'], ['McLaren', ' Convertible'], ['Mercedes-Benz', ' Coupe']]\n"
     ]
    }
   ],
   "source": [
    "import csv\n",
    "\n",
    "with open('vehicle_data.csv') as f:\n",
    "    reader = csv.reader(f)\n",
    "    header = next(f)\n",
    "    data = list(reader)\n",
    "print(data)"
   ]
  },
  {
   "cell_type": "markdown",
   "id": "3008367a",
   "metadata": {},
   "source": [
    "# Get Vehicle Manufacture and Model Data"
   ]
  },
  {
   "cell_type": "code",
   "execution_count": 17,
   "id": "a40d6bea",
   "metadata": {},
   "outputs": [],
   "source": [
    "import json\n",
    "import csv\n",
    "import urllib\n",
    "import requests\n",
    "\n",
    "url = 'https://parseapi.back4app.com/classes/Car_Model_List?limit=1000'\n",
    "headers = {\n",
    "    'X-Parse-Application-Id': 'hlhoNKjOvEhqzcVAJ1lxjicJLZNVv36GdbboZj3Z', # This is the fake app's application id\n",
    "    'X-Parse-Master-Key': 'SNMJJF0CZZhTPhLDIqGhTlUNV9r60M2Z5spyWfXW' # This is the fake app's readonly master key\n",
    "}\n",
    "data = json.loads(requests.get(url, headers=headers).content.decode('utf-8')) # Here you have the data that you need\n",
    "\n",
    "data_file = open('vehicle_data_new.csv', 'w')\n",
    " \n",
    "# create the csv writer object\n",
    "csv_writer = csv.writer(data_file)\n",
    " \n",
    "# Counter variable used for writing\n",
    "# headers to the CSV file\n",
    "count = 0\n",
    " \n",
    "for emp in data[\"results\"]:\n",
    "    if count == 0:\n",
    "        # Writing headers of CSV file\n",
    "        header = emp.keys()\n",
    "        csv_writer.writerow(header)\n",
    "        count += 1\n",
    "    # Writing data of CSV file\n",
    "    csv_writer.writerow(emp.values())\n",
    " \n",
    "data_file.close()\n"
   ]
  },
  {
   "cell_type": "code",
   "execution_count": 15,
   "id": "ff3dcde5",
   "metadata": {},
   "outputs": [
    {
     "name": "stdout",
     "output_type": "stream",
     "text": [
      "APT date 2022-02-02\n",
      "start date 02/18/2022 8:35\n"
     ]
    }
   ],
   "source": [
    "import datetime\n",
    "import random\n",
    "\n",
    "start_date = datetime.date(2022, 1, 1)\n",
    "end_date = datetime.date(2022, 9, 27)\n",
    "\n",
    "time_between_dates = end_date - start_date\n",
    "days_between_dates = time_between_dates.days\n",
    "random_number_of_days = random.randrange(days_between_dates)\n",
    "random_date = start_date + datetime.timedelta(days=random_number_of_days)\n",
    "\n",
    "date = random_date.strftime(\"%m/%d/%Y\")\n",
    "appointmentDay = random_date.strftime(\"%A\")\n",
    "\n",
    "print(\"APT date\",random_date)\n",
    "\n",
    "sch_start_date = datetime.date(int(random_date.strftime(\"%Y\")), int(random_date.strftime(\"%m\")), int(random_date.strftime(\"%d\")))\n",
    "sch_end_date = sch_start_date + datetime.timedelta(days=20)\n",
    "\n",
    "sch_time_between_dates = sch_end_date - sch_start_date\n",
    "sch_days_between_dates = sch_time_between_dates.days\n",
    "random_number_of_days = random.randrange(sch_days_between_dates)\n",
    "random_date = sch_start_date + datetime.timedelta(days=random_number_of_days)\n",
    "scheduledDate = random_date.strftime(\"%m/%d/%Y\")\n",
    "scheduledDay = random_date.strftime(\"%A\")\n",
    "\n",
    "print(\"start date\", scheduledDate +\" \"+str(random.randint(1,12))+\":\"+str(random.randint(1,12)*5))\n"
   ]
  },
  {
   "cell_type": "code",
   "execution_count": 11,
   "id": "75335f46",
   "metadata": {},
   "outputs": [
    {
     "name": "stdout",
     "output_type": "stream",
     "text": [
      "10\n"
     ]
    }
   ],
   "source": [
    "import random\n",
    "print(random.randint(1,12)*5)"
   ]
  },
  {
   "cell_type": "code",
   "execution_count": 17,
   "id": "aa83c18b",
   "metadata": {},
   "outputs": [
    {
     "name": "stdout",
     "output_type": "stream",
     "text": [
      "0\n"
     ]
    }
   ],
   "source": [
    "i=35000\n",
    "print(i%17500)"
   ]
  },
  {
   "cell_type": "code",
   "execution_count": null,
   "id": "ac64d07c",
   "metadata": {},
   "outputs": [],
   "source": []
  }
 ],
 "metadata": {
  "kernelspec": {
   "display_name": "Python 3 (ipykernel)",
   "language": "python",
   "name": "python3"
  },
  "language_info": {
   "codemirror_mode": {
    "name": "ipython",
    "version": 3
   },
   "file_extension": ".py",
   "mimetype": "text/x-python",
   "name": "python",
   "nbconvert_exporter": "python",
   "pygments_lexer": "ipython3",
   "version": "3.9.12"
  }
 },
 "nbformat": 4,
 "nbformat_minor": 5
}
