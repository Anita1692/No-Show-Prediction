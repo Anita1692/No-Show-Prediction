{
 "cells": [
  {
   "cell_type": "code",
   "execution_count": 2,
   "id": "39cf7a0e",
   "metadata": {},
   "outputs": [],
   "source": [
    "%matplotlib inline\n",
    "import numpy as np\n",
    "import pandas as pd\n",
    "import matplotlib.pylab as plt\n",
    "import seaborn as sns\n",
    "from sklearn import preprocessing  # imputing and scale\n",
    "from sklearn.model_selection import train_test_split\n",
    "from sklearn import neighbors\n",
    "from sklearn.decomposition import PCA  #principal components Analysis\n",
    "from sklearn.impute import KNNImputer   # missing values imputation\n",
    "from pandas.plotting import scatter_matrix  #scatter matrix correlation , scatter\n",
    "from sklearn.preprocessing import KBinsDiscretizer\n",
    "import matplotlib.pyplot as plt1\n",
    "from sklearn.cluster import KMeans  # clustering\n",
    "from sklearn.metrics import silhouette_score #evaluation metric for # of clusters\n",
    "from sklearn.naive_bayes import MultinomialNB  #naive bayes\n",
    "pd.set_option('display.max_columns', 100) #display more jupyter notebook\n",
    "pd.set_option('display.max_rows', 100)  # display rows\n",
    "from sklearn.metrics import *\n",
    "from sklearn.linear_model import *\n",
    "import itertools \n",
    "from sklearn.metrics import *   \n",
    "from sklearn.neighbors import KNeighborsRegressor,KNeighborsClassifier  #classification algorithm\n",
    "from sklearn.tree import DecisionTreeRegressor,DecisionTreeClassifier\n",
    "from sklearn.ensemble import *\n",
    "from sklearn.model_selection import GridSearchCV\n",
    "#from dmba import plotDecisionTree  #pip install dmba\n",
    "#dmba is dependent on pydotplus and graphviz\n",
    "#conda install graphviz\n",
    "#conda install -c conda-forge pydotplus\n",
    "import os\n",
    "os.environ[\"PATH\"] += os.pathsep + 'C:\\Program Files (x86)\\Graphviz2.38/bin/'\n",
    "os.environ[\"PATH\"] += os.pathsep + '/opt/homebrew/bin/dot'\n",
    "import warnings\n",
    "warnings.filterwarnings('ignore')\n",
    "from IPython.display import Image\n",
    "\n",
    "\n",
    "\n",
    "#from sklearn.tree import DecisionTreeRegressor\n",
    "from sklearn import tree\n",
    "from sklearn.tree import plot_tree\n",
    "from sklearn.tree import DecisionTreeClassifier\n",
    "from sklearn.model_selection import GridSearchCV\n",
    "from sklearn.neural_network import MLPClassifier\n",
    "#from sklearn.ensemble import RandomForestRegressor\n",
    "from sklearn.datasets import load_iris\n",
    "#from dmba import plotDecisionTree\n",
    "\n",
    "import matplotlib\n",
    "import matplotlib.pyplot as pl\n"
   ]
  },
  {
   "cell_type": "code",
   "execution_count": 36,
   "id": "727916a1",
   "metadata": {},
   "outputs": [
    {
     "data": {
      "text/html": [
       "<div>\n",
       "<style scoped>\n",
       "    .dataframe tbody tr th:only-of-type {\n",
       "        vertical-align: middle;\n",
       "    }\n",
       "\n",
       "    .dataframe tbody tr th {\n",
       "        vertical-align: top;\n",
       "    }\n",
       "\n",
       "    .dataframe thead th {\n",
       "        text-align: right;\n",
       "    }\n",
       "</style>\n",
       "<table border=\"1\" class=\"dataframe\">\n",
       "  <thead>\n",
       "    <tr style=\"text-align: right;\">\n",
       "      <th></th>\n",
       "      <th>CustomerId</th>\n",
       "      <th>AppointmentID</th>\n",
       "      <th>Cust Age</th>\n",
       "      <th>Cust Gender</th>\n",
       "      <th>Build Year</th>\n",
       "      <th>Vehicle Age</th>\n",
       "      <th>Vehicle Type</th>\n",
       "      <th>Vehicle OEM</th>\n",
       "      <th>Appointment Day</th>\n",
       "      <th>AppointmentDay</th>\n",
       "      <th>ScheduledDate</th>\n",
       "      <th>ScheduledDay</th>\n",
       "      <th>SMS_received</th>\n",
       "      <th>Reminder received</th>\n",
       "      <th>Issue Arena</th>\n",
       "      <th>Issue Criticality</th>\n",
       "      <th>Issue Severity</th>\n",
       "      <th>Last Serviced date</th>\n",
       "      <th>Techinician assigned</th>\n",
       "      <th>New Issue</th>\n",
       "      <th>No-show</th>\n",
       "    </tr>\n",
       "  </thead>\n",
       "  <tbody>\n",
       "    <tr>\n",
       "      <th>0</th>\n",
       "      <td>1611230</td>\n",
       "      <td>6444255</td>\n",
       "      <td>52</td>\n",
       "      <td>F e m a l e</td>\n",
       "      <td>2013</td>\n",
       "      <td>9</td>\n",
       "      <td>Wagon</td>\n",
       "      <td>Nissan</td>\n",
       "      <td>09/18/2022</td>\n",
       "      <td>Sunday</td>\n",
       "      <td>10-01-2022 11:45</td>\n",
       "      <td>Saturday</td>\n",
       "      <td>False</td>\n",
       "      <td>False</td>\n",
       "      <td>Replace front brakes</td>\n",
       "      <td>10</td>\n",
       "      <td>10</td>\n",
       "      <td>10-01-2022</td>\n",
       "      <td>True</td>\n",
       "      <td>True</td>\n",
       "      <td>False</td>\n",
       "    </tr>\n",
       "    <tr>\n",
       "      <th>1</th>\n",
       "      <td>1421250</td>\n",
       "      <td>4988481</td>\n",
       "      <td>21</td>\n",
       "      <td>F e m a l e</td>\n",
       "      <td>2008</td>\n",
       "      <td>14</td>\n",
       "      <td>Sedan</td>\n",
       "      <td>Chrysler</td>\n",
       "      <td>06/21/2022</td>\n",
       "      <td>Tuesday</td>\n",
       "      <td>06-29-2022 4:10</td>\n",
       "      <td>Wednesday</td>\n",
       "      <td>True</td>\n",
       "      <td>True</td>\n",
       "      <td>Perform Tire Rotation and wheel balance</td>\n",
       "      <td>2</td>\n",
       "      <td>6</td>\n",
       "      <td>06-29-2022</td>\n",
       "      <td>True</td>\n",
       "      <td>True</td>\n",
       "      <td>True</td>\n",
       "    </tr>\n",
       "    <tr>\n",
       "      <th>2</th>\n",
       "      <td>107824</td>\n",
       "      <td>460559</td>\n",
       "      <td>42</td>\n",
       "      <td>M a l e</td>\n",
       "      <td>2019</td>\n",
       "      <td>3</td>\n",
       "      <td>SUV</td>\n",
       "      <td>GMC</td>\n",
       "      <td>01/04/2022</td>\n",
       "      <td>Tuesday</td>\n",
       "      <td>01-13-2022 11:35</td>\n",
       "      <td>Thursday</td>\n",
       "      <td>False</td>\n",
       "      <td>True</td>\n",
       "      <td>Engine Coolant Fluid Exchange</td>\n",
       "      <td>9</td>\n",
       "      <td>8</td>\n",
       "      <td>01-13-2022</td>\n",
       "      <td>True</td>\n",
       "      <td>False</td>\n",
       "      <td>False</td>\n",
       "    </tr>\n",
       "    <tr>\n",
       "      <th>3</th>\n",
       "      <td>985577</td>\n",
       "      <td>6992048</td>\n",
       "      <td>35</td>\n",
       "      <td>M a l e</td>\n",
       "      <td>2013</td>\n",
       "      <td>9</td>\n",
       "      <td>Sedan</td>\n",
       "      <td>Nissan</td>\n",
       "      <td>02/09/2022</td>\n",
       "      <td>Wednesday</td>\n",
       "      <td>02-21-2022 10:15</td>\n",
       "      <td>Monday</td>\n",
       "      <td>True</td>\n",
       "      <td>False</td>\n",
       "      <td>Oil Change - Synthetic Oil</td>\n",
       "      <td>4</td>\n",
       "      <td>5</td>\n",
       "      <td>02-21-2022</td>\n",
       "      <td>False</td>\n",
       "      <td>True</td>\n",
       "      <td>False</td>\n",
       "    </tr>\n",
       "    <tr>\n",
       "      <th>4</th>\n",
       "      <td>2774515</td>\n",
       "      <td>3707674</td>\n",
       "      <td>26</td>\n",
       "      <td>M a l e</td>\n",
       "      <td>2008</td>\n",
       "      <td>14</td>\n",
       "      <td>SUV</td>\n",
       "      <td>Tesla</td>\n",
       "      <td>07/20/2022</td>\n",
       "      <td>Wednesday</td>\n",
       "      <td>07-27-2022 8:45</td>\n",
       "      <td>Wednesday</td>\n",
       "      <td>True</td>\n",
       "      <td>True</td>\n",
       "      <td>Headlamp restoration</td>\n",
       "      <td>6</td>\n",
       "      <td>9</td>\n",
       "      <td>07-27-2022</td>\n",
       "      <td>True</td>\n",
       "      <td>True</td>\n",
       "      <td>False</td>\n",
       "    </tr>\n",
       "  </tbody>\n",
       "</table>\n",
       "</div>"
      ],
      "text/plain": [
       "   CustomerId  AppointmentID  Cust Age  Cust Gender  Build Year  Vehicle Age  \\\n",
       "0     1611230        6444255        52  F e m a l e        2013            9   \n",
       "1     1421250        4988481        21  F e m a l e        2008           14   \n",
       "2      107824         460559        42      M a l e        2019            3   \n",
       "3      985577        6992048        35      M a l e        2013            9   \n",
       "4     2774515        3707674        26      M a l e        2008           14   \n",
       "\n",
       "  Vehicle Type Vehicle OEM Appointment Day AppointmentDay     ScheduledDate  \\\n",
       "0        Wagon      Nissan      09/18/2022         Sunday  10-01-2022 11:45   \n",
       "1        Sedan    Chrysler      06/21/2022        Tuesday   06-29-2022 4:10   \n",
       "2          SUV         GMC      01/04/2022        Tuesday  01-13-2022 11:35   \n",
       "3        Sedan      Nissan      02/09/2022      Wednesday  02-21-2022 10:15   \n",
       "4          SUV       Tesla      07/20/2022      Wednesday   07-27-2022 8:45   \n",
       "\n",
       "  ScheduledDay  SMS_received  Reminder received  \\\n",
       "0     Saturday         False              False   \n",
       "1    Wednesday          True               True   \n",
       "2     Thursday         False               True   \n",
       "3       Monday          True              False   \n",
       "4    Wednesday          True               True   \n",
       "\n",
       "                               Issue Arena  Issue Criticality  Issue Severity  \\\n",
       "0                     Replace front brakes                 10              10   \n",
       "1  Perform Tire Rotation and wheel balance                  2               6   \n",
       "2            Engine Coolant Fluid Exchange                  9               8   \n",
       "3               Oil Change - Synthetic Oil                  4               5   \n",
       "4                     Headlamp restoration                  6               9   \n",
       "\n",
       "  Last Serviced date  Techinician assigned  New Issue  No-show  \n",
       "0         10-01-2022                  True       True    False  \n",
       "1         06-29-2022                  True       True     True  \n",
       "2         01-13-2022                  True      False    False  \n",
       "3         02-21-2022                 False       True    False  \n",
       "4         07-27-2022                  True       True    False  "
      ]
     },
     "execution_count": 36,
     "metadata": {},
     "output_type": "execute_result"
    }
   ],
   "source": [
    "df = pd.read_csv('output.csv')\n",
    "df.head()"
   ]
  },
  {
   "cell_type": "code",
   "execution_count": 3,
   "id": "ca78a171",
   "metadata": {},
   "outputs": [
    {
     "data": {
      "text/plain": [
       "(349942, 21)"
      ]
     },
     "execution_count": 3,
     "metadata": {},
     "output_type": "execute_result"
    }
   ],
   "source": [
    "df.shape"
   ]
  },
  {
   "cell_type": "code",
   "execution_count": 4,
   "id": "b5e8ef29",
   "metadata": {},
   "outputs": [
    {
     "data": {
      "text/plain": [
       "0"
      ]
     },
     "execution_count": 4,
     "metadata": {},
     "output_type": "execute_result"
    }
   ],
   "source": [
    "df.duplicated().sum()"
   ]
  },
  {
   "cell_type": "code",
   "execution_count": 5,
   "id": "9bda65e4",
   "metadata": {},
   "outputs": [
    {
     "data": {
      "text/plain": [
       "CustomerId              0\n",
       "AppointmentID           0\n",
       "Cust Age                0\n",
       "Cust Gender             0\n",
       "Build Year              0\n",
       "Vehicle Age             0\n",
       "Vehicle Type            0\n",
       "Vehicle OEM             0\n",
       "Appointment Day         0\n",
       "AppointmentDay          0\n",
       "ScheduledDate           0\n",
       "ScheduledDay            0\n",
       "SMS_received            0\n",
       "Reminder received       0\n",
       "Issue Arena             0\n",
       "Issue Criticality       0\n",
       "Issue Severity          0\n",
       "Last Serviced date      0\n",
       "Techinician assigned    0\n",
       "New Issue               0\n",
       "No-show                 0\n",
       "dtype: int64"
      ]
     },
     "execution_count": 5,
     "metadata": {},
     "output_type": "execute_result"
    }
   ],
   "source": [
    "df.isna().sum()"
   ]
  },
  {
   "cell_type": "code",
   "execution_count": 6,
   "id": "5158bf90",
   "metadata": {},
   "outputs": [
    {
     "name": "stdout",
     "output_type": "stream",
     "text": [
      "<class 'pandas.core.frame.DataFrame'>\n",
      "RangeIndex: 349942 entries, 0 to 349941\n",
      "Data columns (total 21 columns):\n",
      " #   Column                Non-Null Count   Dtype \n",
      "---  ------                --------------   ----- \n",
      " 0   CustomerId            349942 non-null  int64 \n",
      " 1   AppointmentID         349942 non-null  int64 \n",
      " 2   Cust Age              349942 non-null  int64 \n",
      " 3   Cust Gender           349942 non-null  object\n",
      " 4   Build Year            349942 non-null  int64 \n",
      " 5   Vehicle Age           349942 non-null  int64 \n",
      " 6   Vehicle Type          349942 non-null  object\n",
      " 7   Vehicle OEM           349942 non-null  object\n",
      " 8   Appointment Day       349942 non-null  object\n",
      " 9   AppointmentDay        349942 non-null  object\n",
      " 10  ScheduledDate         349942 non-null  object\n",
      " 11  ScheduledDay          349942 non-null  object\n",
      " 12  SMS_received          349942 non-null  bool  \n",
      " 13  Reminder received     349942 non-null  bool  \n",
      " 14  Issue Arena           349942 non-null  object\n",
      " 15  Issue Criticality     349942 non-null  object\n",
      " 16  Issue Severity        349942 non-null  object\n",
      " 17  Last Serviced date    349942 non-null  object\n",
      " 18  Techinician assigned  349942 non-null  bool  \n",
      " 19  New Issue             349942 non-null  bool  \n",
      " 20  No-show               349942 non-null  bool  \n",
      "dtypes: bool(5), int64(5), object(11)\n",
      "memory usage: 44.4+ MB\n"
     ]
    }
   ],
   "source": [
    "df.info()"
   ]
  },
  {
   "cell_type": "code",
   "execution_count": 23,
   "id": "1ad772f6",
   "metadata": {},
   "outputs": [
    {
     "data": {
      "text/html": [
       "<div>\n",
       "<style scoped>\n",
       "    .dataframe tbody tr th:only-of-type {\n",
       "        vertical-align: middle;\n",
       "    }\n",
       "\n",
       "    .dataframe tbody tr th {\n",
       "        vertical-align: top;\n",
       "    }\n",
       "\n",
       "    .dataframe thead th {\n",
       "        text-align: right;\n",
       "    }\n",
       "</style>\n",
       "<table border=\"1\" class=\"dataframe\">\n",
       "  <thead>\n",
       "    <tr style=\"text-align: right;\">\n",
       "      <th></th>\n",
       "      <th>CustomerId</th>\n",
       "      <th>AppointmentID</th>\n",
       "      <th>Cust Age</th>\n",
       "      <th>Build Year</th>\n",
       "      <th>Vehicle Age</th>\n",
       "      <th>Issue Criticality</th>\n",
       "      <th>Issue Severity</th>\n",
       "    </tr>\n",
       "  </thead>\n",
       "  <tbody>\n",
       "    <tr>\n",
       "      <th>count</th>\n",
       "      <td>2.998390e+05</td>\n",
       "      <td>2.998390e+05</td>\n",
       "      <td>299839.000000</td>\n",
       "      <td>299839.000000</td>\n",
       "      <td>299839.000000</td>\n",
       "      <td>299839.000000</td>\n",
       "      <td>299839.000000</td>\n",
       "    </tr>\n",
       "    <tr>\n",
       "      <th>mean</th>\n",
       "      <td>2.361988e+06</td>\n",
       "      <td>4.517918e+06</td>\n",
       "      <td>38.948546</td>\n",
       "      <td>2011.494679</td>\n",
       "      <td>10.505321</td>\n",
       "      <td>5.446600</td>\n",
       "      <td>6.174193</td>\n",
       "    </tr>\n",
       "    <tr>\n",
       "      <th>std</th>\n",
       "      <td>1.339092e+06</td>\n",
       "      <td>2.549912e+06</td>\n",
       "      <td>12.420660</td>\n",
       "      <td>6.348178</td>\n",
       "      <td>6.348178</td>\n",
       "      <td>3.186073</td>\n",
       "      <td>3.162336</td>\n",
       "    </tr>\n",
       "    <tr>\n",
       "      <th>min</th>\n",
       "      <td>4.741000e+04</td>\n",
       "      <td>1.041850e+05</td>\n",
       "      <td>-15.000000</td>\n",
       "      <td>1991.000000</td>\n",
       "      <td>0.000000</td>\n",
       "      <td>1.000000</td>\n",
       "      <td>1.000000</td>\n",
       "    </tr>\n",
       "    <tr>\n",
       "      <th>25%</th>\n",
       "      <td>1.203386e+06</td>\n",
       "      <td>2.306054e+06</td>\n",
       "      <td>28.000000</td>\n",
       "      <td>2006.000000</td>\n",
       "      <td>5.000000</td>\n",
       "      <td>2.000000</td>\n",
       "      <td>3.000000</td>\n",
       "    </tr>\n",
       "    <tr>\n",
       "      <th>50%</th>\n",
       "      <td>2.360291e+06</td>\n",
       "      <td>4.520386e+06</td>\n",
       "      <td>39.000000</td>\n",
       "      <td>2012.000000</td>\n",
       "      <td>10.000000</td>\n",
       "      <td>5.000000</td>\n",
       "      <td>6.000000</td>\n",
       "    </tr>\n",
       "    <tr>\n",
       "      <th>75%</th>\n",
       "      <td>3.522328e+06</td>\n",
       "      <td>6.729602e+06</td>\n",
       "      <td>50.000000</td>\n",
       "      <td>2017.000000</td>\n",
       "      <td>16.000000</td>\n",
       "      <td>9.000000</td>\n",
       "      <td>9.000000</td>\n",
       "    </tr>\n",
       "    <tr>\n",
       "      <th>max</th>\n",
       "      <td>4.679969e+06</td>\n",
       "      <td>8.933453e+06</td>\n",
       "      <td>102.000000</td>\n",
       "      <td>2022.000000</td>\n",
       "      <td>31.000000</td>\n",
       "      <td>10.000000</td>\n",
       "      <td>10.000000</td>\n",
       "    </tr>\n",
       "  </tbody>\n",
       "</table>\n",
       "</div>"
      ],
      "text/plain": [
       "         CustomerId  AppointmentID       Cust Age     Build Year  \\\n",
       "count  2.998390e+05   2.998390e+05  299839.000000  299839.000000   \n",
       "mean   2.361988e+06   4.517918e+06      38.948546    2011.494679   \n",
       "std    1.339092e+06   2.549912e+06      12.420660       6.348178   \n",
       "min    4.741000e+04   1.041850e+05     -15.000000    1991.000000   \n",
       "25%    1.203386e+06   2.306054e+06      28.000000    2006.000000   \n",
       "50%    2.360291e+06   4.520386e+06      39.000000    2012.000000   \n",
       "75%    3.522328e+06   6.729602e+06      50.000000    2017.000000   \n",
       "max    4.679969e+06   8.933453e+06     102.000000    2022.000000   \n",
       "\n",
       "         Vehicle Age  Issue Criticality  Issue Severity  \n",
       "count  299839.000000      299839.000000   299839.000000  \n",
       "mean       10.505321           5.446600        6.174193  \n",
       "std         6.348178           3.186073        3.162336  \n",
       "min         0.000000           1.000000        1.000000  \n",
       "25%         5.000000           2.000000        3.000000  \n",
       "50%        10.000000           5.000000        6.000000  \n",
       "75%        16.000000           9.000000        9.000000  \n",
       "max        31.000000          10.000000       10.000000  "
      ]
     },
     "execution_count": 23,
     "metadata": {},
     "output_type": "execute_result"
    }
   ],
   "source": [
    "df.describe()"
   ]
  },
  {
   "cell_type": "code",
   "execution_count": 39,
   "id": "b03ff53e",
   "metadata": {},
   "outputs": [
    {
     "data": {
      "text/plain": [
       "Index(['customerid', 'appointmentid', 'cust_age', 'cust_gender', 'build_year',\n",
       "       'vehicle_age', 'vehicle_type', 'vehicle_oem', 'appointment_day',\n",
       "       'appointmentday', 'scheduleddate', 'scheduledday', 'sms_received',\n",
       "       'reminder_received', 'issue_arena', 'issue_criticality',\n",
       "       'issue_severity', 'last_serviced_date', 'techinician_assigned',\n",
       "       'new_issue', 'no_show'],\n",
       "      dtype='object')"
      ]
     },
     "execution_count": 39,
     "metadata": {},
     "output_type": "execute_result"
    }
   ],
   "source": [
    "df.rename(columns = lambda x: x.lower().replace(' ','_'), inplace = True)\n",
    "df.columns\n",
    "df.rename(columns = lambda x: x.lower().replace('-','_'), inplace = True)\n",
    "df.columns"
   ]
  },
  {
   "cell_type": "code",
   "execution_count": 40,
   "id": "b88931ed",
   "metadata": {},
   "outputs": [
    {
     "ename": "KeyError",
     "evalue": "\"None of [Index(['ScheduledDay'], dtype='object')] are in the [columns]\"",
     "output_type": "error",
     "traceback": [
      "\u001b[1;31m---------------------------------------------------------------------------\u001b[0m",
      "\u001b[1;31mKeyError\u001b[0m                                  Traceback (most recent call last)",
      "\u001b[1;32m~\\AppData\\Local\\Temp/ipykernel_81856/2431066983.py\u001b[0m in \u001b[0;36m<module>\u001b[1;34m\u001b[0m\n\u001b[1;32m----> 1\u001b[1;33m \u001b[0mdf\u001b[0m\u001b[1;33m[\u001b[0m\u001b[1;33m[\u001b[0m\u001b[1;34m'ScheduledDay'\u001b[0m\u001b[1;33m]\u001b[0m\u001b[1;33m]\u001b[0m \u001b[1;33m=\u001b[0m \u001b[0mdf\u001b[0m\u001b[1;33m[\u001b[0m\u001b[1;33m[\u001b[0m\u001b[1;34m'ScheduledDay'\u001b[0m\u001b[1;33m]\u001b[0m\u001b[1;33m]\u001b[0m\u001b[1;33m.\u001b[0m\u001b[0mreplace\u001b[0m\u001b[1;33m(\u001b[0m\u001b[0mdict\u001b[0m\u001b[1;33m.\u001b[0m\u001b[0mfromkeys\u001b[0m\u001b[1;33m(\u001b[0m\u001b[1;33m[\u001b[0m\u001b[1;34m'Monday'\u001b[0m\u001b[1;33m,\u001b[0m\u001b[1;34m'Tuesday'\u001b[0m\u001b[1;33m,\u001b[0m\u001b[1;34m'Wednesday'\u001b[0m\u001b[1;33m,\u001b[0m\u001b[1;34m'Thursday'\u001b[0m\u001b[1;33m,\u001b[0m\u001b[1;34m'Friday'\u001b[0m\u001b[1;33m]\u001b[0m\u001b[1;33m,\u001b[0m \u001b[1;34m'Weekday'\u001b[0m\u001b[1;33m)\u001b[0m\u001b[1;33m)\u001b[0m\u001b[1;33m\u001b[0m\u001b[1;33m\u001b[0m\u001b[0m\n\u001b[0m\u001b[0;32m      2\u001b[0m \u001b[0mdf\u001b[0m\u001b[1;33m[\u001b[0m\u001b[1;33m[\u001b[0m\u001b[1;34m'ScheduledDay'\u001b[0m\u001b[1;33m]\u001b[0m\u001b[1;33m]\u001b[0m \u001b[1;33m=\u001b[0m \u001b[0mdf\u001b[0m\u001b[1;33m[\u001b[0m\u001b[1;33m[\u001b[0m\u001b[1;34m'ScheduledDay'\u001b[0m\u001b[1;33m]\u001b[0m\u001b[1;33m]\u001b[0m\u001b[1;33m.\u001b[0m\u001b[0mreplace\u001b[0m\u001b[1;33m(\u001b[0m\u001b[0mdict\u001b[0m\u001b[1;33m.\u001b[0m\u001b[0mfromkeys\u001b[0m\u001b[1;33m(\u001b[0m\u001b[1;33m[\u001b[0m\u001b[1;34m'Saturday'\u001b[0m\u001b[1;33m]\u001b[0m\u001b[1;33m,\u001b[0m \u001b[1;34m'Weekend'\u001b[0m\u001b[1;33m)\u001b[0m\u001b[1;33m)\u001b[0m\u001b[1;33m\u001b[0m\u001b[1;33m\u001b[0m\u001b[0m\n\u001b[0;32m      3\u001b[0m \u001b[0mdf\u001b[0m\u001b[1;33m[\u001b[0m\u001b[1;34m'SMS_received'\u001b[0m\u001b[1;33m]\u001b[0m\u001b[1;33m.\u001b[0m\u001b[0mreplace\u001b[0m\u001b[1;33m(\u001b[0m\u001b[1;32mTrue\u001b[0m\u001b[1;33m,\u001b[0m \u001b[1;36m1\u001b[0m\u001b[1;33m,\u001b[0m\u001b[0minplace\u001b[0m\u001b[1;33m=\u001b[0m\u001b[1;32mTrue\u001b[0m\u001b[1;33m)\u001b[0m\u001b[1;33m\u001b[0m\u001b[1;33m\u001b[0m\u001b[0m\n\u001b[0;32m      4\u001b[0m \u001b[0mdf\u001b[0m\u001b[1;33m[\u001b[0m\u001b[1;34m'SMS_received'\u001b[0m\u001b[1;33m]\u001b[0m\u001b[1;33m.\u001b[0m\u001b[0mreplace\u001b[0m\u001b[1;33m(\u001b[0m\u001b[1;32mFalse\u001b[0m\u001b[1;33m,\u001b[0m \u001b[1;36m0\u001b[0m\u001b[1;33m,\u001b[0m\u001b[0minplace\u001b[0m\u001b[1;33m=\u001b[0m\u001b[1;32mTrue\u001b[0m\u001b[1;33m)\u001b[0m\u001b[1;33m\u001b[0m\u001b[1;33m\u001b[0m\u001b[0m\n\u001b[0;32m      5\u001b[0m \u001b[0mdf\u001b[0m\u001b[1;33m[\u001b[0m\u001b[1;34m'reminder_received'\u001b[0m\u001b[1;33m]\u001b[0m\u001b[1;33m.\u001b[0m\u001b[0mreplace\u001b[0m\u001b[1;33m(\u001b[0m\u001b[1;32mTrue\u001b[0m\u001b[1;33m,\u001b[0m \u001b[1;36m1\u001b[0m\u001b[1;33m,\u001b[0m\u001b[0minplace\u001b[0m\u001b[1;33m=\u001b[0m\u001b[1;32mTrue\u001b[0m\u001b[1;33m)\u001b[0m\u001b[1;33m\u001b[0m\u001b[1;33m\u001b[0m\u001b[0m\n",
      "\u001b[1;32m~\\anaconda3\\lib\\site-packages\\pandas\\core\\frame.py\u001b[0m in \u001b[0;36m__getitem__\u001b[1;34m(self, key)\u001b[0m\n\u001b[0;32m   3462\u001b[0m             \u001b[1;32mif\u001b[0m \u001b[0mis_iterator\u001b[0m\u001b[1;33m(\u001b[0m\u001b[0mkey\u001b[0m\u001b[1;33m)\u001b[0m\u001b[1;33m:\u001b[0m\u001b[1;33m\u001b[0m\u001b[1;33m\u001b[0m\u001b[0m\n\u001b[0;32m   3463\u001b[0m                 \u001b[0mkey\u001b[0m \u001b[1;33m=\u001b[0m \u001b[0mlist\u001b[0m\u001b[1;33m(\u001b[0m\u001b[0mkey\u001b[0m\u001b[1;33m)\u001b[0m\u001b[1;33m\u001b[0m\u001b[1;33m\u001b[0m\u001b[0m\n\u001b[1;32m-> 3464\u001b[1;33m             \u001b[0mindexer\u001b[0m \u001b[1;33m=\u001b[0m \u001b[0mself\u001b[0m\u001b[1;33m.\u001b[0m\u001b[0mloc\u001b[0m\u001b[1;33m.\u001b[0m\u001b[0m_get_listlike_indexer\u001b[0m\u001b[1;33m(\u001b[0m\u001b[0mkey\u001b[0m\u001b[1;33m,\u001b[0m \u001b[0maxis\u001b[0m\u001b[1;33m=\u001b[0m\u001b[1;36m1\u001b[0m\u001b[1;33m)\u001b[0m\u001b[1;33m[\u001b[0m\u001b[1;36m1\u001b[0m\u001b[1;33m]\u001b[0m\u001b[1;33m\u001b[0m\u001b[1;33m\u001b[0m\u001b[0m\n\u001b[0m\u001b[0;32m   3465\u001b[0m \u001b[1;33m\u001b[0m\u001b[0m\n\u001b[0;32m   3466\u001b[0m         \u001b[1;31m# take() does not accept boolean indexers\u001b[0m\u001b[1;33m\u001b[0m\u001b[1;33m\u001b[0m\u001b[0m\n",
      "\u001b[1;32m~\\anaconda3\\lib\\site-packages\\pandas\\core\\indexing.py\u001b[0m in \u001b[0;36m_get_listlike_indexer\u001b[1;34m(self, key, axis)\u001b[0m\n\u001b[0;32m   1312\u001b[0m             \u001b[0mkeyarr\u001b[0m\u001b[1;33m,\u001b[0m \u001b[0mindexer\u001b[0m\u001b[1;33m,\u001b[0m \u001b[0mnew_indexer\u001b[0m \u001b[1;33m=\u001b[0m \u001b[0max\u001b[0m\u001b[1;33m.\u001b[0m\u001b[0m_reindex_non_unique\u001b[0m\u001b[1;33m(\u001b[0m\u001b[0mkeyarr\u001b[0m\u001b[1;33m)\u001b[0m\u001b[1;33m\u001b[0m\u001b[1;33m\u001b[0m\u001b[0m\n\u001b[0;32m   1313\u001b[0m \u001b[1;33m\u001b[0m\u001b[0m\n\u001b[1;32m-> 1314\u001b[1;33m         \u001b[0mself\u001b[0m\u001b[1;33m.\u001b[0m\u001b[0m_validate_read_indexer\u001b[0m\u001b[1;33m(\u001b[0m\u001b[0mkeyarr\u001b[0m\u001b[1;33m,\u001b[0m \u001b[0mindexer\u001b[0m\u001b[1;33m,\u001b[0m \u001b[0maxis\u001b[0m\u001b[1;33m)\u001b[0m\u001b[1;33m\u001b[0m\u001b[1;33m\u001b[0m\u001b[0m\n\u001b[0m\u001b[0;32m   1315\u001b[0m \u001b[1;33m\u001b[0m\u001b[0m\n\u001b[0;32m   1316\u001b[0m         if needs_i8_conversion(ax.dtype) or isinstance(\n",
      "\u001b[1;32m~\\anaconda3\\lib\\site-packages\\pandas\\core\\indexing.py\u001b[0m in \u001b[0;36m_validate_read_indexer\u001b[1;34m(self, key, indexer, axis)\u001b[0m\n\u001b[0;32m   1372\u001b[0m                 \u001b[1;32mif\u001b[0m \u001b[0muse_interval_msg\u001b[0m\u001b[1;33m:\u001b[0m\u001b[1;33m\u001b[0m\u001b[1;33m\u001b[0m\u001b[0m\n\u001b[0;32m   1373\u001b[0m                     \u001b[0mkey\u001b[0m \u001b[1;33m=\u001b[0m \u001b[0mlist\u001b[0m\u001b[1;33m(\u001b[0m\u001b[0mkey\u001b[0m\u001b[1;33m)\u001b[0m\u001b[1;33m\u001b[0m\u001b[1;33m\u001b[0m\u001b[0m\n\u001b[1;32m-> 1374\u001b[1;33m                 \u001b[1;32mraise\u001b[0m \u001b[0mKeyError\u001b[0m\u001b[1;33m(\u001b[0m\u001b[1;34mf\"None of [{key}] are in the [{axis_name}]\"\u001b[0m\u001b[1;33m)\u001b[0m\u001b[1;33m\u001b[0m\u001b[1;33m\u001b[0m\u001b[0m\n\u001b[0m\u001b[0;32m   1375\u001b[0m \u001b[1;33m\u001b[0m\u001b[0m\n\u001b[0;32m   1376\u001b[0m             \u001b[0mnot_found\u001b[0m \u001b[1;33m=\u001b[0m \u001b[0mlist\u001b[0m\u001b[1;33m(\u001b[0m\u001b[0mensure_index\u001b[0m\u001b[1;33m(\u001b[0m\u001b[0mkey\u001b[0m\u001b[1;33m)\u001b[0m\u001b[1;33m[\u001b[0m\u001b[0mmissing_mask\u001b[0m\u001b[1;33m.\u001b[0m\u001b[0mnonzero\u001b[0m\u001b[1;33m(\u001b[0m\u001b[1;33m)\u001b[0m\u001b[1;33m[\u001b[0m\u001b[1;36m0\u001b[0m\u001b[1;33m]\u001b[0m\u001b[1;33m]\u001b[0m\u001b[1;33m.\u001b[0m\u001b[0munique\u001b[0m\u001b[1;33m(\u001b[0m\u001b[1;33m)\u001b[0m\u001b[1;33m)\u001b[0m\u001b[1;33m\u001b[0m\u001b[1;33m\u001b[0m\u001b[0m\n",
      "\u001b[1;31mKeyError\u001b[0m: \"None of [Index(['ScheduledDay'], dtype='object')] are in the [columns]\""
     ]
    }
   ],
   "source": [
    "\n",
    "df[['ScheduledDay']] = df[['ScheduledDay']].replace(dict.fromkeys(['Monday','Tuesday','Wednesday','Thursday','Friday'], 'Weekday'))\n",
    "df[['ScheduledDay']] = df[['ScheduledDay']].replace(dict.fromkeys(['Saturday'], 'Weekend'))\n",
    "df['SMS_received'].replace(True, 1,inplace=True)\n",
    "df['SMS_received'].replace(False, 0,inplace=True)\n",
    "df['reminder_received'].replace(True, 1,inplace=True)\n",
    "df['reminder_received'].replace(False, 0,inplace=True)\n",
    "df['techinician_assigned'].replace(True, 1,inplace=True)\n",
    "df['techinician_assigned'].replace(False, 0,inplace=True)\n",
    "df['new_issue'].replace(True, 1,inplace=True)\n",
    "df['new_issue'].replace(False, 0,inplace=True)\n",
    "df['no_show'].replace(True, 1,inplace=True)\n",
    "df['no_show'].replace(False, 0,inplace=True)\n",
    "df.head()"
   ]
  },
  {
   "cell_type": "code",
   "execution_count": 41,
   "id": "c026d157",
   "metadata": {},
   "outputs": [
    {
     "data": {
      "text/html": [
       "<div>\n",
       "<style scoped>\n",
       "    .dataframe tbody tr th:only-of-type {\n",
       "        vertical-align: middle;\n",
       "    }\n",
       "\n",
       "    .dataframe tbody tr th {\n",
       "        vertical-align: top;\n",
       "    }\n",
       "\n",
       "    .dataframe thead th {\n",
       "        text-align: right;\n",
       "    }\n",
       "</style>\n",
       "<table border=\"1\" class=\"dataframe\">\n",
       "  <thead>\n",
       "    <tr style=\"text-align: right;\">\n",
       "      <th></th>\n",
       "      <th>customerid</th>\n",
       "      <th>appointmentid</th>\n",
       "      <th>cust_age</th>\n",
       "      <th>cust_gender</th>\n",
       "      <th>build_year</th>\n",
       "      <th>vehicle_age</th>\n",
       "      <th>vehicle_type</th>\n",
       "      <th>vehicle_oem</th>\n",
       "      <th>appointment_day</th>\n",
       "      <th>appointmentday</th>\n",
       "      <th>scheduleddate</th>\n",
       "      <th>scheduledday</th>\n",
       "      <th>sms_received</th>\n",
       "      <th>reminder_received</th>\n",
       "      <th>issue_arena</th>\n",
       "      <th>issue_criticality</th>\n",
       "      <th>issue_severity</th>\n",
       "      <th>last_serviced_date</th>\n",
       "      <th>techinician_assigned</th>\n",
       "      <th>new_issue</th>\n",
       "      <th>no_show</th>\n",
       "    </tr>\n",
       "  </thead>\n",
       "  <tbody>\n",
       "    <tr>\n",
       "      <th>0</th>\n",
       "      <td>1611230</td>\n",
       "      <td>6444255</td>\n",
       "      <td>52</td>\n",
       "      <td>F e m a l e</td>\n",
       "      <td>2013</td>\n",
       "      <td>9</td>\n",
       "      <td>Wagon</td>\n",
       "      <td>Nissan</td>\n",
       "      <td>09/18/2022</td>\n",
       "      <td>Sunday</td>\n",
       "      <td>10-01-2022 11:45</td>\n",
       "      <td>Weekend</td>\n",
       "      <td>0</td>\n",
       "      <td>False</td>\n",
       "      <td>Replace front brakes</td>\n",
       "      <td>High</td>\n",
       "      <td>High</td>\n",
       "      <td>10-01-2022</td>\n",
       "      <td>True</td>\n",
       "      <td>True</td>\n",
       "      <td>False</td>\n",
       "    </tr>\n",
       "    <tr>\n",
       "      <th>1</th>\n",
       "      <td>1421250</td>\n",
       "      <td>4988481</td>\n",
       "      <td>21</td>\n",
       "      <td>F e m a l e</td>\n",
       "      <td>2008</td>\n",
       "      <td>14</td>\n",
       "      <td>Sedan</td>\n",
       "      <td>Chrysler</td>\n",
       "      <td>06/21/2022</td>\n",
       "      <td>Tuesday</td>\n",
       "      <td>06-29-2022 4:10</td>\n",
       "      <td>Weekday</td>\n",
       "      <td>1</td>\n",
       "      <td>True</td>\n",
       "      <td>Perform Tire Rotation and wheel balance</td>\n",
       "      <td>low</td>\n",
       "      <td>medium</td>\n",
       "      <td>06-29-2022</td>\n",
       "      <td>True</td>\n",
       "      <td>True</td>\n",
       "      <td>True</td>\n",
       "    </tr>\n",
       "    <tr>\n",
       "      <th>2</th>\n",
       "      <td>107824</td>\n",
       "      <td>460559</td>\n",
       "      <td>42</td>\n",
       "      <td>M a l e</td>\n",
       "      <td>2019</td>\n",
       "      <td>3</td>\n",
       "      <td>SUV</td>\n",
       "      <td>GMC</td>\n",
       "      <td>01/04/2022</td>\n",
       "      <td>Tuesday</td>\n",
       "      <td>01-13-2022 11:35</td>\n",
       "      <td>Weekday</td>\n",
       "      <td>0</td>\n",
       "      <td>True</td>\n",
       "      <td>Engine Coolant Fluid Exchange</td>\n",
       "      <td>High</td>\n",
       "      <td>High</td>\n",
       "      <td>01-13-2022</td>\n",
       "      <td>True</td>\n",
       "      <td>False</td>\n",
       "      <td>False</td>\n",
       "    </tr>\n",
       "    <tr>\n",
       "      <th>3</th>\n",
       "      <td>985577</td>\n",
       "      <td>6992048</td>\n",
       "      <td>35</td>\n",
       "      <td>M a l e</td>\n",
       "      <td>2013</td>\n",
       "      <td>9</td>\n",
       "      <td>Sedan</td>\n",
       "      <td>Nissan</td>\n",
       "      <td>02/09/2022</td>\n",
       "      <td>Wednesday</td>\n",
       "      <td>02-21-2022 10:15</td>\n",
       "      <td>Weekday</td>\n",
       "      <td>1</td>\n",
       "      <td>False</td>\n",
       "      <td>Oil Change - Synthetic Oil</td>\n",
       "      <td>medium</td>\n",
       "      <td>medium</td>\n",
       "      <td>02-21-2022</td>\n",
       "      <td>False</td>\n",
       "      <td>True</td>\n",
       "      <td>False</td>\n",
       "    </tr>\n",
       "    <tr>\n",
       "      <th>4</th>\n",
       "      <td>2774515</td>\n",
       "      <td>3707674</td>\n",
       "      <td>26</td>\n",
       "      <td>M a l e</td>\n",
       "      <td>2008</td>\n",
       "      <td>14</td>\n",
       "      <td>SUV</td>\n",
       "      <td>Tesla</td>\n",
       "      <td>07/20/2022</td>\n",
       "      <td>Wednesday</td>\n",
       "      <td>07-27-2022 8:45</td>\n",
       "      <td>Weekday</td>\n",
       "      <td>1</td>\n",
       "      <td>True</td>\n",
       "      <td>Headlamp restoration</td>\n",
       "      <td>medium</td>\n",
       "      <td>High</td>\n",
       "      <td>07-27-2022</td>\n",
       "      <td>True</td>\n",
       "      <td>True</td>\n",
       "      <td>False</td>\n",
       "    </tr>\n",
       "  </tbody>\n",
       "</table>\n",
       "</div>"
      ],
      "text/plain": [
       "   customerid  appointmentid  cust_age  cust_gender  build_year  vehicle_age  \\\n",
       "0     1611230        6444255        52  F e m a l e        2013            9   \n",
       "1     1421250        4988481        21  F e m a l e        2008           14   \n",
       "2      107824         460559        42      M a l e        2019            3   \n",
       "3      985577        6992048        35      M a l e        2013            9   \n",
       "4     2774515        3707674        26      M a l e        2008           14   \n",
       "\n",
       "  vehicle_type vehicle_oem appointment_day appointmentday     scheduleddate  \\\n",
       "0        Wagon      Nissan      09/18/2022         Sunday  10-01-2022 11:45   \n",
       "1        Sedan    Chrysler      06/21/2022        Tuesday   06-29-2022 4:10   \n",
       "2          SUV         GMC      01/04/2022        Tuesday  01-13-2022 11:35   \n",
       "3        Sedan      Nissan      02/09/2022      Wednesday  02-21-2022 10:15   \n",
       "4          SUV       Tesla      07/20/2022      Wednesday   07-27-2022 8:45   \n",
       "\n",
       "  scheduledday  sms_received  reminder_received  \\\n",
       "0      Weekend             0              False   \n",
       "1      Weekday             1               True   \n",
       "2      Weekday             0               True   \n",
       "3      Weekday             1              False   \n",
       "4      Weekday             1               True   \n",
       "\n",
       "                               issue_arena issue_criticality issue_severity  \\\n",
       "0                     Replace front brakes              High           High   \n",
       "1  Perform Tire Rotation and wheel balance               low         medium   \n",
       "2            Engine Coolant Fluid Exchange              High           High   \n",
       "3               Oil Change - Synthetic Oil            medium         medium   \n",
       "4                     Headlamp restoration            medium           High   \n",
       "\n",
       "  last_serviced_date  techinician_assigned  new_issue  no_show  \n",
       "0         10-01-2022                  True       True    False  \n",
       "1         06-29-2022                  True       True     True  \n",
       "2         01-13-2022                  True      False    False  \n",
       "3         02-21-2022                 False       True    False  \n",
       "4         07-27-2022                  True       True    False  "
      ]
     },
     "execution_count": 41,
     "metadata": {},
     "output_type": "execute_result"
    }
   ],
   "source": [
    "#group\n",
    "ranges = [1,3,7,11]\n",
    "labels = ['low', 'medium', 'High']\n",
    "df['issue_criticality'] = pd.cut(df['issue_criticality'], bins = ranges, labels = labels, right = False)\n",
    "df['issue_severity'] = pd.cut(df['issue_severity'], bins = ranges, labels = labels, right = False)\n",
    "df.head()"
   ]
  },
  {
   "cell_type": "code",
   "execution_count": 27,
   "id": "b43d4834",
   "metadata": {},
   "outputs": [
    {
     "data": {
      "text/plain": [
       "['medium', 'High', 'low']\n",
       "Categories (3, object): ['low' < 'medium' < 'High']"
      ]
     },
     "execution_count": 27,
     "metadata": {},
     "output_type": "execute_result"
    }
   ],
   "source": [
    "df.issue_criticality.unique()"
   ]
  },
  {
   "cell_type": "code",
   "execution_count": null,
   "id": "a0f7a399",
   "metadata": {},
   "outputs": [],
   "source": [
    "#df['days_waited'] = df['Appointment Day'] - df['ScheduledDate']\n",
    "#df['days_waited'].describe()"
   ]
  },
  {
   "cell_type": "code",
   "execution_count": 27,
   "id": "bc97d904",
   "metadata": {},
   "outputs": [
    {
     "data": {
      "text/plain": [
       "Index(['customer_id', 'appointment_id', 'cust_age', 'cust_gender',\n",
       "       'build_year', 'vehicle_age', 'vehicle_type', 'vehicle_oem',\n",
       "       'appointment_date', 'appointment_day', 'scheduled_date',\n",
       "       'scheduled_day', 'sms_received', 'reminder_received', 'issue_arena',\n",
       "       'issue_criticality', 'issue_severity', 'last_serviced_date',\n",
       "       'techinician_assigned', 'new_issue', 'no_show'],\n",
       "      dtype='object')"
      ]
     },
     "execution_count": 27,
     "metadata": {},
     "output_type": "execute_result"
    }
   ],
   "source": [
    "df.rename(columns = {'customerid':'customer_id', 'appointmentid':'appointment_id','appointment_day':'appointment_date','appointmentday':'appointment_day',\n",
    "          'scheduleddate':'scheduled_date','scheduledday':'scheduled_day'},inplace = True)\n",
    "df.columns"
   ]
  },
  {
   "cell_type": "code",
   "execution_count": 42,
   "id": "a105eab3",
   "metadata": {},
   "outputs": [
    {
     "data": {
      "text/plain": [
       "M a l e        200569\n",
       "F e m a l e     99506\n",
       "Name: cust_gender, dtype: int64"
      ]
     },
     "execution_count": 42,
     "metadata": {},
     "output_type": "execute_result"
    }
   ],
   "source": [
    "gc = df['cust_gender'].value_counts() #gender count in the dataset\n",
    "gc"
   ]
  },
  {
   "cell_type": "code",
   "execution_count": 43,
   "id": "08c8de7b",
   "metadata": {},
   "outputs": [
    {
     "data": {
      "image/png": "[encoded data removed]",
      "text/plain": [
       "<Figure size 432x288 with 1 Axes>"
      ]
     },
     "metadata": {},
     "output_type": "display_data"
    }
   ],
   "source": [
    "# plot parameters\n",
    "labels = ['Male', 'Female']\n",
    "slices = [195240, 104916]\n",
    "explode = [0, 0.15]\n",
    "# plotting in a pie chart\n",
    "plt.pie(slices, labels =labels, explode = explode, shadow = True, startangle = 270, autopct='%1.1f%%')\n",
    "plt.axis('equal')\n",
    "plt.title(\"Gender Ratio In The Dataset\");"
   ]
  },
  {
   "cell_type": "code",
   "execution_count": 44,
   "id": "2da48db1",
   "metadata": {},
   "outputs": [
    {
     "data": {
      "text/plain": [
       "<bound method NDFrame.head of         customerid  appointmentid  cust_age  cust_gender  build_year  \\\n",
       "0          1611230        6444255        52  F e m a l e        2013   \n",
       "1          1421250        4988481        21  F e m a l e        2008   \n",
       "2           107824         460559        42      M a l e        2019   \n",
       "3           985577        6992048        35      M a l e        2013   \n",
       "4          2774515        3707674        26      M a l e        2008   \n",
       "...            ...            ...       ...          ...         ...   \n",
       "300070     1542471        1383800        46      M a l e        2021   \n",
       "300071     4565902        8669281        49  F e m a l e        2020   \n",
       "300072     4202471         363169        47      M a l e        2014   \n",
       "300073     1854787        4352237        33      M a l e        2017   \n",
       "300074       66732        6624368        44      M a l e        2013   \n",
       "\n",
       "        vehicle_age vehicle_type    vehicle_oem appointment_day  \\\n",
       "0                 9        Wagon         Nissan      09/18/2022   \n",
       "1                14        Sedan       Chrysler      06/21/2022   \n",
       "2                 3          SUV            GMC      01/04/2022   \n",
       "3                 9        Sedan         Nissan      02/09/2022   \n",
       "4                14          SUV          Tesla      07/20/2022   \n",
       "...             ...          ...            ...             ...   \n",
       "300070            1        Sedan            Kia      01/30/2022   \n",
       "300071            2        Coupe  Mercedes-Benz      03/02/2022   \n",
       "300072            8        Coupe        Porsche      02/06/2022   \n",
       "300073            5    Hatchback           FIAT      02/11/2022   \n",
       "300074            9        Sedan          Tesla      03/29/2022   \n",
       "\n",
       "       appointmentday     scheduleddate scheduledday  sms_received  \\\n",
       "0              Sunday  10-01-2022 11:45      Weekend             0   \n",
       "1             Tuesday   06-29-2022 4:10      Weekday             1   \n",
       "2             Tuesday  01-13-2022 11:35      Weekday             0   \n",
       "3           Wednesday  02-21-2022 10:15      Weekday             1   \n",
       "4           Wednesday   07-27-2022 8:45      Weekday             1   \n",
       "...               ...               ...          ...           ...   \n",
       "300070         Sunday  02-15-2022 10:60      Weekday             1   \n",
       "300071      Wednesday   03-18-2022 1:10      Weekday             1   \n",
       "300072         Sunday  02-16-2022 11:55      Weekday             0   \n",
       "300073         Friday  03-01-2022 11:30      Weekday             0   \n",
       "300074        Tuesday   03-29-2022 12:5      Weekday             0   \n",
       "\n",
       "        reminder_received                              issue_arena  \\\n",
       "0                   False                     Replace front brakes   \n",
       "1                    True  Perform Tire Rotation and wheel balance   \n",
       "2                    True            Engine Coolant Fluid Exchange   \n",
       "3                   False               Oil Change - Synthetic Oil   \n",
       "4                    True                     Headlamp restoration   \n",
       "...                   ...                                      ...   \n",
       "300070               True                Replace one or more bulbs   \n",
       "300071              False                           Exhaust repair   \n",
       "300072               True               Rear and Front Axle repair   \n",
       "300073               True  Perform Tire Rotation and wheel balance   \n",
       "300074               True     Replace Engine and Cabin Air Filters   \n",
       "\n",
       "       issue_criticality issue_severity last_serviced_date  \\\n",
       "0                   High           High         10-01-2022   \n",
       "1                    low         medium         06-29-2022   \n",
       "2                   High           High         01-13-2022   \n",
       "3                 medium         medium         02-21-2022   \n",
       "4                 medium           High         07-27-2022   \n",
       "...                  ...            ...                ...   \n",
       "300070            medium         medium         02-15-2022   \n",
       "300071            medium         medium         03-18-2022   \n",
       "300072              High           High         02-16-2022   \n",
       "300073               low         medium         03-01-2022   \n",
       "300074            medium         medium         03-29-2022   \n",
       "\n",
       "        techinician_assigned  new_issue  no_show  \n",
       "0                       True       True    False  \n",
       "1                       True       True     True  \n",
       "2                       True      False    False  \n",
       "3                      False       True    False  \n",
       "4                       True       True    False  \n",
       "...                      ...        ...      ...  \n",
       "300070                 False       True     True  \n",
       "300071                 False       True    False  \n",
       "300072                  True       True    False  \n",
       "300073                 False       True    False  \n",
       "300074                  True       True    False  \n",
       "\n",
       "[300075 rows x 21 columns]>"
      ]
     },
     "execution_count": 44,
     "metadata": {},
     "output_type": "execute_result"
    }
   ],
   "source": [
    "df.head"
   ]
  },
  {
   "cell_type": "code",
   "execution_count": 45,
   "id": "9ca5fb52",
   "metadata": {},
   "outputs": [
    {
     "data": {
      "text/plain": [
       "False    80.540198\n",
       "True     19.459802\n",
       "Name: no_show, dtype: float64"
      ]
     },
     "execution_count": 45,
     "metadata": {},
     "output_type": "execute_result"
    }
   ],
   "source": [
    "pct_miss = df['no_show'].value_counts(normalize = True) * 100\n",
    "pct_miss"
   ]
  },
  {
   "cell_type": "code",
   "execution_count": 46,
   "id": "7f778b87",
   "metadata": {},
   "outputs": [
    {
     "data": {
      "image/png": "[encoded data removed]",
      "text/plain": [
       "<Figure size 432x288 with 1 Axes>"
      ]
     },
     "metadata": {},
     "output_type": "display_data"
    }
   ],
   "source": [
    "pct_miss.plot(kind = 'pie',autopct='%1.1f%%',explode = [0.1,0], startangle = 0)\n",
    "plt.axis('equal')\n",
    "plt.ylabel(\"\")\n",
    "plt.legend(title = 'Missed Appointment ?')\n",
    "plt.title('What Percentage Of Individuals Miss Their Appointments?', fontdict= {'fontsize':14});"
   ]
  },
  {
   "cell_type": "code",
   "execution_count": 47,
   "id": "c7e44c19",
   "metadata": {},
   "outputs": [
    {
     "data": {
      "text/plain": [
       "cust_gender  no_show\n",
       "F e m a l e  False      0.805338\n",
       "             True       0.194662\n",
       "M a l e      False      0.805434\n",
       "             True       0.194566\n",
       "Name: no_show, dtype: float64"
      ]
     },
     "execution_count": 47,
     "metadata": {},
     "output_type": "execute_result"
    }
   ],
   "source": [
    "# percentage of each gender that showed up for their appointments\n",
    "g_show = df.groupby('cust_gender')['no_show'].value_counts(normalize = True) \n",
    "g_show"
   ]
  },
  {
   "cell_type": "code",
   "execution_count": 12,
   "id": "5188e7ad",
   "metadata": {},
   "outputs": [
    {
     "data": {
      "text/html": [
       "<div>\n",
       "<style scoped>\n",
       "    .dataframe tbody tr th:only-of-type {\n",
       "        vertical-align: middle;\n",
       "    }\n",
       "\n",
       "    .dataframe tbody tr th {\n",
       "        vertical-align: top;\n",
       "    }\n",
       "\n",
       "    .dataframe thead th {\n",
       "        text-align: right;\n",
       "    }\n",
       "</style>\n",
       "<table border=\"1\" class=\"dataframe\">\n",
       "  <thead>\n",
       "    <tr style=\"text-align: right;\">\n",
       "      <th></th>\n",
       "      <th>cust_gender</th>\n",
       "      <th>no_show</th>\n",
       "      <th>perc</th>\n",
       "    </tr>\n",
       "  </thead>\n",
       "  <tbody>\n",
       "    <tr>\n",
       "      <th>0</th>\n",
       "      <td>Female</td>\n",
       "      <td>False</td>\n",
       "      <td>0.949228</td>\n",
       "    </tr>\n",
       "    <tr>\n",
       "      <th>1</th>\n",
       "      <td>Female</td>\n",
       "      <td>True</td>\n",
       "      <td>0.050772</td>\n",
       "    </tr>\n",
       "    <tr>\n",
       "      <th>2</th>\n",
       "      <td>Male</td>\n",
       "      <td>False</td>\n",
       "      <td>0.950815</td>\n",
       "    </tr>\n",
       "    <tr>\n",
       "      <th>3</th>\n",
       "      <td>Male</td>\n",
       "      <td>True</td>\n",
       "      <td>0.049185</td>\n",
       "    </tr>\n",
       "  </tbody>\n",
       "</table>\n",
       "</div>"
      ],
      "text/plain": [
       "  cust_gender  no_show      perc\n",
       "0      Female    False  0.949228\n",
       "1      Female     True  0.050772\n",
       "2        Male    False  0.950815\n",
       "3        Male     True  0.049185"
      ]
     },
     "execution_count": 12,
     "metadata": {},
     "output_type": "execute_result"
    }
   ],
   "source": [
    "g_show = g_show.reset_index(name = 'perc')\n",
    "g_show"
   ]
  },
  {
   "cell_type": "code",
   "execution_count": 13,
   "id": "348f4977",
   "metadata": {},
   "outputs": [
    {
     "data": {
      "image/png": "[encoded data removed]",
      "text/plain": [
       "<Figure size 421.25x360 with 1 Axes>"
      ]
     },
     "metadata": {
      "needs_background": "light"
     },
     "output_type": "display_data"
    }
   ],
   "source": [
    "sns.catplot(data = g_show, x = 'cust_gender', y = 'perc', hue = 'no_show', kind = 'bar');"
   ]
  },
  {
   "cell_type": "code",
   "execution_count": 32,
   "id": "711052bc",
   "metadata": {},
   "outputs": [
    {
     "data": {
      "text/plain": [
       "High      112361\n",
       "medium     97250\n",
       "low        90228\n",
       "Name: issue_criticality, dtype: int64"
      ]
     },
     "execution_count": 32,
     "metadata": {},
     "output_type": "execute_result"
    }
   ],
   "source": [
    "gc = df['issue_criticality'].value_counts() #gender count in the dataset\n",
    "gc"
   ]
  },
  {
   "cell_type": "code",
   "execution_count": 33,
   "id": "af576451",
   "metadata": {},
   "outputs": [
    {
     "data": {
      "text/plain": [
       "issue_criticality  no_show\n",
       "low                False      0.719965\n",
       "                   True       0.280035\n",
       "medium             False      0.718252\n",
       "                   True       0.281748\n",
       "High               False      0.951754\n",
       "                   True       0.048246\n",
       "Name: no_show, dtype: float64"
      ]
     },
     "execution_count": 33,
     "metadata": {},
     "output_type": "execute_result"
    }
   ],
   "source": [
    "g_show = df.groupby('issue_criticality')['no_show'].value_counts(normalize = True) \n",
    "g_show"
   ]
  },
  {
   "cell_type": "code",
   "execution_count": 39,
   "id": "c7c53704",
   "metadata": {},
   "outputs": [
    {
     "data": {
      "text/plain": [
       "techinician_assigned  no_show\n",
       "False                 False      0.717017\n",
       "                      True       0.282983\n",
       "True                  False      0.720030\n",
       "                      True       0.279970\n",
       "Name: no_show, dtype: float64"
      ]
     },
     "execution_count": 39,
     "metadata": {},
     "output_type": "execute_result"
    }
   ],
   "source": [
    "g_show = df.groupby('techinician_assigned')['no_show'].value_counts(normalize = True) \n",
    "g_show"
   ]
  },
  {
   "cell_type": "code",
   "execution_count": null,
   "id": "ad69fecc",
   "metadata": {},
   "outputs": [],
   "source": []
  }
 ],
 "metadata": {
  "kernelspec": {
   "display_name": "Python 3 (ipykernel)",
   "language": "python",
   "name": "python3"
  },
  "language_info": {
   "codemirror_mode": {
    "name": "ipython",
    "version": 3
   },
   "file_extension": ".py",
   "mimetype": "text/x-python",
   "name": "python",
   "nbconvert_exporter": "python",
   "pygments_lexer": "ipython3",
   "version": "3.9.7"
  }
 },
 "nbformat": 4,
 "nbformat_minor": 5
}
