{
 "cells": [
  {
   "cell_type": "code",
   "execution_count": 229,
   "id": "05a2e259",
   "metadata": {},
   "outputs": [],
   "source": [
    "%matplotlib inline\n",
    "import numpy as np\n",
    "import pandas as pd\n",
    "import matplotlib.pylab as plt\n",
    "import seaborn as sns\n",
    "from sklearn import preprocessing  # imputing and scale\n",
    "from sklearn.model_selection import train_test_split\n",
    "from sklearn import neighbors\n",
    "from sklearn.decomposition import PCA  #principal components Analysis\n",
    "from sklearn.impute import KNNImputer   # missing values imputation\n",
    "from pandas.plotting import scatter_matrix  #scatter matrix correlation , scatter\n",
    "from sklearn.preprocessing import KBinsDiscretizer\n",
    "import matplotlib.pyplot as plt1\n",
    "from sklearn.cluster import KMeans  # clustering\n",
    "from sklearn.metrics import silhouette_score #evaluation metric for # of clusters\n",
    "from sklearn.naive_bayes import MultinomialNB  #naive bayes\n",
    "pd.set_option('display.max_columns', 100) #display more jupyter notebook\n",
    "pd.set_option('display.max_rows', 100)  # display rows\n",
    "from sklearn.metrics import average_precision_score\n",
    "from sklearn.metrics import confusion_matrix \n",
    "from sklearn.metrics import accuracy_score  #preditive accuracy\n",
    "from sklearn.metrics import precision_score #precision\n",
    "from sklearn.metrics import recall_score  #recall\n",
    "from sklearn.metrics import auc  #area under curve\n",
    "from sklearn.metrics import roc_auc_score  \n",
    "from sklearn.metrics import log_loss  #log loss\n",
    "from sklearn.metrics import f1_score  #f1 score\n",
    "from sklearn.metrics import roc_curve #plot roc curve\n",
    "from sklearn.metrics import precision_recall_curve  # plot precision recall\n",
    "from sklearn.linear_model import LinearRegression, Lasso, Ridge,RidgeCV, LassoCV, BayesianRidge,ElasticNet,ElasticNetCV\n",
    "import itertools \n",
    "from sklearn.metrics import mean_squared_error   #RMSE\n",
    "from sklearn.metrics import mean_absolute_error  #MAE/MAD\n",
    "from sklearn.neighbors import KNeighborsRegressor  #classification algorithm\n",
    "from sklearn.tree import DecisionTreeRegressor\n",
    "from sklearn.ensemble import RandomForestRegressor, GradientBoostingRegressor\n",
    "from sklearn.model_selection import GridSearchCV\n",
    "from dmba import plotDecisionTree  #pip install dmba\n",
    "#dmba is dependent on pydotplus and graphviz\n",
    "#conda install graphviz\n",
    "#conda install -c conda-forge pydotplus\n",
    "import os\n",
    "os.environ[\"PATH\"] += os.pathsep + 'C:\\Program Files (x86)\\Graphviz2.38/bin/'\n",
    "import warnings\n",
    "warnings.filterwarnings('ignore')\n",
    "from IPython.display import Image\n",
    "#import graphviz\n",
    "\n",
    "\n",
    "#from sklearn.tree import DecisionTreeRegressor\n",
    "from sklearn import tree\n",
    "from sklearn.tree import plot_tree\n",
    "#from sklearn.tree import DecisionTreeClassifier\n",
    "\n",
    "from sklearn.model_selection import GridSearchCV\n",
    "#from sklearn.neural_network import MLPClassifier\n",
    "#from sklearn.ensemble import RandomForestRegressor\n",
    "from sklearn.datasets import load_iris\n",
    "#from dmba import plotDecisionTree\n",
    "#import pydotplus\n",
    "#from yellowbrick.datasets import load_concrete\n",
    "#from yellowbrick.regressor import PredictionError\n",
    "import matplotlib\n",
    "#matplotlib.use('TkAgg')\n",
    "import matplotlib.pyplot as pl\n"
   ]
  },
  {
   "cell_type": "code",
   "execution_count": 285,
   "id": "fb35d0cf",
   "metadata": {},
   "outputs": [
    {
     "data": {
      "text/html": [
       "<div>\n",
       "<style scoped>\n",
       "    .dataframe tbody tr th:only-of-type {\n",
       "        vertical-align: middle;\n",
       "    }\n",
       "\n",
       "    .dataframe tbody tr th {\n",
       "        vertical-align: top;\n",
       "    }\n",
       "\n",
       "    .dataframe thead th {\n",
       "        text-align: right;\n",
       "    }\n",
       "</style>\n",
       "<table border=\"1\" class=\"dataframe\">\n",
       "  <thead>\n",
       "    <tr style=\"text-align: right;\">\n",
       "      <th></th>\n",
       "      <th>CustomerId</th>\n",
       "      <th>AppointmentID</th>\n",
       "      <th>Cust Age</th>\n",
       "      <th>Cust Gender</th>\n",
       "      <th>Build Year</th>\n",
       "      <th>Vehicle Age</th>\n",
       "      <th>Vehicle Type</th>\n",
       "      <th>Vehicle OEM</th>\n",
       "      <th>Appointment Day</th>\n",
       "      <th>AppointmentDay</th>\n",
       "      <th>ScheduledDate</th>\n",
       "      <th>ScheduledDay</th>\n",
       "      <th>SMS_received</th>\n",
       "      <th>Reminder received</th>\n",
       "      <th>Issue Arena</th>\n",
       "      <th>Issue Criticality</th>\n",
       "      <th>Issue Severity</th>\n",
       "      <th>Last Serviced date</th>\n",
       "      <th>Techinician assigned</th>\n",
       "      <th>New Issue</th>\n",
       "      <th>No-show</th>\n",
       "    </tr>\n",
       "  </thead>\n",
       "  <tbody>\n",
       "    <tr>\n",
       "      <th>0</th>\n",
       "      <td>1563014</td>\n",
       "      <td>6149830</td>\n",
       "      <td>25</td>\n",
       "      <td>Male</td>\n",
       "      <td>2002</td>\n",
       "      <td>20</td>\n",
       "      <td>Hatchback</td>\n",
       "      <td>BMW</td>\n",
       "      <td>09/17/2022</td>\n",
       "      <td>Saturday</td>\n",
       "      <td>10-03-2022 8:25</td>\n",
       "      <td>Monday</td>\n",
       "      <td>False</td>\n",
       "      <td>False</td>\n",
       "      <td>Replace rear brakes</td>\n",
       "      <td>10</td>\n",
       "      <td>10</td>\n",
       "      <td>10-03-2022</td>\n",
       "      <td>False</td>\n",
       "      <td>False</td>\n",
       "      <td>False</td>\n",
       "    </tr>\n",
       "    <tr>\n",
       "      <th>1</th>\n",
       "      <td>4065606</td>\n",
       "      <td>6707205</td>\n",
       "      <td>52</td>\n",
       "      <td>Male</td>\n",
       "      <td>2017</td>\n",
       "      <td>5</td>\n",
       "      <td>Minivan</td>\n",
       "      <td>GMC</td>\n",
       "      <td>05/18/2022</td>\n",
       "      <td>Wednesday</td>\n",
       "      <td>06-04-2022 2:30</td>\n",
       "      <td>Saturday</td>\n",
       "      <td>False</td>\n",
       "      <td>False</td>\n",
       "      <td>Battery Maintenance Service</td>\n",
       "      <td>2</td>\n",
       "      <td>3</td>\n",
       "      <td>06-04-2022</td>\n",
       "      <td>False</td>\n",
       "      <td>False</td>\n",
       "      <td>False</td>\n",
       "    </tr>\n",
       "    <tr>\n",
       "      <th>2</th>\n",
       "      <td>811817</td>\n",
       "      <td>5568312</td>\n",
       "      <td>27</td>\n",
       "      <td>Male</td>\n",
       "      <td>2006</td>\n",
       "      <td>16</td>\n",
       "      <td>Wagon</td>\n",
       "      <td>Nissan</td>\n",
       "      <td>06/11/2022</td>\n",
       "      <td>Saturday</td>\n",
       "      <td>06-30-2022 6:40</td>\n",
       "      <td>Thursday</td>\n",
       "      <td>False</td>\n",
       "      <td>False</td>\n",
       "      <td>Install Premium Fuel Treatment</td>\n",
       "      <td>2</td>\n",
       "      <td>1</td>\n",
       "      <td>06-30-2022</td>\n",
       "      <td>True</td>\n",
       "      <td>False</td>\n",
       "      <td>False</td>\n",
       "    </tr>\n",
       "    <tr>\n",
       "      <th>3</th>\n",
       "      <td>3737986</td>\n",
       "      <td>8797591</td>\n",
       "      <td>26</td>\n",
       "      <td>Male</td>\n",
       "      <td>2007</td>\n",
       "      <td>15</td>\n",
       "      <td>SUV</td>\n",
       "      <td>BMW</td>\n",
       "      <td>08/25/2022</td>\n",
       "      <td>Thursday</td>\n",
       "      <td>09-09-2022 3:25</td>\n",
       "      <td>Friday</td>\n",
       "      <td>True</td>\n",
       "      <td>False</td>\n",
       "      <td>Install Nitrogen into all Tires</td>\n",
       "      <td>2</td>\n",
       "      <td>2</td>\n",
       "      <td>09-09-2022</td>\n",
       "      <td>False</td>\n",
       "      <td>True</td>\n",
       "      <td>True</td>\n",
       "    </tr>\n",
       "    <tr>\n",
       "      <th>4</th>\n",
       "      <td>697291</td>\n",
       "      <td>3057583</td>\n",
       "      <td>26</td>\n",
       "      <td>Male</td>\n",
       "      <td>2009</td>\n",
       "      <td>13</td>\n",
       "      <td>Hatchback</td>\n",
       "      <td>FIAT</td>\n",
       "      <td>07/12/2022</td>\n",
       "      <td>Tuesday</td>\n",
       "      <td>07-12-2022 8:50</td>\n",
       "      <td>Tuesday</td>\n",
       "      <td>False</td>\n",
       "      <td>True</td>\n",
       "      <td>Replace cabin air filter</td>\n",
       "      <td>5</td>\n",
       "      <td>2</td>\n",
       "      <td>07-12-2022</td>\n",
       "      <td>True</td>\n",
       "      <td>False</td>\n",
       "      <td>False</td>\n",
       "    </tr>\n",
       "  </tbody>\n",
       "</table>\n",
       "</div>"
      ],
      "text/plain": [
       "   CustomerId  AppointmentID  Cust Age Cust Gender  Build Year  Vehicle Age  \\\n",
       "0     1563014        6149830        25        Male        2002           20   \n",
       "1     4065606        6707205        52        Male        2017            5   \n",
       "2      811817        5568312        27        Male        2006           16   \n",
       "3     3737986        8797591        26        Male        2007           15   \n",
       "4      697291        3057583        26        Male        2009           13   \n",
       "\n",
       "  Vehicle Type Vehicle OEM Appointment Day AppointmentDay    ScheduledDate  \\\n",
       "0    Hatchback         BMW      09/17/2022       Saturday  10-03-2022 8:25   \n",
       "1      Minivan         GMC      05/18/2022      Wednesday  06-04-2022 2:30   \n",
       "2        Wagon      Nissan      06/11/2022       Saturday  06-30-2022 6:40   \n",
       "3          SUV         BMW      08/25/2022       Thursday  09-09-2022 3:25   \n",
       "4    Hatchback        FIAT      07/12/2022        Tuesday  07-12-2022 8:50   \n",
       "\n",
       "  ScheduledDay  SMS_received  Reminder received  \\\n",
       "0       Monday         False              False   \n",
       "1     Saturday         False              False   \n",
       "2     Thursday         False              False   \n",
       "3       Friday          True              False   \n",
       "4      Tuesday         False               True   \n",
       "\n",
       "                       Issue Arena  Issue Criticality  Issue Severity  \\\n",
       "0              Replace rear brakes                 10              10   \n",
       "1      Battery Maintenance Service                  2               3   \n",
       "2   Install Premium Fuel Treatment                  2               1   \n",
       "3  Install Nitrogen into all Tires                  2               2   \n",
       "4         Replace cabin air filter                  5               2   \n",
       "\n",
       "  Last Serviced date  Techinician assigned  New Issue  No-show  \n",
       "0         10-03-2022                 False      False    False  \n",
       "1         06-04-2022                 False      False    False  \n",
       "2         06-30-2022                  True      False    False  \n",
       "3         09-09-2022                 False       True     True  \n",
       "4         07-12-2022                  True      False    False  "
      ]
     },
     "execution_count": 285,
     "metadata": {},
     "output_type": "execute_result"
    }
   ],
   "source": [
    "df = pd.read_csv('output.csv')\n",
    "df.head()"
   ]
  },
  {
   "cell_type": "code",
   "execution_count": 231,
   "id": "dabc542a",
   "metadata": {},
   "outputs": [
    {
     "data": {
      "text/plain": [
       "(300156, 21)"
      ]
     },
     "execution_count": 231,
     "metadata": {},
     "output_type": "execute_result"
    }
   ],
   "source": [
    "df.shape"
   ]
  },
  {
   "cell_type": "code",
   "execution_count": 232,
   "id": "c90d40e8",
   "metadata": {},
   "outputs": [
    {
     "name": "stdout",
     "output_type": "stream",
     "text": [
      "<class 'pandas.core.frame.DataFrame'>\n",
      "RangeIndex: 300156 entries, 0 to 300155\n",
      "Data columns (total 21 columns):\n",
      " #   Column                Non-Null Count   Dtype \n",
      "---  ------                --------------   ----- \n",
      " 0   CustomerId            300156 non-null  int64 \n",
      " 1   AppointmentID         300156 non-null  int64 \n",
      " 2   Cust Age              300156 non-null  int64 \n",
      " 3   Cust Gender           300156 non-null  object\n",
      " 4   Build Year            300156 non-null  int64 \n",
      " 5   Vehicle Age           300156 non-null  int64 \n",
      " 6   Vehicle Type          300156 non-null  object\n",
      " 7   Vehicle OEM           300156 non-null  object\n",
      " 8   Appointment Day       300156 non-null  object\n",
      " 9   AppointmentDay        300156 non-null  object\n",
      " 10  ScheduledDate         300156 non-null  object\n",
      " 11  ScheduledDay          300156 non-null  object\n",
      " 12  SMS_received          300156 non-null  bool  \n",
      " 13  Reminder received     300156 non-null  bool  \n",
      " 14  Issue Arena           300156 non-null  object\n",
      " 15  Issue Criticality     300156 non-null  int64 \n",
      " 16  Issue Severity        300156 non-null  int64 \n",
      " 17  Last Serviced date    300156 non-null  object\n",
      " 18  Techinician assigned  300156 non-null  bool  \n",
      " 19  New Issue             300156 non-null  bool  \n",
      " 20  No-show               300156 non-null  bool  \n",
      "dtypes: bool(5), int64(7), object(9)\n",
      "memory usage: 38.1+ MB\n"
     ]
    }
   ],
   "source": [
    "df.info()"
   ]
  },
  {
   "cell_type": "code",
   "execution_count": 287,
   "id": "2f27ac73",
   "metadata": {},
   "outputs": [
    {
     "data": {
      "text/plain": [
       "True"
      ]
     },
     "execution_count": 287,
     "metadata": {},
     "output_type": "execute_result"
    }
   ],
   "source": [
    "df['CustomerId'].duplicated().any()"
   ]
  },
  {
   "cell_type": "code",
   "execution_count": 288,
   "id": "1d3a0061",
   "metadata": {},
   "outputs": [
    {
     "data": {
      "text/plain": [
       "True"
      ]
     },
     "execution_count": 288,
     "metadata": {},
     "output_type": "execute_result"
    }
   ],
   "source": [
    "df['AppointmentID'].duplicated().any()"
   ]
  },
  {
   "cell_type": "markdown",
   "id": "8186d658",
   "metadata": {},
   "source": [
    "# Data Exploration\n",
    "==========================================="
   ]
  },
  {
   "cell_type": "markdown",
   "id": "7da24a6f",
   "metadata": {},
   "source": [
    "# Exploring the shape of the data"
   ]
  },
  {
   "cell_type": "code",
   "execution_count": 233,
   "id": "8952fc52",
   "metadata": {},
   "outputs": [
    {
     "data": {
      "image/png": "[encoded data removed]",
      "text/plain": [
       "<Figure size 1080x720 with 9 Axes>"
      ]
     },
     "metadata": {
      "needs_background": "light"
     },
     "output_type": "display_data"
    }
   ],
   "source": [
    "df.hist(bins=25,figsize=(15,10))\n",
    "plt.show()"
   ]
  },
  {
   "cell_type": "markdown",
   "id": "cf0b7ccd",
   "metadata": {},
   "source": [
    "# Observations\n"
   ]
  },
  {
   "cell_type": "markdown",
   "id": "7b4293bc",
   "metadata": {},
   "source": [
    "# Bar Plot"
   ]
  },
  {
   "cell_type": "markdown",
   "id": "4d3a220f",
   "metadata": {},
   "source": [
    "1) Exploring how the data is categorized into Show and No-Show"
   ]
  },
  {
   "cell_type": "code",
   "execution_count": 234,
   "id": "aa725d43",
   "metadata": {},
   "outputs": [
    {
     "data": {
      "image/png": "[encoded data removed]",
      "text/plain": [
       "<Figure size 432x288 with 1 Axes>"
      ]
     },
     "metadata": {
      "needs_background": "light"
     },
     "output_type": "display_data"
    }
   ],
   "source": [
    "df['No-show'].value_counts().plot(kind='bar');"
   ]
  },
  {
   "cell_type": "markdown",
   "id": "c8c388c3",
   "metadata": {},
   "source": [
    "2) Checking how the data is grouped into different quality"
   ]
  },
  {
   "cell_type": "code",
   "execution_count": 235,
   "id": "13353a9e",
   "metadata": {},
   "outputs": [
    {
     "data": {
      "image/png": "[encoded data removed]",
      "text/plain": [
       "<Figure size 432x288 with 1 Axes>"
      ]
     },
     "metadata": {
      "needs_background": "light"
     },
     "output_type": "display_data"
    }
   ],
   "source": [
    "df['Issue Criticality'].value_counts().plot(kind='bar');\n"
   ]
  },
  {
   "cell_type": "code",
   "execution_count": 236,
   "id": "a52525fc",
   "metadata": {},
   "outputs": [
    {
     "data": {
      "image/png": "[encoded data removed]",
      "text/plain": [
       "<Figure size 432x288 with 1 Axes>"
      ]
     },
     "metadata": {
      "needs_background": "light"
     },
     "output_type": "display_data"
    }
   ],
   "source": [
    "df['Issue Severity'].value_counts().plot(kind='bar');"
   ]
  },
  {
   "cell_type": "code",
   "execution_count": 237,
   "id": "2ac7e47c",
   "metadata": {},
   "outputs": [
    {
     "data": {
      "image/png": "[encoded data removed]",
      "text/plain": [
       "<Figure size 432x288 with 1 Axes>"
      ]
     },
     "metadata": {
      "needs_background": "light"
     },
     "output_type": "display_data"
    }
   ],
   "source": [
    "df['Cust Gender'].value_counts().plot(kind='bar');"
   ]
  },
  {
   "cell_type": "code",
   "execution_count": 238,
   "id": "e347afff",
   "metadata": {},
   "outputs": [],
   "source": [
    "df['Cust Gender'].replace('Female', 0,inplace=True)\n",
    "df['Cust Gender'].replace('Male', 1,inplace=True)\n",
    "df[['AppointmentDay']] = df[['AppointmentDay']].replace(dict.fromkeys(['Monday','Tuesday','Wednesday','Thursday','Friday'], 'Weekday'))\n",
    "df[['AppointmentDay']] = df[['AppointmentDay']].replace(dict.fromkeys(['Saturday','Sunday'], 'Weekend'))\n",
    "df[['ScheduledDay']] = df[['ScheduledDay']].replace(dict.fromkeys(['Monday','Tuesday','Wednesday','Thursday','Friday'], 'Weekday'))\n",
    "df[['ScheduledDay']] = df[['ScheduledDay']].replace(dict.fromkeys(['Saturday','Sunday'], 'Weekend'))\n"
   ]
  },
  {
   "cell_type": "code",
   "execution_count": 239,
   "id": "041f5e80",
   "metadata": {},
   "outputs": [
    {
     "data": {
      "image/png": "[encoded data removed]",
      "text/plain": [
       "<Figure size 432x288 with 1 Axes>"
      ]
     },
     "metadata": {
      "needs_background": "light"
     },
     "output_type": "display_data"
    }
   ],
   "source": [
    "df['ScheduledDay'].value_counts().plot(kind='bar');"
   ]
  },
  {
   "cell_type": "code",
   "execution_count": 240,
   "id": "fd5b9f79",
   "metadata": {},
   "outputs": [
    {
     "data": {
      "image/png": "[encoded data removed]",
      "text/plain": [
       "<Figure size 432x288 with 1 Axes>"
      ]
     },
     "metadata": {
      "needs_background": "light"
     },
     "output_type": "display_data"
    }
   ],
   "source": [
    "df['AppointmentDay'].value_counts().plot(kind='bar');"
   ]
  },
  {
   "cell_type": "code",
   "execution_count": 241,
   "id": "285978fc",
   "metadata": {},
   "outputs": [
    {
     "data": {
      "text/html": [
       "<div>\n",
       "<style scoped>\n",
       "    .dataframe tbody tr th:only-of-type {\n",
       "        vertical-align: middle;\n",
       "    }\n",
       "\n",
       "    .dataframe tbody tr th {\n",
       "        vertical-align: top;\n",
       "    }\n",
       "\n",
       "    .dataframe thead th {\n",
       "        text-align: right;\n",
       "    }\n",
       "</style>\n",
       "<table border=\"1\" class=\"dataframe\">\n",
       "  <thead>\n",
       "    <tr style=\"text-align: right;\">\n",
       "      <th></th>\n",
       "      <th>CustomerId</th>\n",
       "      <th>AppointmentID</th>\n",
       "      <th>Cust Age</th>\n",
       "      <th>Cust Gender</th>\n",
       "      <th>Build Year</th>\n",
       "      <th>Vehicle Age</th>\n",
       "      <th>Issue Criticality</th>\n",
       "      <th>Issue Severity</th>\n",
       "    </tr>\n",
       "  </thead>\n",
       "  <tbody>\n",
       "    <tr>\n",
       "      <th>count</th>\n",
       "      <td>3.001560e+05</td>\n",
       "      <td>3.001560e+05</td>\n",
       "      <td>300156.000000</td>\n",
       "      <td>300156.000000</td>\n",
       "      <td>300156.000000</td>\n",
       "      <td>300156.000000</td>\n",
       "      <td>300156.000000</td>\n",
       "      <td>300156.000000</td>\n",
       "    </tr>\n",
       "    <tr>\n",
       "      <th>mean</th>\n",
       "      <td>2.364427e+06</td>\n",
       "      <td>4.523649e+06</td>\n",
       "      <td>38.979367</td>\n",
       "      <td>0.650462</td>\n",
       "      <td>2011.513373</td>\n",
       "      <td>10.486627</td>\n",
       "      <td>5.442547</td>\n",
       "      <td>6.169129</td>\n",
       "    </tr>\n",
       "    <tr>\n",
       "      <th>std</th>\n",
       "      <td>1.336636e+06</td>\n",
       "      <td>2.545954e+06</td>\n",
       "      <td>12.420099</td>\n",
       "      <td>0.476825</td>\n",
       "      <td>6.349487</td>\n",
       "      <td>6.349487</td>\n",
       "      <td>3.182504</td>\n",
       "      <td>3.159153</td>\n",
       "    </tr>\n",
       "    <tr>\n",
       "      <th>min</th>\n",
       "      <td>4.741100e+04</td>\n",
       "      <td>1.041750e+05</td>\n",
       "      <td>-15.000000</td>\n",
       "      <td>0.000000</td>\n",
       "      <td>1991.000000</td>\n",
       "      <td>0.000000</td>\n",
       "      <td>1.000000</td>\n",
       "      <td>1.000000</td>\n",
       "    </tr>\n",
       "    <tr>\n",
       "      <th>25%</th>\n",
       "      <td>1.208191e+06</td>\n",
       "      <td>2.318808e+06</td>\n",
       "      <td>28.000000</td>\n",
       "      <td>0.000000</td>\n",
       "      <td>2006.000000</td>\n",
       "      <td>5.000000</td>\n",
       "      <td>2.000000</td>\n",
       "      <td>3.000000</td>\n",
       "    </tr>\n",
       "    <tr>\n",
       "      <th>50%</th>\n",
       "      <td>2.363834e+06</td>\n",
       "      <td>4.530523e+06</td>\n",
       "      <td>39.000000</td>\n",
       "      <td>1.000000</td>\n",
       "      <td>2012.000000</td>\n",
       "      <td>10.000000</td>\n",
       "      <td>5.000000</td>\n",
       "      <td>6.000000</td>\n",
       "    </tr>\n",
       "    <tr>\n",
       "      <th>75%</th>\n",
       "      <td>3.521777e+06</td>\n",
       "      <td>6.721646e+06</td>\n",
       "      <td>50.000000</td>\n",
       "      <td>1.000000</td>\n",
       "      <td>2017.000000</td>\n",
       "      <td>16.000000</td>\n",
       "      <td>9.000000</td>\n",
       "      <td>9.000000</td>\n",
       "    </tr>\n",
       "    <tr>\n",
       "      <th>max</th>\n",
       "      <td>4.679972e+06</td>\n",
       "      <td>8.933471e+06</td>\n",
       "      <td>102.000000</td>\n",
       "      <td>1.000000</td>\n",
       "      <td>2022.000000</td>\n",
       "      <td>31.000000</td>\n",
       "      <td>10.000000</td>\n",
       "      <td>10.000000</td>\n",
       "    </tr>\n",
       "  </tbody>\n",
       "</table>\n",
       "</div>"
      ],
      "text/plain": [
       "         CustomerId  AppointmentID       Cust Age    Cust Gender  \\\n",
       "count  3.001560e+05   3.001560e+05  300156.000000  300156.000000   \n",
       "mean   2.364427e+06   4.523649e+06      38.979367       0.650462   \n",
       "std    1.336636e+06   2.545954e+06      12.420099       0.476825   \n",
       "min    4.741100e+04   1.041750e+05     -15.000000       0.000000   \n",
       "25%    1.208191e+06   2.318808e+06      28.000000       0.000000   \n",
       "50%    2.363834e+06   4.530523e+06      39.000000       1.000000   \n",
       "75%    3.521777e+06   6.721646e+06      50.000000       1.000000   \n",
       "max    4.679972e+06   8.933471e+06     102.000000       1.000000   \n",
       "\n",
       "          Build Year    Vehicle Age  Issue Criticality  Issue Severity  \n",
       "count  300156.000000  300156.000000      300156.000000   300156.000000  \n",
       "mean     2011.513373      10.486627           5.442547        6.169129  \n",
       "std         6.349487       6.349487           3.182504        3.159153  \n",
       "min      1991.000000       0.000000           1.000000        1.000000  \n",
       "25%      2006.000000       5.000000           2.000000        3.000000  \n",
       "50%      2012.000000      10.000000           5.000000        6.000000  \n",
       "75%      2017.000000      16.000000           9.000000        9.000000  \n",
       "max      2022.000000      31.000000          10.000000       10.000000  "
      ]
     },
     "execution_count": 241,
     "metadata": {},
     "output_type": "execute_result"
    }
   ],
   "source": [
    "# statistacal breakdown of the dataframe\n",
    "df.describe()"
   ]
  },
  {
   "cell_type": "markdown",
   "id": "dad7ed93",
   "metadata": {},
   "source": [
    "The min of the Age column is a negative number. This is a validity error as age cannot be in negatives.\n",
    "\n",
    "Data quality issues\n",
    "\n",
    "Negative age\n",
    "Misspelled column labels\n",
    "Wrong data types for some columns"
   ]
  },
  {
   "cell_type": "markdown",
   "id": "0ead6a88",
   "metadata": {},
   "source": [
    "# Check for missing values"
   ]
  },
  {
   "cell_type": "code",
   "execution_count": 242,
   "id": "f803a3af",
   "metadata": {},
   "outputs": [
    {
     "data": {
      "image/png": "[encoded data removed]",
      "text/plain": [
       "<Figure size 936x648 with 1 Axes>"
      ]
     },
     "metadata": {
      "needs_background": "light"
     },
     "output_type": "display_data"
    }
   ],
   "source": [
    "#Explore the data for missing values including using the Figure  heatmap. \n",
    "#Replace the missing value(s) with an imputed value(s) and create an indicator variable as such. \n",
    "\n",
    "\n",
    "naInfo = np.zeros(df.shape)\n",
    "naInfo[df.isna().values] = 1\n",
    "naInfo = pd.DataFrame(naInfo, columns=df.columns)\n",
    "\n",
    "fig, ax = plt.subplots()\n",
    "fig.set_size_inches(13, 9)\n",
    "ax = sns.heatmap(naInfo, vmin=0, vmax=1, cmap=[\"white\", \"red\"], cbar=False, ax=ax)\n",
    "ax.set_yticks([])\n",
    "\n",
    "rect = plt.Rectangle((0, 0), naInfo.shape[1], naInfo.shape[0], linewidth=1, \n",
    "                     edgecolor='green',facecolor='none')\n",
    "rect = ax.add_patch(rect)\n",
    "rect.set_clip_on(False)\n",
    "\n",
    "plt.xticks(rotation=80)\n",
    "plt.tight_layout()\n",
    "plt.show()"
   ]
  },
  {
   "cell_type": "code",
   "execution_count": 243,
   "id": "9b9a5544",
   "metadata": {},
   "outputs": [
    {
     "data": {
      "text/plain": [
       "CustomerId              0\n",
       "AppointmentID           0\n",
       "Cust Age                0\n",
       "Cust Gender             0\n",
       "Build Year              0\n",
       "Vehicle Age             0\n",
       "Vehicle Type            0\n",
       "Vehicle OEM             0\n",
       "Appointment Day         0\n",
       "AppointmentDay          0\n",
       "ScheduledDate           0\n",
       "ScheduledDay            0\n",
       "SMS_received            0\n",
       "Reminder received       0\n",
       "Issue Arena             0\n",
       "Issue Criticality       0\n",
       "Issue Severity          0\n",
       "Last Serviced date      0\n",
       "Techinician assigned    0\n",
       "New Issue               0\n",
       "No-show                 0\n",
       "dtype: int64"
      ]
     },
     "execution_count": 243,
     "metadata": {},
     "output_type": "execute_result"
    }
   ],
   "source": [
    "df.isnull().sum()"
   ]
  },
  {
   "cell_type": "code",
   "execution_count": 244,
   "id": "e4b0a2b6",
   "metadata": {},
   "outputs": [],
   "source": [
    "#remove columns where every instance has the same value\n",
    "#remove columns that may be duplicates\n",
    "#remove columns where dummy/indicators are 1 or 2 instances only\n",
    "#drop misc columns that appear redundant "
   ]
  },
  {
   "cell_type": "code",
   "execution_count": 245,
   "id": "0e277938",
   "metadata": {},
   "outputs": [],
   "source": [
    "def constant_variance(df):\n",
    "    constant=[]\n",
    "    for col in df.columns:\n",
    "        if df[col].dtype!='object':\n",
    "            if df[col].std()==0:\n",
    "                constant.append(col)\n",
    "    return constant\n",
    "\n",
    "def leave_one_two_out(df):\n",
    "    leave=[]\n",
    "    for col in df.columns:\n",
    "        if np.logical_or(df[col].sum()==1,df[col].sum()==2)==True:\n",
    "            leave.append(col)\n",
    "    return leave\n",
    "\n",
    "def duplicate_col(df):\n",
    "    dupecol = []\n",
    "    c = df.columns\n",
    "    for i in range(len(c)-1):\n",
    "        v = df[c[i]].values\n",
    "        for j in range(i+1,len(c)):\n",
    "            if np.array_equal(v,df[c[j]].values):\n",
    "                dupecol.append(c[j])\n",
    "    return dupecol\n",
    "\n",
    "\n",
    "\n",
    "drop_list=list(set(constant_variance(df)+leave_one_two_out(df)+duplicate_col(df)))\n",
    "\n",
    "df=df.drop(drop_list,axis=1)\n"
   ]
  },
  {
   "cell_type": "code",
   "execution_count": 246,
   "id": "66248faf",
   "metadata": {},
   "outputs": [
    {
     "name": "stdout",
     "output_type": "stream",
     "text": [
      "<class 'pandas.core.frame.DataFrame'>\n",
      "RangeIndex: 300156 entries, 0 to 300155\n",
      "Data columns (total 21 columns):\n",
      " #   Column                Non-Null Count   Dtype \n",
      "---  ------                --------------   ----- \n",
      " 0   CustomerId            300156 non-null  int64 \n",
      " 1   AppointmentID         300156 non-null  int64 \n",
      " 2   Cust Age              300156 non-null  int64 \n",
      " 3   Cust Gender           300156 non-null  int64 \n",
      " 4   Build Year            300156 non-null  int64 \n",
      " 5   Vehicle Age           300156 non-null  int64 \n",
      " 6   Vehicle Type          300156 non-null  object\n",
      " 7   Vehicle OEM           300156 non-null  object\n",
      " 8   Appointment Day       300156 non-null  object\n",
      " 9   AppointmentDay        300156 non-null  object\n",
      " 10  ScheduledDate         300156 non-null  object\n",
      " 11  ScheduledDay          300156 non-null  object\n",
      " 12  SMS_received          300156 non-null  bool  \n",
      " 13  Reminder received     300156 non-null  bool  \n",
      " 14  Issue Arena           300156 non-null  object\n",
      " 15  Issue Criticality     300156 non-null  int64 \n",
      " 16  Issue Severity        300156 non-null  int64 \n",
      " 17  Last Serviced date    300156 non-null  object\n",
      " 18  Techinician assigned  300156 non-null  bool  \n",
      " 19  New Issue             300156 non-null  bool  \n",
      " 20  No-show               300156 non-null  bool  \n",
      "dtypes: bool(5), int64(8), object(8)\n",
      "memory usage: 38.1+ MB\n"
     ]
    }
   ],
   "source": [
    "df.info()"
   ]
  },
  {
   "cell_type": "code",
   "execution_count": 247,
   "id": "6fa03762",
   "metadata": {},
   "outputs": [],
   "source": [
    "\n",
    "# changing object columns to category\n",
    "columns = ['Vehicle Type','Vehicle OEM','AppointmentDay','ScheduledDay','Issue Arena','Issue Criticality','Issue Severity']\n",
    "for column in columns:\n",
    "    df[column] = df[column].astype('category')\n",
    "    \n",
    "#changing dtype of ID columns to string\n",
    "df['CustomerId'] = df['CustomerId'].astype(str)\n",
    "df['AppointmentID'] = df['AppointmentID'].astype(str)       "
   ]
  },
  {
   "cell_type": "code",
   "execution_count": 248,
   "id": "b68e5327",
   "metadata": {},
   "outputs": [],
   "source": [
    "#changing the datatype of two columns\n",
    "#df['Appointment Day'] = pd.to_datetime(df['Appointment Day'])\n",
    "#df['ScheduledDate'] = pd.to_datetime(df['ScheduledDate'])"
   ]
  },
  {
   "cell_type": "code",
   "execution_count": 249,
   "id": "81f635c4",
   "metadata": {},
   "outputs": [
    {
     "data": {
      "text/html": [
       "<div>\n",
       "<style scoped>\n",
       "    .dataframe tbody tr th:only-of-type {\n",
       "        vertical-align: middle;\n",
       "    }\n",
       "\n",
       "    .dataframe tbody tr th {\n",
       "        vertical-align: top;\n",
       "    }\n",
       "\n",
       "    .dataframe thead th {\n",
       "        text-align: right;\n",
       "    }\n",
       "</style>\n",
       "<table border=\"1\" class=\"dataframe\">\n",
       "  <thead>\n",
       "    <tr style=\"text-align: right;\">\n",
       "      <th></th>\n",
       "      <th>Cust Age</th>\n",
       "      <th>Cust Gender</th>\n",
       "      <th>Build Year</th>\n",
       "      <th>Vehicle Age</th>\n",
       "    </tr>\n",
       "  </thead>\n",
       "  <tbody>\n",
       "    <tr>\n",
       "      <th>count</th>\n",
       "      <td>300156.000000</td>\n",
       "      <td>300156.000000</td>\n",
       "      <td>300156.000000</td>\n",
       "      <td>300156.000000</td>\n",
       "    </tr>\n",
       "    <tr>\n",
       "      <th>mean</th>\n",
       "      <td>38.979367</td>\n",
       "      <td>0.650462</td>\n",
       "      <td>2011.513373</td>\n",
       "      <td>10.486627</td>\n",
       "    </tr>\n",
       "    <tr>\n",
       "      <th>std</th>\n",
       "      <td>12.420099</td>\n",
       "      <td>0.476825</td>\n",
       "      <td>6.349487</td>\n",
       "      <td>6.349487</td>\n",
       "    </tr>\n",
       "    <tr>\n",
       "      <th>min</th>\n",
       "      <td>-15.000000</td>\n",
       "      <td>0.000000</td>\n",
       "      <td>1991.000000</td>\n",
       "      <td>0.000000</td>\n",
       "    </tr>\n",
       "    <tr>\n",
       "      <th>25%</th>\n",
       "      <td>28.000000</td>\n",
       "      <td>0.000000</td>\n",
       "      <td>2006.000000</td>\n",
       "      <td>5.000000</td>\n",
       "    </tr>\n",
       "    <tr>\n",
       "      <th>50%</th>\n",
       "      <td>39.000000</td>\n",
       "      <td>1.000000</td>\n",
       "      <td>2012.000000</td>\n",
       "      <td>10.000000</td>\n",
       "    </tr>\n",
       "    <tr>\n",
       "      <th>75%</th>\n",
       "      <td>50.000000</td>\n",
       "      <td>1.000000</td>\n",
       "      <td>2017.000000</td>\n",
       "      <td>16.000000</td>\n",
       "    </tr>\n",
       "    <tr>\n",
       "      <th>max</th>\n",
       "      <td>102.000000</td>\n",
       "      <td>1.000000</td>\n",
       "      <td>2022.000000</td>\n",
       "      <td>31.000000</td>\n",
       "    </tr>\n",
       "  </tbody>\n",
       "</table>\n",
       "</div>"
      ],
      "text/plain": [
       "            Cust Age    Cust Gender     Build Year    Vehicle Age\n",
       "count  300156.000000  300156.000000  300156.000000  300156.000000\n",
       "mean       38.979367       0.650462    2011.513373      10.486627\n",
       "std        12.420099       0.476825       6.349487       6.349487\n",
       "min       -15.000000       0.000000    1991.000000       0.000000\n",
       "25%        28.000000       0.000000    2006.000000       5.000000\n",
       "50%        39.000000       1.000000    2012.000000      10.000000\n",
       "75%        50.000000       1.000000    2017.000000      16.000000\n",
       "max       102.000000       1.000000    2022.000000      31.000000"
      ]
     },
     "execution_count": 249,
     "metadata": {},
     "output_type": "execute_result"
    }
   ],
   "source": [
    "#Exploring the data for outliers. If we deem the outlier as a data error,will impute accordingly \n",
    "#and create an indicator variable as such.\n",
    "df.describe()"
   ]
  },
  {
   "cell_type": "code",
   "execution_count": 250,
   "id": "bb9c0c56",
   "metadata": {},
   "outputs": [],
   "source": [
    "#Cleaning up the column names\n",
    "#renaming columns\n",
    "df.rename(columns =  {'Cust Age':'CustAge',\n",
    "                            'Cust Gender':'CustGender',\n",
    "                            'Build Year':  'BuildYear',        \n",
    "                            'Vehicle Age' : 'VehicleAge',         \n",
    "                            'Vehicle Type' : 'VehicleType',        \n",
    "                            'Vehicle OEM' :   'VehicleOEM',         \n",
    "                            'Appointment Day' : 'Appointment_Date',       \n",
    "                            'SMS_received' :  'SMSReceived',        \n",
    "                            'Reminder received' : 'ReminderReceived',     \n",
    "                            'Issue Arena' :    'IssueArena',       \n",
    "                            'Issue Criticality':  'IssueCriticality',   \n",
    "                            'Issue Severity':  'IssueSeverity',      \n",
    "                            'Techinician assigned':   'TechinicianAssigned' ,\n",
    "                            'New Issue':  'NewIssue' ,           \n",
    "                            'No-show': 'NoShow'        \n",
    "                           },\n",
    "                           inplace = True)"
   ]
  },
  {
   "cell_type": "markdown",
   "id": "d7d42430",
   "metadata": {},
   "source": [
    "# Checking the data for any outliers"
   ]
  },
  {
   "cell_type": "markdown",
   "id": "b38bbc94",
   "metadata": {},
   "source": [
    "Clearly we have outliers in the data. <br>\n",
    "Now let's look into the data for each column and replace them in the steps below"
   ]
  },
  {
   "cell_type": "code",
   "execution_count": 251,
   "id": "56937603",
   "metadata": {},
   "outputs": [
    {
     "name": "stdout",
     "output_type": "stream",
     "text": [
      "       CustomerId AppointmentID  CustAge  CustGender  BuildYear  VehicleAge  \\\n",
      "14976     3346584       5703549       -7           1       2006          16   \n",
      "29975     3945837       8859213       -4           1       2016           6   \n",
      "60024     4495422       6009911       -7           1       1991          31   \n",
      "75032     1243965       3476310      -15           1       2003          19   \n",
      "90070     1198472       1178923       -7           1       2022           0   \n",
      "105120    3465233       3101158       -4           1       2004          18   \n",
      "135108    3286527       6606859      -15           1       2020           2   \n",
      "150135    1756497       1574377       -7           1       2020           2   \n",
      "165150    1303946       1959016      -15           1       2019           3   \n",
      "180066    3145052        421372      102           1       1995          27   \n",
      "240153     869599       1400984      102           1       1994          28   \n",
      "255132    2134081       8649884       -4           1       2002          20   \n",
      "270153    3714093       6490609       -4           0       2003          19   \n",
      "285204    3758368        614293       -7           0       2017           5   \n",
      "\n",
      "         VehicleType     VehicleOEM Appointment_Date AppointmentDay  \\\n",
      "14976        Minivan           FIAT       06/08/2022        Weekday   \n",
      "29975          Coupe         Jaguar       03/22/2022        Weekday   \n",
      "60024    Convertible     Volkswagen       08/01/2022        Weekday   \n",
      "75032    Convertible        McLaren       07/13/2022        Weekday   \n",
      "90070          Coupe  Mercedes-Benz       03/20/2022        Weekend   \n",
      "105120     Hatchback      Chevrolet       01/03/2022        Weekday   \n",
      "135108         Sedan  Mercedes-Benz       09/13/2022        Weekday   \n",
      "150135         Sedan       INFINITI       06/02/2022        Weekday   \n",
      "165150         Coupe        Ferrari       08/07/2022        Weekend   \n",
      "180066         Sedan          Lexus       09/08/2022        Weekday   \n",
      "240153     Hatchback         Nissan       03/18/2022        Weekday   \n",
      "255132   Convertible           Audi       05/21/2022        Weekend   \n",
      "270153         Coupe         Toyota       07/09/2022        Weekend   \n",
      "285204   Convertible        Porsche       03/03/2022        Weekday   \n",
      "\n",
      "           ScheduledDate ScheduledDay  SMSReceived  ReminderReceived  \\\n",
      "14976    06-09-2022 8:30      Weekday         True             False   \n",
      "29975    04-01-2022 2:45      Weekday         True             False   \n",
      "60024   08-09-2022 11:35      Weekday         True              True   \n",
      "75032     07-26-2022 4:5      Weekday        False              True   \n",
      "90070   03-31-2022 11:30      Weekday        False             False   \n",
      "105120    01-10-2022 3:5      Weekday        False             False   \n",
      "135108   09-30-2022 3:45      Weekday         True             False   \n",
      "150135   06-17-2022 8:10      Weekday         True              True   \n",
      "165150   08-11-2022 3:40      Weekday         True              True   \n",
      "180066   09-16-2022 5:40      Weekday        False              True   \n",
      "240153   04-04-2022 9:50      Weekday        False              True   \n",
      "255132  06-09-2022 10:25      Weekday         True             False   \n",
      "270153  07-22-2022 10:35      Weekday         True              True   \n",
      "285204   03-14-2022 1:40      Weekday         True             False   \n",
      "\n",
      "                                            IssueArena IssueCriticality  \\\n",
      "14976                             Replace front brakes               10   \n",
      "29975             Replace Engine and Cabin Air Filters                3   \n",
      "60024                            Throttle Body Service                2   \n",
      "75032                             Heating - A/C repair                5   \n",
      "90070                            Throttle Body Service                2   \n",
      "105120  Perform Cabin Air Filter Vent Cleaning Service                1   \n",
      "135108                   Engine Coolant Fluid Exchange                9   \n",
      "150135                             Brake System repair               10   \n",
      "165150         Perform Tire Rotation and wheel balance                2   \n",
      "180066                             Replace rear brakes               10   \n",
      "240153                        Replace front brake pads               10   \n",
      "255132                             Brake System repair               10   \n",
      "270153                             Replace rear brakes               10   \n",
      "285204                               Suspension repair                6   \n",
      "\n",
      "       IssueSeverity Last Serviced date  TechinicianAssigned  NewIssue  NoShow  \n",
      "14976             10         06-09-2022                 True      True    True  \n",
      "29975              4         04-01-2022                False     False   False  \n",
      "60024              1         08-09-2022                 True     False   False  \n",
      "75032              6         07-26-2022                False      True   False  \n",
      "90070              1         03-31-2022                False      True   False  \n",
      "105120             2         01-10-2022                 True     False    True  \n",
      "135108             8         09-30-2022                 True      True   False  \n",
      "150135            10         06-17-2022                 True      True   False  \n",
      "165150             6         08-11-2022                False      True    True  \n",
      "180066            10         09-16-2022                False      True   False  \n",
      "240153            10         04-04-2022                False      True    True  \n",
      "255132            10         06-09-2022                 True     False   False  \n",
      "270153            10         07-22-2022                 True     False   False  \n",
      "285204             6         03-14-2022                False     False   False  \n"
     ]
    }
   ],
   "source": [
    "#checking index of row with negative age value\n",
    "print(df.query('CustAge > 100 or CustAge <0'))"
   ]
  },
  {
   "cell_type": "code",
   "execution_count": 252,
   "id": "43f349e8",
   "metadata": {},
   "outputs": [
    {
     "data": {
      "text/plain": [
       "38.97936739562094"
      ]
     },
     "execution_count": 252,
     "metadata": {},
     "output_type": "execute_result"
    }
   ],
   "source": [
    "#Mean of the columns for outliers imputing\n",
    "df['CustAge'].mean()"
   ]
  },
  {
   "cell_type": "markdown",
   "id": "13f8e65e",
   "metadata": {},
   "source": [
    "# Treating the outliers with its mean"
   ]
  },
  {
   "cell_type": "code",
   "execution_count": 253,
   "id": "f653506e",
   "metadata": {},
   "outputs": [],
   "source": [
    "#chk if we can add any other method to treat the outliers\n",
    "\n",
    "for x in [-15,0]:\n",
    "    df['CustAge']=np.where(df['CustAge']== x,8.97936739562094,df['CustAge'])\n"
   ]
  },
  {
   "cell_type": "code",
   "execution_count": 254,
   "id": "cc86c0cb",
   "metadata": {},
   "outputs": [],
   "source": [
    "#Mean of the columns for outliers imputing\n",
    "df['CustAge']=np.where(df['CustAge'] >= 100 ,df['CustAge'].mean(),df['CustAge'])\n",
    "#Mean of the columns for outliers imputing\n",
    "df['CustAge']=np.where(df['CustAge'] < 0 ,df['CustAge'].mean(),df['CustAge'])"
   ]
  },
  {
   "cell_type": "code",
   "execution_count": 255,
   "id": "7dcbf37a",
   "metadata": {},
   "outputs": [
    {
     "name": "stdout",
     "output_type": "stream",
     "text": [
      "Empty DataFrame\n",
      "Columns: [CustomerId, AppointmentID, CustAge, CustGender, BuildYear, VehicleAge, VehicleType, VehicleOEM, Appointment_Date, AppointmentDay, ScheduledDate, ScheduledDay, SMSReceived, ReminderReceived, IssueArena, IssueCriticality, IssueSeverity, Last Serviced date, TechinicianAssigned, NewIssue, NoShow]\n",
      "Index: []\n"
     ]
    }
   ],
   "source": [
    "#checking index of row with negative age value\n",
    "print(df.query('CustAge > 100 or CustAge <0'))"
   ]
  },
  {
   "cell_type": "code",
   "execution_count": 256,
   "id": "b9600479",
   "metadata": {},
   "outputs": [
    {
     "name": "stdout",
     "output_type": "stream",
     "text": [
      "Empty DataFrame\n",
      "Columns: [CustomerId, AppointmentID, CustAge, CustGender, BuildYear, VehicleAge, VehicleType, VehicleOEM, Appointment_Date, AppointmentDay, ScheduledDate, ScheduledDay, SMSReceived, ReminderReceived, IssueArena, IssueCriticality, IssueSeverity, Last Serviced date, TechinicianAssigned, NewIssue, NoShow]\n",
      "Index: []\n"
     ]
    }
   ],
   "source": [
    "#checking index of row with negative age value\n",
    "print(df.query('CustAge < 0'))"
   ]
  },
  {
   "cell_type": "code",
   "execution_count": 257,
   "id": "51136bcd",
   "metadata": {},
   "outputs": [
    {
     "name": "stdout",
     "output_type": "stream",
     "text": [
      "Empty DataFrame\n",
      "Columns: [CustomerId, AppointmentID, CustAge, CustGender, BuildYear, VehicleAge, VehicleType, VehicleOEM, Appointment_Date, AppointmentDay, ScheduledDate, ScheduledDay, SMSReceived, ReminderReceived, IssueArena, IssueCriticality, IssueSeverity, Last Serviced date, TechinicianAssigned, NewIssue, NoShow]\n",
      "Index: []\n"
     ]
    }
   ],
   "source": [
    "#checking index of row with negative age value\n",
    "print(df.query('VehicleAge < 0'))"
   ]
  },
  {
   "cell_type": "code",
   "execution_count": 258,
   "id": "9eb463fe",
   "metadata": {},
   "outputs": [
    {
     "name": "stdout",
     "output_type": "stream",
     "text": [
      "False    215669\n",
      "True      84487\n",
      "Name: NoShow, dtype: int64\n"
     ]
    },
    {
     "data": {
      "image/png": "[encoded data removed]",
      "text/plain": [
       "<Figure size 432x288 with 1 Axes>"
      ]
     },
     "metadata": {
      "needs_background": "light"
     },
     "output_type": "display_data"
    }
   ],
   "source": [
    "print(df['NoShow'].value_counts())\n",
    "#plotting distribution of show and no show \n",
    "ax = df['NoShow'].value_counts().plot(\n",
    "        kind='bar',\n",
    "        title = 'No. of Customers by NoShow',\n",
    "        rot=0)\n",
    "ax.set_xlabel('NoShow')\n",
    "ax.set_ylabel('No. of Customers');"
   ]
  },
  {
   "cell_type": "code",
   "execution_count": 259,
   "id": "b1473429",
   "metadata": {},
   "outputs": [
    {
     "name": "stdout",
     "output_type": "stream",
     "text": [
      "1    195240\n",
      "0    104916\n",
      "Name: CustGender, dtype: int64\n"
     ]
    },
    {
     "data": {
      "image/png": "[encoded data removed]",
      "text/plain": [
       "<Figure size 432x288 with 1 Axes>"
      ]
     },
     "metadata": {
      "needs_background": "light"
     },
     "output_type": "display_data"
    }
   ],
   "source": [
    "#checking distribution of gender in the patients\n",
    "print(df['CustGender'].value_counts())\n",
    "#plotting distribution of Gender on a histogram\n",
    "ax = df['CustGender'].value_counts().plot(\n",
    "        kind='bar',\n",
    "        title = 'No. of Customers by Gender',\n",
    "        rot=0)\n",
    "ax.set_xlabel('Gender')\n",
    "ax.set_ylabel('No. of Customers');"
   ]
  },
  {
   "cell_type": "code",
   "execution_count": 260,
   "id": "de5a0213",
   "metadata": {},
   "outputs": [
    {
     "name": "stdout",
     "output_type": "stream",
     "text": [
      "percentage of female customers 34.953824011514016\n",
      "percentage of male customers 65.04617598848598\n"
     ]
    }
   ],
   "source": [
    "#calculating percentage of female patients \n",
    "f_percent = (df.query('CustGender == 0').count().CustGender/ df['CustGender'].count())*100\n",
    "print(\"percentage of female customers \"+str(f_percent))\n",
    "#calculating percentage of male patients \n",
    "m_percent = (df.query('CustGender == 1').count().CustGender/df['CustGender'].count())*100\n",
    "print(\"percentage of male customers \"+str(m_percent))"
   ]
  },
  {
   "cell_type": "code",
   "execution_count": 261,
   "id": "abafd04b",
   "metadata": {},
   "outputs": [
    {
     "data": {
      "text/html": [
       "<div>\n",
       "<style scoped>\n",
       "    .dataframe tbody tr th:only-of-type {\n",
       "        vertical-align: middle;\n",
       "    }\n",
       "\n",
       "    .dataframe tbody tr th {\n",
       "        vertical-align: top;\n",
       "    }\n",
       "\n",
       "    .dataframe thead th {\n",
       "        text-align: right;\n",
       "    }\n",
       "</style>\n",
       "<table border=\"1\" class=\"dataframe\">\n",
       "  <thead>\n",
       "    <tr style=\"text-align: right;\">\n",
       "      <th>NoShow</th>\n",
       "      <th>False</th>\n",
       "      <th>True</th>\n",
       "    </tr>\n",
       "    <tr>\n",
       "      <th>CustGender</th>\n",
       "      <th></th>\n",
       "      <th></th>\n",
       "    </tr>\n",
       "  </thead>\n",
       "  <tbody>\n",
       "    <tr>\n",
       "      <th>0</th>\n",
       "      <td>75426</td>\n",
       "      <td>29490</td>\n",
       "    </tr>\n",
       "    <tr>\n",
       "      <th>1</th>\n",
       "      <td>140243</td>\n",
       "      <td>54997</td>\n",
       "    </tr>\n",
       "  </tbody>\n",
       "</table>\n",
       "</div>"
      ],
      "text/plain": [
       "NoShow       False   True\n",
       "CustGender               \n",
       "0            75426  29490\n",
       "1           140243  54997"
      ]
     },
     "execution_count": 261,
     "metadata": {},
     "output_type": "execute_result"
    }
   ],
   "source": [
    "# pivot table with gender and no-show column \n",
    "df_ns = df.groupby(['NoShow','CustGender'],as_index=False).size()\n",
    "ns_pivot = pd.pivot_table(df_ns, values = 'size',columns=['NoShow'],index='CustGender')\n",
    "ns_pivot"
   ]
  },
  {
   "cell_type": "code",
   "execution_count": 262,
   "id": "0ae9029b",
   "metadata": {},
   "outputs": [
    {
     "data": {
      "image/png": "[encoded data removed]",
      "text/plain": [
       "<Figure size 432x288 with 1 Axes>"
      ]
     },
     "metadata": {
      "needs_background": "light"
     },
     "output_type": "display_data"
    }
   ],
   "source": [
    "# visualizing the pivot table \n",
    "ax = ns_pivot.plot(\n",
    "        kind='bar',\n",
    "        title = 'No. of Customers by NoShow and Gender',\n",
    "        rot=0)\n",
    "ax.set_xlabel('Gender')\n",
    "ax.set_ylabel('No. of Customers');"
   ]
  },
  {
   "cell_type": "code",
   "execution_count": 263,
   "id": "3766d416",
   "metadata": {},
   "outputs": [
    {
     "name": "stdout",
     "output_type": "stream",
     "text": [
      "Number of females who showed: 75426\n",
      "Number of females who did not show: 29490\n",
      "Number of males who showed: 140243\n",
      "Number of females who did not show: 54997\n"
     ]
    }
   ],
   "source": [
    "# number of females who showed\n",
    "f_show_count = df.query('CustGender == 0 & NoShow == False ').count().CustGender\n",
    "print('Number of females who showed: ' + str(f_show_count))\n",
    "# number of females who did not show\n",
    "f_noshow_count = df.query('CustGender == 0 & NoShow == True').count().CustGender\n",
    "print('Number of females who did not show: ' + str(f_noshow_count))\n",
    "# number of males who showed\n",
    "m_show_count = df.query('CustGender == 1 & NoShow == False').count().CustGender\n",
    "print('Number of males who showed: ' + str(m_show_count))\n",
    "# number of females who did not show\n",
    "m_noshow_count = df.query('CustGender == 1 & NoShow == True').count().CustGender\n",
    "print('Number of females who did not show: ' + str(m_noshow_count))\n",
    "\n",
    "\n"
   ]
  },
  {
   "cell_type": "code",
   "execution_count": 264,
   "id": "5cfd9b8d",
   "metadata": {},
   "outputs": [],
   "source": [
    "#creating a function for calculating percentages\n",
    "def percentage(value,total):\n",
    "    var_percent = (sample/total)*100\n",
    "    return var_percent\n",
    "# creating a probability function\n",
    "def probability(outcome,total):\n",
    "    prob = (outcome/total)\n",
    "    return prob"
   ]
  },
  {
   "cell_type": "code",
   "execution_count": 265,
   "id": "48e6e758",
   "metadata": {},
   "outputs": [
    {
     "name": "stdout",
     "output_type": "stream",
     "text": [
      "The probaility of a female showing up for their appointment  0.718917991536086\n",
      "The probaility of a male showing up for their appointment  0.7183107969678345\n"
     ]
    }
   ],
   "source": [
    "# probability of a female showing\n",
    "f_show_prob = probability(f_show_count,df.query('CustGender == 0').count().CustGender)\n",
    "# rounding to two decimal places \n",
    "round(f_show_prob,2)\n",
    "print('The probaility of a female showing up for their appointment  ' + str(f_show_prob))\n",
    "\n",
    "\n",
    "# probability of a male showing\n",
    "m_show_prob = probability(m_show_count,df.query('CustGender == 1').count().CustGender)\n",
    "# rounding to two decimal places \n",
    "round(m_show_prob,2)\n",
    "print('The probaility of a male showing up for their appointment  ' + str(m_show_prob))"
   ]
  },
  {
   "cell_type": "code",
   "execution_count": 266,
   "id": "09555bc0",
   "metadata": {},
   "outputs": [
    {
     "data": {
      "text/html": [
       "<div>\n",
       "<style scoped>\n",
       "    .dataframe tbody tr th:only-of-type {\n",
       "        vertical-align: middle;\n",
       "    }\n",
       "\n",
       "    .dataframe tbody tr th {\n",
       "        vertical-align: top;\n",
       "    }\n",
       "\n",
       "    .dataframe thead th {\n",
       "        text-align: right;\n",
       "    }\n",
       "</style>\n",
       "<table border=\"1\" class=\"dataframe\">\n",
       "  <thead>\n",
       "    <tr style=\"text-align: right;\">\n",
       "      <th>NoShow</th>\n",
       "      <th>False</th>\n",
       "      <th>True</th>\n",
       "    </tr>\n",
       "    <tr>\n",
       "      <th>AppointmentDay</th>\n",
       "      <th></th>\n",
       "      <th></th>\n",
       "    </tr>\n",
       "  </thead>\n",
       "  <tbody>\n",
       "    <tr>\n",
       "      <th>Weekday</th>\n",
       "      <td>153712</td>\n",
       "      <td>60151</td>\n",
       "    </tr>\n",
       "    <tr>\n",
       "      <th>Weekend</th>\n",
       "      <td>61957</td>\n",
       "      <td>24336</td>\n",
       "    </tr>\n",
       "  </tbody>\n",
       "</table>\n",
       "</div>"
      ],
      "text/plain": [
       "NoShow           False   True\n",
       "AppointmentDay               \n",
       "Weekday         153712  60151\n",
       "Weekend          61957  24336"
      ]
     },
     "execution_count": 266,
     "metadata": {},
     "output_type": "execute_result"
    }
   ],
   "source": [
    "#creating a pivot table for Scholarship and NoShow\n",
    "df_ad = df.groupby(['NoShow','AppointmentDay'],as_index=False).size()\n",
    "ad_pivot = pd.pivot_table(df_ad, values = 'size',columns=['NoShow'],index='AppointmentDay')\n",
    "ad_pivot"
   ]
  },
  {
   "cell_type": "code",
   "execution_count": 267,
   "id": "52d8f7e0",
   "metadata": {},
   "outputs": [
    {
     "data": {
      "image/png": "[encoded data removed]",
      "text/plain": [
       "<Figure size 432x288 with 1 Axes>"
      ]
     },
     "metadata": {
      "needs_background": "light"
     },
     "output_type": "display_data"
    }
   ],
   "source": [
    "#plotting the pivot table on a grouped bar chart\n",
    "ax = ad_pivot.plot(\n",
    "        kind='bar',\n",
    "        title = 'No. of Customers by Appointment Day and NoShow',\n",
    "        rot=0)\n",
    "ax.set_xlabel('Appointment Day')\n",
    "ax.set_ylabel('No. of Customers');"
   ]
  },
  {
   "cell_type": "code",
   "execution_count": 268,
   "id": "73de9f31",
   "metadata": {},
   "outputs": [
    {
     "data": {
      "text/html": [
       "<div>\n",
       "<style scoped>\n",
       "    .dataframe tbody tr th:only-of-type {\n",
       "        vertical-align: middle;\n",
       "    }\n",
       "\n",
       "    .dataframe tbody tr th {\n",
       "        vertical-align: top;\n",
       "    }\n",
       "\n",
       "    .dataframe thead th {\n",
       "        text-align: right;\n",
       "    }\n",
       "</style>\n",
       "<table border=\"1\" class=\"dataframe\">\n",
       "  <thead>\n",
       "    <tr style=\"text-align: right;\">\n",
       "      <th>NoShow</th>\n",
       "      <th>False</th>\n",
       "      <th>True</th>\n",
       "    </tr>\n",
       "    <tr>\n",
       "      <th>ScheduledDay</th>\n",
       "      <th></th>\n",
       "      <th></th>\n",
       "    </tr>\n",
       "  </thead>\n",
       "  <tbody>\n",
       "    <tr>\n",
       "      <th>Weekday</th>\n",
       "      <td>180093</td>\n",
       "      <td>70503</td>\n",
       "    </tr>\n",
       "    <tr>\n",
       "      <th>Weekend</th>\n",
       "      <td>35576</td>\n",
       "      <td>13984</td>\n",
       "    </tr>\n",
       "  </tbody>\n",
       "</table>\n",
       "</div>"
      ],
      "text/plain": [
       "NoShow         False   True\n",
       "ScheduledDay               \n",
       "Weekday       180093  70503\n",
       "Weekend        35576  13984"
      ]
     },
     "execution_count": 268,
     "metadata": {},
     "output_type": "execute_result"
    }
   ],
   "source": [
    "#creating a pivot table for Scholarship and NoShow\n",
    "df_sd = df.groupby(['NoShow','ScheduledDay'],as_index=False).size()\n",
    "sd_pivot = pd.pivot_table(df_sd, values = 'size',columns=['NoShow'],index='ScheduledDay')\n",
    "sd_pivot"
   ]
  },
  {
   "cell_type": "code",
   "execution_count": 269,
   "id": "b23afd15",
   "metadata": {},
   "outputs": [
    {
     "data": {
      "image/png": "[encoded data removed]",
      "text/plain": [
       "<Figure size 432x288 with 1 Axes>"
      ]
     },
     "metadata": {
      "needs_background": "light"
     },
     "output_type": "display_data"
    }
   ],
   "source": [
    "#plotting the pivot table on a grouped bar chart\n",
    "ax = sd_pivot.plot(\n",
    "        kind='bar',\n",
    "        title = 'No. of Customers by Scheduled Day and NoShow',\n",
    "        rot=0)\n",
    "ax.set_xlabel('Scheduled Day')\n",
    "ax.set_ylabel('No. of Customers');"
   ]
  },
  {
   "cell_type": "markdown",
   "id": "6f785a68",
   "metadata": {},
   "source": [
    "The graph shows that for weekday and weekend majority of the patients showed up. We will compute the probabilities to draw a more statistical conclusion."
   ]
  },
  {
   "cell_type": "code",
   "execution_count": 270,
   "id": "54652279",
   "metadata": {},
   "outputs": [
    {
     "name": "stdout",
     "output_type": "stream",
     "text": [
      "Number of Customers show on Scheduled Weekday: 180093\n",
      "Number of Customers no show on Scheduled Weekday: 70503\n",
      "Number of Customers show on Scheduled weekend: 35576\n",
      "Number of Customers no show on Scheduled Weekend: 13984\n"
     ]
    }
   ],
   "source": [
    "# variable for  \n",
    "sd_weekday_show_count = df.query('ScheduledDay == \"Weekday\" and NoShow==False').count().ScheduledDay\n",
    "print('Number of Customers show on Scheduled Weekday: ' + str(sd_weekday_show_count))\n",
    "# variable for \n",
    "sd_weekday_noshow_count = df.query('ScheduledDay == \"Weekday\" and NoShow==True').count().ScheduledDay\n",
    "print('Number of Customers no show on Scheduled Weekday: ' + str(sd_weekday_noshow_count))\n",
    "# variable for  \n",
    "sd_weekend_show_count = df.query('ScheduledDay == \"Weekend\" and NoShow==False').count().ScheduledDay\n",
    "print('Number of Customers show on Scheduled weekend: ' + str(sd_weekend_show_count))\n",
    "# variable for \n",
    "sd_weekend_noshow_count = df.query('ScheduledDay == \"Weekend\" and NoShow==True').count().ScheduledDay\n",
    "print('Number of Customers no show on Scheduled Weekend: ' + str(sd_weekend_noshow_count))"
   ]
  },
  {
   "cell_type": "code",
   "execution_count": 271,
   "id": "7e6e575d",
   "metadata": {},
   "outputs": [
    {
     "name": "stdout",
     "output_type": "stream",
     "text": [
      "0.72\n",
      "0.72\n"
     ]
    }
   ],
   "source": [
    "# probability of a customers showing up on scheduled weekday\n",
    "sd_wd_show_prob = probability(sd_weekday_show_count,df.query('ScheduledDay == \"Weekday\"').count().ScheduledDay)\n",
    "print (round(sd_wd_show_prob,2))\n",
    "\n",
    "# probability of a customers showing up on scheduled weekend\n",
    "sd_we_show_prob = probability(sd_weekend_show_count,df.query('ScheduledDay == \"Weekend\"').count().ScheduledDay)\n",
    "print(round(sd_we_show_prob,2))"
   ]
  },
  {
   "cell_type": "code",
   "execution_count": 279,
   "id": "c1534bdf",
   "metadata": {},
   "outputs": [
    {
     "name": "stdout",
     "output_type": "stream",
     "text": [
      "Number of Customers show on Appointment at Weekday: 153712\n",
      "Number of Customers no show on Appointment at Weekday: 60151\n",
      "Number of Customers show on Appointment at weekend: 61957\n",
      "Number of Customers no show on Appointment at Weekend: 24336\n"
     ]
    }
   ],
   "source": [
    "# variable for  \n",
    "ad_weekday_show_count = df.query('AppointmentDay == \"Weekday\" and NoShow==False').count().AppointmentDay\n",
    "print('Number of Customers show on Appointment at Weekday: ' + str(ad_weekday_show_count))\n",
    "# variable for \n",
    "ad_weekday_noshow_count = df.query('AppointmentDay == \"Weekday\" and NoShow==True').count().AppointmentDay\n",
    "print('Number of Customers no show on Appointment at Weekday: ' + str(ad_weekday_noshow_count))\n",
    "# variable for  \n",
    "ad_weekend_show_count = df.query('AppointmentDay == \"Weekend\" and NoShow==False').count().AppointmentDay\n",
    "print('Number of Customers show on Appointment at weekend: ' + str(ad_weekend_show_count))\n",
    "# variable for \n",
    "ad_weekend_noshow_count = df.query('AppointmentDay == \"Weekend\" and NoShow==True').count().AppointmentDay\n",
    "print('Number of Customers no show on Appointment at Weekend: ' + str(ad_weekend_noshow_count))"
   ]
  },
  {
   "cell_type": "code",
   "execution_count": 280,
   "id": "1fa9cd68",
   "metadata": {},
   "outputs": [
    {
     "name": "stdout",
     "output_type": "stream",
     "text": [
      "0.72\n",
      "0.72\n"
     ]
    }
   ],
   "source": [
    "# probability of a customers showing up on Appointment at  weekday\n",
    "ad_wd_show_prob = probability(ad_weekday_show_count,df.query('AppointmentDay == \"Weekday\"').count().AppointmentDay)\n",
    "print (round(ad_wd_show_prob,2))\n",
    "\n",
    "# probability of a customers showing up on Appointment at  weekend\n",
    "ad_we_show_prob = probability(ad_weekend_show_count,df.query('AppointmentDay == \"Weekend\"').count().AppointmentDay)\n",
    "print(round(ad_we_show_prob,2))"
   ]
  },
  {
   "cell_type": "code",
   "execution_count": 281,
   "id": "7803d2b3",
   "metadata": {},
   "outputs": [
    {
     "name": "stdout",
     "output_type": "stream",
     "text": [
      "<class 'pandas.core.frame.DataFrame'>\n",
      "RangeIndex: 300156 entries, 0 to 300155\n",
      "Data columns (total 22 columns):\n",
      " #   Column               Non-Null Count   Dtype   \n",
      "---  ------               --------------   -----   \n",
      " 0   CustomerId           300156 non-null  object  \n",
      " 1   AppointmentID        300156 non-null  object  \n",
      " 2   CustAge              300156 non-null  float64 \n",
      " 3   CustGender           300156 non-null  int64   \n",
      " 4   VehicleAge           300156 non-null  int64   \n",
      " 5   VehicleType          300156 non-null  category\n",
      " 6   VehicleOEM           300156 non-null  category\n",
      " 7   Appointment_Date     300156 non-null  object  \n",
      " 8   AppointmentDay       300156 non-null  category\n",
      " 9   ScheduledDate        300156 non-null  object  \n",
      " 10  ScheduledDay         300156 non-null  category\n",
      " 11  SMSReceived          300156 non-null  bool    \n",
      " 12  ReminderReceived     300156 non-null  bool    \n",
      " 13  IssueArena           300156 non-null  category\n",
      " 14  IssueCriticality     300156 non-null  category\n",
      " 15  IssueSeverity        300156 non-null  category\n",
      " 16  Last Serviced date   300156 non-null  object  \n",
      " 17  TechinicianAssigned  300156 non-null  bool    \n",
      " 18  NewIssue             300156 non-null  bool    \n",
      " 19  NoShow               300156 non-null  bool    \n",
      " 20  Customer_Age_bin     300151 non-null  category\n",
      " 21  Vehicle_Age_bin      286458 non-null  category\n",
      "dtypes: bool(5), category(9), float64(1), int64(2), object(5)\n",
      "memory usage: 22.3+ MB\n"
     ]
    }
   ],
   "source": [
    "df.info()"
   ]
  },
  {
   "cell_type": "markdown",
   "id": "dd644654",
   "metadata": {},
   "source": [
    "# Correlation Plot"
   ]
  },
  {
   "cell_type": "code",
   "execution_count": 273,
   "id": "b43e36d6",
   "metadata": {},
   "outputs": [
    {
     "data": {
      "text/plain": [
       "<AxesSubplot:>"
      ]
     },
     "execution_count": 273,
     "metadata": {},
     "output_type": "execute_result"
    },
    {
     "data": {
      "image/png": "[encoded data removed]",
      "text/plain": [
       "<Figure size 1080x720 with 2 Axes>"
      ]
     },
     "metadata": {
      "needs_background": "light"
     },
     "output_type": "display_data"
    }
   ],
   "source": [
    "corr = df.corr()\n",
    "plt.subplots(figsize=(15,10))\n",
    "sns.heatmap(corr, xticklabels=corr.columns, yticklabels=corr.columns, annot=True, cmap=sns.diverging_palette(220, 20, as_cmap=True))"
   ]
  },
  {
   "cell_type": "code",
   "execution_count": 284,
   "id": "1063a05a",
   "metadata": {},
   "outputs": [
    {
     "name": "stdout",
     "output_type": "stream",
     "text": [
      "Empty DataFrame\n",
      "Columns: []\n",
      "Index: []\n"
     ]
    }
   ],
   "source": [
    "print(df[['IssueCriticality','IssueSeverity']].corr())\n",
    "print(df[['BuildYear','VehicleAge']].corr())"
   ]
  },
  {
   "cell_type": "markdown",
   "id": "45934f8d",
   "metadata": {},
   "source": [
    " - BuildYear and VehicleAge are highly correlated when compared to the other columns.\n",
    " - We could drop one of them."
   ]
  },
  {
   "cell_type": "code",
   "execution_count": 275,
   "id": "0bca0fe8",
   "metadata": {},
   "outputs": [],
   "source": [
    "df=df.drop(['BuildYear'],axis=1)"
   ]
  },
  {
   "cell_type": "code",
   "execution_count": 276,
   "id": "3ab79e4b",
   "metadata": {},
   "outputs": [
    {
     "data": {
      "text/html": [
       "<div>\n",
       "<style scoped>\n",
       "    .dataframe tbody tr th:only-of-type {\n",
       "        vertical-align: middle;\n",
       "    }\n",
       "\n",
       "    .dataframe tbody tr th {\n",
       "        vertical-align: top;\n",
       "    }\n",
       "\n",
       "    .dataframe thead th {\n",
       "        text-align: right;\n",
       "    }\n",
       "</style>\n",
       "<table border=\"1\" class=\"dataframe\">\n",
       "  <thead>\n",
       "    <tr style=\"text-align: right;\">\n",
       "      <th></th>\n",
       "      <th>CustomerId</th>\n",
       "      <th>AppointmentID</th>\n",
       "      <th>CustAge</th>\n",
       "      <th>CustGender</th>\n",
       "      <th>VehicleAge</th>\n",
       "      <th>VehicleType</th>\n",
       "      <th>VehicleOEM</th>\n",
       "      <th>Appointment_Date</th>\n",
       "      <th>AppointmentDay</th>\n",
       "      <th>ScheduledDate</th>\n",
       "      <th>ScheduledDay</th>\n",
       "      <th>SMSReceived</th>\n",
       "      <th>ReminderReceived</th>\n",
       "      <th>IssueArena</th>\n",
       "      <th>IssueCriticality</th>\n",
       "      <th>IssueSeverity</th>\n",
       "      <th>Last Serviced date</th>\n",
       "      <th>TechinicianAssigned</th>\n",
       "      <th>NewIssue</th>\n",
       "      <th>NoShow</th>\n",
       "      <th>Customer_Age_bin</th>\n",
       "    </tr>\n",
       "  </thead>\n",
       "  <tbody>\n",
       "    <tr>\n",
       "      <th>0</th>\n",
       "      <td>1563014</td>\n",
       "      <td>6149830</td>\n",
       "      <td>25.0</td>\n",
       "      <td>1</td>\n",
       "      <td>20</td>\n",
       "      <td>Hatchback</td>\n",
       "      <td>BMW</td>\n",
       "      <td>09/17/2022</td>\n",
       "      <td>Weekend</td>\n",
       "      <td>10-03-2022 8:25</td>\n",
       "      <td>Weekday</td>\n",
       "      <td>False</td>\n",
       "      <td>False</td>\n",
       "      <td>Replace rear brakes</td>\n",
       "      <td>10</td>\n",
       "      <td>10</td>\n",
       "      <td>10-03-2022</td>\n",
       "      <td>False</td>\n",
       "      <td>False</td>\n",
       "      <td>False</td>\n",
       "      <td>15-30</td>\n",
       "    </tr>\n",
       "    <tr>\n",
       "      <th>1</th>\n",
       "      <td>4065606</td>\n",
       "      <td>6707205</td>\n",
       "      <td>52.0</td>\n",
       "      <td>1</td>\n",
       "      <td>5</td>\n",
       "      <td>Minivan</td>\n",
       "      <td>GMC</td>\n",
       "      <td>05/18/2022</td>\n",
       "      <td>Weekday</td>\n",
       "      <td>06-04-2022 2:30</td>\n",
       "      <td>Weekend</td>\n",
       "      <td>False</td>\n",
       "      <td>False</td>\n",
       "      <td>Battery Maintenance Service</td>\n",
       "      <td>2</td>\n",
       "      <td>3</td>\n",
       "      <td>06-04-2022</td>\n",
       "      <td>False</td>\n",
       "      <td>False</td>\n",
       "      <td>False</td>\n",
       "      <td>50-70</td>\n",
       "    </tr>\n",
       "    <tr>\n",
       "      <th>2</th>\n",
       "      <td>811817</td>\n",
       "      <td>5568312</td>\n",
       "      <td>27.0</td>\n",
       "      <td>1</td>\n",
       "      <td>16</td>\n",
       "      <td>Wagon</td>\n",
       "      <td>Nissan</td>\n",
       "      <td>06/11/2022</td>\n",
       "      <td>Weekend</td>\n",
       "      <td>06-30-2022 6:40</td>\n",
       "      <td>Weekday</td>\n",
       "      <td>False</td>\n",
       "      <td>False</td>\n",
       "      <td>Install Premium Fuel Treatment</td>\n",
       "      <td>2</td>\n",
       "      <td>1</td>\n",
       "      <td>06-30-2022</td>\n",
       "      <td>True</td>\n",
       "      <td>False</td>\n",
       "      <td>False</td>\n",
       "      <td>15-30</td>\n",
       "    </tr>\n",
       "    <tr>\n",
       "      <th>3</th>\n",
       "      <td>3737986</td>\n",
       "      <td>8797591</td>\n",
       "      <td>26.0</td>\n",
       "      <td>1</td>\n",
       "      <td>15</td>\n",
       "      <td>SUV</td>\n",
       "      <td>BMW</td>\n",
       "      <td>08/25/2022</td>\n",
       "      <td>Weekday</td>\n",
       "      <td>09-09-2022 3:25</td>\n",
       "      <td>Weekday</td>\n",
       "      <td>True</td>\n",
       "      <td>False</td>\n",
       "      <td>Install Nitrogen into all Tires</td>\n",
       "      <td>2</td>\n",
       "      <td>2</td>\n",
       "      <td>09-09-2022</td>\n",
       "      <td>False</td>\n",
       "      <td>True</td>\n",
       "      <td>True</td>\n",
       "      <td>15-30</td>\n",
       "    </tr>\n",
       "    <tr>\n",
       "      <th>4</th>\n",
       "      <td>697291</td>\n",
       "      <td>3057583</td>\n",
       "      <td>26.0</td>\n",
       "      <td>1</td>\n",
       "      <td>13</td>\n",
       "      <td>Hatchback</td>\n",
       "      <td>FIAT</td>\n",
       "      <td>07/12/2022</td>\n",
       "      <td>Weekday</td>\n",
       "      <td>07-12-2022 8:50</td>\n",
       "      <td>Weekday</td>\n",
       "      <td>False</td>\n",
       "      <td>True</td>\n",
       "      <td>Replace cabin air filter</td>\n",
       "      <td>5</td>\n",
       "      <td>2</td>\n",
       "      <td>07-12-2022</td>\n",
       "      <td>True</td>\n",
       "      <td>False</td>\n",
       "      <td>False</td>\n",
       "      <td>15-30</td>\n",
       "    </tr>\n",
       "    <tr>\n",
       "      <th>...</th>\n",
       "      <td>...</td>\n",
       "      <td>...</td>\n",
       "      <td>...</td>\n",
       "      <td>...</td>\n",
       "      <td>...</td>\n",
       "      <td>...</td>\n",
       "      <td>...</td>\n",
       "      <td>...</td>\n",
       "      <td>...</td>\n",
       "      <td>...</td>\n",
       "      <td>...</td>\n",
       "      <td>...</td>\n",
       "      <td>...</td>\n",
       "      <td>...</td>\n",
       "      <td>...</td>\n",
       "      <td>...</td>\n",
       "      <td>...</td>\n",
       "      <td>...</td>\n",
       "      <td>...</td>\n",
       "      <td>...</td>\n",
       "      <td>...</td>\n",
       "    </tr>\n",
       "    <tr>\n",
       "      <th>300151</th>\n",
       "      <td>1616980</td>\n",
       "      <td>770936</td>\n",
       "      <td>54.0</td>\n",
       "      <td>1</td>\n",
       "      <td>7</td>\n",
       "      <td>Coupe</td>\n",
       "      <td>Aston Martin</td>\n",
       "      <td>02/09/2022</td>\n",
       "      <td>Weekday</td>\n",
       "      <td>02-19-2022 1:35</td>\n",
       "      <td>Weekend</td>\n",
       "      <td>False</td>\n",
       "      <td>False</td>\n",
       "      <td>Throttle Body Service</td>\n",
       "      <td>2</td>\n",
       "      <td>1</td>\n",
       "      <td>02-19-2022</td>\n",
       "      <td>True</td>\n",
       "      <td>True</td>\n",
       "      <td>False</td>\n",
       "      <td>50-70</td>\n",
       "    </tr>\n",
       "    <tr>\n",
       "      <th>300152</th>\n",
       "      <td>254235</td>\n",
       "      <td>2497209</td>\n",
       "      <td>22.0</td>\n",
       "      <td>0</td>\n",
       "      <td>20</td>\n",
       "      <td>Hatchback</td>\n",
       "      <td>Nissan</td>\n",
       "      <td>05/02/2022</td>\n",
       "      <td>Weekday</td>\n",
       "      <td>05-16-2022 2:5</td>\n",
       "      <td>Weekday</td>\n",
       "      <td>True</td>\n",
       "      <td>True</td>\n",
       "      <td>Headlamp restoration</td>\n",
       "      <td>6</td>\n",
       "      <td>9</td>\n",
       "      <td>05-16-2022</td>\n",
       "      <td>True</td>\n",
       "      <td>True</td>\n",
       "      <td>False</td>\n",
       "      <td>15-30</td>\n",
       "    </tr>\n",
       "    <tr>\n",
       "      <th>300153</th>\n",
       "      <td>2804801</td>\n",
       "      <td>4356314</td>\n",
       "      <td>31.0</td>\n",
       "      <td>0</td>\n",
       "      <td>10</td>\n",
       "      <td>SUV</td>\n",
       "      <td>INFINITI</td>\n",
       "      <td>05/14/2022</td>\n",
       "      <td>Weekend</td>\n",
       "      <td>05-18-2022 8:55</td>\n",
       "      <td>Weekday</td>\n",
       "      <td>False</td>\n",
       "      <td>False</td>\n",
       "      <td>Perform Cabin Air Filter Vent Cleaning Service</td>\n",
       "      <td>1</td>\n",
       "      <td>2</td>\n",
       "      <td>05-18-2022</td>\n",
       "      <td>False</td>\n",
       "      <td>False</td>\n",
       "      <td>False</td>\n",
       "      <td>30-50</td>\n",
       "    </tr>\n",
       "    <tr>\n",
       "      <th>300154</th>\n",
       "      <td>335380</td>\n",
       "      <td>3183268</td>\n",
       "      <td>45.0</td>\n",
       "      <td>1</td>\n",
       "      <td>1</td>\n",
       "      <td>Hatchback</td>\n",
       "      <td>Hyundai</td>\n",
       "      <td>07/13/2022</td>\n",
       "      <td>Weekday</td>\n",
       "      <td>07-30-2022 8:5</td>\n",
       "      <td>Weekend</td>\n",
       "      <td>True</td>\n",
       "      <td>True</td>\n",
       "      <td>Replace Engine and Cabin Air Filters</td>\n",
       "      <td>3</td>\n",
       "      <td>4</td>\n",
       "      <td>07-30-2022</td>\n",
       "      <td>True</td>\n",
       "      <td>False</td>\n",
       "      <td>False</td>\n",
       "      <td>30-50</td>\n",
       "    </tr>\n",
       "    <tr>\n",
       "      <th>300155</th>\n",
       "      <td>1771985</td>\n",
       "      <td>6855956</td>\n",
       "      <td>37.0</td>\n",
       "      <td>1</td>\n",
       "      <td>3</td>\n",
       "      <td>Sedan</td>\n",
       "      <td>Chrysler</td>\n",
       "      <td>02/11/2022</td>\n",
       "      <td>Weekday</td>\n",
       "      <td>02-19-2022 11:30</td>\n",
       "      <td>Weekend</td>\n",
       "      <td>True</td>\n",
       "      <td>True</td>\n",
       "      <td>Replace front brakes</td>\n",
       "      <td>10</td>\n",
       "      <td>10</td>\n",
       "      <td>02-19-2022</td>\n",
       "      <td>False</td>\n",
       "      <td>True</td>\n",
       "      <td>False</td>\n",
       "      <td>30-50</td>\n",
       "    </tr>\n",
       "  </tbody>\n",
       "</table>\n",
       "<p>300156 rows × 21 columns</p>\n",
       "</div>"
      ],
      "text/plain": [
       "       CustomerId AppointmentID  CustAge  CustGender  VehicleAge VehicleType  \\\n",
       "0         1563014       6149830     25.0           1          20   Hatchback   \n",
       "1         4065606       6707205     52.0           1           5     Minivan   \n",
       "2          811817       5568312     27.0           1          16       Wagon   \n",
       "3         3737986       8797591     26.0           1          15         SUV   \n",
       "4          697291       3057583     26.0           1          13   Hatchback   \n",
       "...           ...           ...      ...         ...         ...         ...   \n",
       "300151    1616980        770936     54.0           1           7       Coupe   \n",
       "300152     254235       2497209     22.0           0          20   Hatchback   \n",
       "300153    2804801       4356314     31.0           0          10         SUV   \n",
       "300154     335380       3183268     45.0           1           1   Hatchback   \n",
       "300155    1771985       6855956     37.0           1           3       Sedan   \n",
       "\n",
       "          VehicleOEM Appointment_Date AppointmentDay     ScheduledDate  \\\n",
       "0                BMW       09/17/2022        Weekend   10-03-2022 8:25   \n",
       "1                GMC       05/18/2022        Weekday   06-04-2022 2:30   \n",
       "2             Nissan       06/11/2022        Weekend   06-30-2022 6:40   \n",
       "3                BMW       08/25/2022        Weekday   09-09-2022 3:25   \n",
       "4               FIAT       07/12/2022        Weekday   07-12-2022 8:50   \n",
       "...              ...              ...            ...               ...   \n",
       "300151  Aston Martin       02/09/2022        Weekday   02-19-2022 1:35   \n",
       "300152        Nissan       05/02/2022        Weekday    05-16-2022 2:5   \n",
       "300153      INFINITI       05/14/2022        Weekend   05-18-2022 8:55   \n",
       "300154       Hyundai       07/13/2022        Weekday    07-30-2022 8:5   \n",
       "300155      Chrysler       02/11/2022        Weekday  02-19-2022 11:30   \n",
       "\n",
       "       ScheduledDay  SMSReceived  ReminderReceived  \\\n",
       "0           Weekday        False             False   \n",
       "1           Weekend        False             False   \n",
       "2           Weekday        False             False   \n",
       "3           Weekday         True             False   \n",
       "4           Weekday        False              True   \n",
       "...             ...          ...               ...   \n",
       "300151      Weekend        False             False   \n",
       "300152      Weekday         True              True   \n",
       "300153      Weekday        False             False   \n",
       "300154      Weekend         True              True   \n",
       "300155      Weekend         True              True   \n",
       "\n",
       "                                            IssueArena IssueCriticality  \\\n",
       "0                                  Replace rear brakes               10   \n",
       "1                          Battery Maintenance Service                2   \n",
       "2                       Install Premium Fuel Treatment                2   \n",
       "3                      Install Nitrogen into all Tires                2   \n",
       "4                             Replace cabin air filter                5   \n",
       "...                                                ...              ...   \n",
       "300151                           Throttle Body Service                2   \n",
       "300152                            Headlamp restoration                6   \n",
       "300153  Perform Cabin Air Filter Vent Cleaning Service                1   \n",
       "300154            Replace Engine and Cabin Air Filters                3   \n",
       "300155                            Replace front brakes               10   \n",
       "\n",
       "       IssueSeverity Last Serviced date  TechinicianAssigned  NewIssue  \\\n",
       "0                 10         10-03-2022                False     False   \n",
       "1                  3         06-04-2022                False     False   \n",
       "2                  1         06-30-2022                 True     False   \n",
       "3                  2         09-09-2022                False      True   \n",
       "4                  2         07-12-2022                 True     False   \n",
       "...              ...                ...                  ...       ...   \n",
       "300151             1         02-19-2022                 True      True   \n",
       "300152             9         05-16-2022                 True      True   \n",
       "300153             2         05-18-2022                False     False   \n",
       "300154             4         07-30-2022                 True     False   \n",
       "300155            10         02-19-2022                False      True   \n",
       "\n",
       "        NoShow Customer_Age_bin  \n",
       "0        False            15-30  \n",
       "1        False            50-70  \n",
       "2        False            15-30  \n",
       "3         True            15-30  \n",
       "4        False            15-30  \n",
       "...        ...              ...  \n",
       "300151   False            50-70  \n",
       "300152   False            15-30  \n",
       "300153   False            30-50  \n",
       "300154   False            30-50  \n",
       "300155   False            30-50  \n",
       "\n",
       "[300156 rows x 21 columns]"
      ]
     },
     "execution_count": 276,
     "metadata": {},
     "output_type": "execute_result"
    }
   ],
   "source": [
    "bins = [15,30,50,70,85]\n",
    "category = [\"15-30\",\"30-50\",\"50-70\",\"70-85\"]\n",
    "df['Customer_Age_bin'] = pd.cut(df['CustAge'], bins, labels=category)\n",
    "df"
   ]
  },
  {
   "cell_type": "code",
   "execution_count": 277,
   "id": "b19c29d3",
   "metadata": {},
   "outputs": [
    {
     "data": {
      "text/html": [
       "<div>\n",
       "<style scoped>\n",
       "    .dataframe tbody tr th:only-of-type {\n",
       "        vertical-align: middle;\n",
       "    }\n",
       "\n",
       "    .dataframe tbody tr th {\n",
       "        vertical-align: top;\n",
       "    }\n",
       "\n",
       "    .dataframe thead th {\n",
       "        text-align: right;\n",
       "    }\n",
       "</style>\n",
       "<table border=\"1\" class=\"dataframe\">\n",
       "  <thead>\n",
       "    <tr style=\"text-align: right;\">\n",
       "      <th></th>\n",
       "      <th>CustomerId</th>\n",
       "      <th>AppointmentID</th>\n",
       "      <th>CustAge</th>\n",
       "      <th>CustGender</th>\n",
       "      <th>VehicleAge</th>\n",
       "      <th>VehicleType</th>\n",
       "      <th>VehicleOEM</th>\n",
       "      <th>Appointment_Date</th>\n",
       "      <th>AppointmentDay</th>\n",
       "      <th>ScheduledDate</th>\n",
       "      <th>ScheduledDay</th>\n",
       "      <th>SMSReceived</th>\n",
       "      <th>ReminderReceived</th>\n",
       "      <th>IssueArena</th>\n",
       "      <th>IssueCriticality</th>\n",
       "      <th>IssueSeverity</th>\n",
       "      <th>Last Serviced date</th>\n",
       "      <th>TechinicianAssigned</th>\n",
       "      <th>NewIssue</th>\n",
       "      <th>NoShow</th>\n",
       "      <th>Customer_Age_bin</th>\n",
       "      <th>Vehicle_Age_bin</th>\n",
       "    </tr>\n",
       "  </thead>\n",
       "  <tbody>\n",
       "    <tr>\n",
       "      <th>0</th>\n",
       "      <td>1563014</td>\n",
       "      <td>6149830</td>\n",
       "      <td>25.0</td>\n",
       "      <td>1</td>\n",
       "      <td>20</td>\n",
       "      <td>Hatchback</td>\n",
       "      <td>BMW</td>\n",
       "      <td>09/17/2022</td>\n",
       "      <td>Weekend</td>\n",
       "      <td>10-03-2022 8:25</td>\n",
       "      <td>Weekday</td>\n",
       "      <td>False</td>\n",
       "      <td>False</td>\n",
       "      <td>Replace rear brakes</td>\n",
       "      <td>10</td>\n",
       "      <td>10</td>\n",
       "      <td>10-03-2022</td>\n",
       "      <td>False</td>\n",
       "      <td>False</td>\n",
       "      <td>False</td>\n",
       "      <td>15-30</td>\n",
       "      <td>10-20</td>\n",
       "    </tr>\n",
       "    <tr>\n",
       "      <th>1</th>\n",
       "      <td>4065606</td>\n",
       "      <td>6707205</td>\n",
       "      <td>52.0</td>\n",
       "      <td>1</td>\n",
       "      <td>5</td>\n",
       "      <td>Minivan</td>\n",
       "      <td>GMC</td>\n",
       "      <td>05/18/2022</td>\n",
       "      <td>Weekday</td>\n",
       "      <td>06-04-2022 2:30</td>\n",
       "      <td>Weekend</td>\n",
       "      <td>False</td>\n",
       "      <td>False</td>\n",
       "      <td>Battery Maintenance Service</td>\n",
       "      <td>2</td>\n",
       "      <td>3</td>\n",
       "      <td>06-04-2022</td>\n",
       "      <td>False</td>\n",
       "      <td>False</td>\n",
       "      <td>False</td>\n",
       "      <td>50-70</td>\n",
       "      <td>0-10</td>\n",
       "    </tr>\n",
       "    <tr>\n",
       "      <th>2</th>\n",
       "      <td>811817</td>\n",
       "      <td>5568312</td>\n",
       "      <td>27.0</td>\n",
       "      <td>1</td>\n",
       "      <td>16</td>\n",
       "      <td>Wagon</td>\n",
       "      <td>Nissan</td>\n",
       "      <td>06/11/2022</td>\n",
       "      <td>Weekend</td>\n",
       "      <td>06-30-2022 6:40</td>\n",
       "      <td>Weekday</td>\n",
       "      <td>False</td>\n",
       "      <td>False</td>\n",
       "      <td>Install Premium Fuel Treatment</td>\n",
       "      <td>2</td>\n",
       "      <td>1</td>\n",
       "      <td>06-30-2022</td>\n",
       "      <td>True</td>\n",
       "      <td>False</td>\n",
       "      <td>False</td>\n",
       "      <td>15-30</td>\n",
       "      <td>10-20</td>\n",
       "    </tr>\n",
       "    <tr>\n",
       "      <th>3</th>\n",
       "      <td>3737986</td>\n",
       "      <td>8797591</td>\n",
       "      <td>26.0</td>\n",
       "      <td>1</td>\n",
       "      <td>15</td>\n",
       "      <td>SUV</td>\n",
       "      <td>BMW</td>\n",
       "      <td>08/25/2022</td>\n",
       "      <td>Weekday</td>\n",
       "      <td>09-09-2022 3:25</td>\n",
       "      <td>Weekday</td>\n",
       "      <td>True</td>\n",
       "      <td>False</td>\n",
       "      <td>Install Nitrogen into all Tires</td>\n",
       "      <td>2</td>\n",
       "      <td>2</td>\n",
       "      <td>09-09-2022</td>\n",
       "      <td>False</td>\n",
       "      <td>True</td>\n",
       "      <td>True</td>\n",
       "      <td>15-30</td>\n",
       "      <td>10-20</td>\n",
       "    </tr>\n",
       "    <tr>\n",
       "      <th>4</th>\n",
       "      <td>697291</td>\n",
       "      <td>3057583</td>\n",
       "      <td>26.0</td>\n",
       "      <td>1</td>\n",
       "      <td>13</td>\n",
       "      <td>Hatchback</td>\n",
       "      <td>FIAT</td>\n",
       "      <td>07/12/2022</td>\n",
       "      <td>Weekday</td>\n",
       "      <td>07-12-2022 8:50</td>\n",
       "      <td>Weekday</td>\n",
       "      <td>False</td>\n",
       "      <td>True</td>\n",
       "      <td>Replace cabin air filter</td>\n",
       "      <td>5</td>\n",
       "      <td>2</td>\n",
       "      <td>07-12-2022</td>\n",
       "      <td>True</td>\n",
       "      <td>False</td>\n",
       "      <td>False</td>\n",
       "      <td>15-30</td>\n",
       "      <td>10-20</td>\n",
       "    </tr>\n",
       "    <tr>\n",
       "      <th>...</th>\n",
       "      <td>...</td>\n",
       "      <td>...</td>\n",
       "      <td>...</td>\n",
       "      <td>...</td>\n",
       "      <td>...</td>\n",
       "      <td>...</td>\n",
       "      <td>...</td>\n",
       "      <td>...</td>\n",
       "      <td>...</td>\n",
       "      <td>...</td>\n",
       "      <td>...</td>\n",
       "      <td>...</td>\n",
       "      <td>...</td>\n",
       "      <td>...</td>\n",
       "      <td>...</td>\n",
       "      <td>...</td>\n",
       "      <td>...</td>\n",
       "      <td>...</td>\n",
       "      <td>...</td>\n",
       "      <td>...</td>\n",
       "      <td>...</td>\n",
       "      <td>...</td>\n",
       "    </tr>\n",
       "    <tr>\n",
       "      <th>300151</th>\n",
       "      <td>1616980</td>\n",
       "      <td>770936</td>\n",
       "      <td>54.0</td>\n",
       "      <td>1</td>\n",
       "      <td>7</td>\n",
       "      <td>Coupe</td>\n",
       "      <td>Aston Martin</td>\n",
       "      <td>02/09/2022</td>\n",
       "      <td>Weekday</td>\n",
       "      <td>02-19-2022 1:35</td>\n",
       "      <td>Weekend</td>\n",
       "      <td>False</td>\n",
       "      <td>False</td>\n",
       "      <td>Throttle Body Service</td>\n",
       "      <td>2</td>\n",
       "      <td>1</td>\n",
       "      <td>02-19-2022</td>\n",
       "      <td>True</td>\n",
       "      <td>True</td>\n",
       "      <td>False</td>\n",
       "      <td>50-70</td>\n",
       "      <td>0-10</td>\n",
       "    </tr>\n",
       "    <tr>\n",
       "      <th>300152</th>\n",
       "      <td>254235</td>\n",
       "      <td>2497209</td>\n",
       "      <td>22.0</td>\n",
       "      <td>0</td>\n",
       "      <td>20</td>\n",
       "      <td>Hatchback</td>\n",
       "      <td>Nissan</td>\n",
       "      <td>05/02/2022</td>\n",
       "      <td>Weekday</td>\n",
       "      <td>05-16-2022 2:5</td>\n",
       "      <td>Weekday</td>\n",
       "      <td>True</td>\n",
       "      <td>True</td>\n",
       "      <td>Headlamp restoration</td>\n",
       "      <td>6</td>\n",
       "      <td>9</td>\n",
       "      <td>05-16-2022</td>\n",
       "      <td>True</td>\n",
       "      <td>True</td>\n",
       "      <td>False</td>\n",
       "      <td>15-30</td>\n",
       "      <td>10-20</td>\n",
       "    </tr>\n",
       "    <tr>\n",
       "      <th>300153</th>\n",
       "      <td>2804801</td>\n",
       "      <td>4356314</td>\n",
       "      <td>31.0</td>\n",
       "      <td>0</td>\n",
       "      <td>10</td>\n",
       "      <td>SUV</td>\n",
       "      <td>INFINITI</td>\n",
       "      <td>05/14/2022</td>\n",
       "      <td>Weekend</td>\n",
       "      <td>05-18-2022 8:55</td>\n",
       "      <td>Weekday</td>\n",
       "      <td>False</td>\n",
       "      <td>False</td>\n",
       "      <td>Perform Cabin Air Filter Vent Cleaning Service</td>\n",
       "      <td>1</td>\n",
       "      <td>2</td>\n",
       "      <td>05-18-2022</td>\n",
       "      <td>False</td>\n",
       "      <td>False</td>\n",
       "      <td>False</td>\n",
       "      <td>30-50</td>\n",
       "      <td>0-10</td>\n",
       "    </tr>\n",
       "    <tr>\n",
       "      <th>300154</th>\n",
       "      <td>335380</td>\n",
       "      <td>3183268</td>\n",
       "      <td>45.0</td>\n",
       "      <td>1</td>\n",
       "      <td>1</td>\n",
       "      <td>Hatchback</td>\n",
       "      <td>Hyundai</td>\n",
       "      <td>07/13/2022</td>\n",
       "      <td>Weekday</td>\n",
       "      <td>07-30-2022 8:5</td>\n",
       "      <td>Weekend</td>\n",
       "      <td>True</td>\n",
       "      <td>True</td>\n",
       "      <td>Replace Engine and Cabin Air Filters</td>\n",
       "      <td>3</td>\n",
       "      <td>4</td>\n",
       "      <td>07-30-2022</td>\n",
       "      <td>True</td>\n",
       "      <td>False</td>\n",
       "      <td>False</td>\n",
       "      <td>30-50</td>\n",
       "      <td>0-10</td>\n",
       "    </tr>\n",
       "    <tr>\n",
       "      <th>300155</th>\n",
       "      <td>1771985</td>\n",
       "      <td>6855956</td>\n",
       "      <td>37.0</td>\n",
       "      <td>1</td>\n",
       "      <td>3</td>\n",
       "      <td>Sedan</td>\n",
       "      <td>Chrysler</td>\n",
       "      <td>02/11/2022</td>\n",
       "      <td>Weekday</td>\n",
       "      <td>02-19-2022 11:30</td>\n",
       "      <td>Weekend</td>\n",
       "      <td>True</td>\n",
       "      <td>True</td>\n",
       "      <td>Replace front brakes</td>\n",
       "      <td>10</td>\n",
       "      <td>10</td>\n",
       "      <td>02-19-2022</td>\n",
       "      <td>False</td>\n",
       "      <td>True</td>\n",
       "      <td>False</td>\n",
       "      <td>30-50</td>\n",
       "      <td>0-10</td>\n",
       "    </tr>\n",
       "  </tbody>\n",
       "</table>\n",
       "<p>300156 rows × 22 columns</p>\n",
       "</div>"
      ],
      "text/plain": [
       "       CustomerId AppointmentID  CustAge  CustGender  VehicleAge VehicleType  \\\n",
       "0         1563014       6149830     25.0           1          20   Hatchback   \n",
       "1         4065606       6707205     52.0           1           5     Minivan   \n",
       "2          811817       5568312     27.0           1          16       Wagon   \n",
       "3         3737986       8797591     26.0           1          15         SUV   \n",
       "4          697291       3057583     26.0           1          13   Hatchback   \n",
       "...           ...           ...      ...         ...         ...         ...   \n",
       "300151    1616980        770936     54.0           1           7       Coupe   \n",
       "300152     254235       2497209     22.0           0          20   Hatchback   \n",
       "300153    2804801       4356314     31.0           0          10         SUV   \n",
       "300154     335380       3183268     45.0           1           1   Hatchback   \n",
       "300155    1771985       6855956     37.0           1           3       Sedan   \n",
       "\n",
       "          VehicleOEM Appointment_Date AppointmentDay     ScheduledDate  \\\n",
       "0                BMW       09/17/2022        Weekend   10-03-2022 8:25   \n",
       "1                GMC       05/18/2022        Weekday   06-04-2022 2:30   \n",
       "2             Nissan       06/11/2022        Weekend   06-30-2022 6:40   \n",
       "3                BMW       08/25/2022        Weekday   09-09-2022 3:25   \n",
       "4               FIAT       07/12/2022        Weekday   07-12-2022 8:50   \n",
       "...              ...              ...            ...               ...   \n",
       "300151  Aston Martin       02/09/2022        Weekday   02-19-2022 1:35   \n",
       "300152        Nissan       05/02/2022        Weekday    05-16-2022 2:5   \n",
       "300153      INFINITI       05/14/2022        Weekend   05-18-2022 8:55   \n",
       "300154       Hyundai       07/13/2022        Weekday    07-30-2022 8:5   \n",
       "300155      Chrysler       02/11/2022        Weekday  02-19-2022 11:30   \n",
       "\n",
       "       ScheduledDay  SMSReceived  ReminderReceived  \\\n",
       "0           Weekday        False             False   \n",
       "1           Weekend        False             False   \n",
       "2           Weekday        False             False   \n",
       "3           Weekday         True             False   \n",
       "4           Weekday        False              True   \n",
       "...             ...          ...               ...   \n",
       "300151      Weekend        False             False   \n",
       "300152      Weekday         True              True   \n",
       "300153      Weekday        False             False   \n",
       "300154      Weekend         True              True   \n",
       "300155      Weekend         True              True   \n",
       "\n",
       "                                            IssueArena IssueCriticality  \\\n",
       "0                                  Replace rear brakes               10   \n",
       "1                          Battery Maintenance Service                2   \n",
       "2                       Install Premium Fuel Treatment                2   \n",
       "3                      Install Nitrogen into all Tires                2   \n",
       "4                             Replace cabin air filter                5   \n",
       "...                                                ...              ...   \n",
       "300151                           Throttle Body Service                2   \n",
       "300152                            Headlamp restoration                6   \n",
       "300153  Perform Cabin Air Filter Vent Cleaning Service                1   \n",
       "300154            Replace Engine and Cabin Air Filters                3   \n",
       "300155                            Replace front brakes               10   \n",
       "\n",
       "       IssueSeverity Last Serviced date  TechinicianAssigned  NewIssue  \\\n",
       "0                 10         10-03-2022                False     False   \n",
       "1                  3         06-04-2022                False     False   \n",
       "2                  1         06-30-2022                 True     False   \n",
       "3                  2         09-09-2022                False      True   \n",
       "4                  2         07-12-2022                 True     False   \n",
       "...              ...                ...                  ...       ...   \n",
       "300151             1         02-19-2022                 True      True   \n",
       "300152             9         05-16-2022                 True      True   \n",
       "300153             2         05-18-2022                False     False   \n",
       "300154             4         07-30-2022                 True     False   \n",
       "300155            10         02-19-2022                False      True   \n",
       "\n",
       "        NoShow Customer_Age_bin Vehicle_Age_bin  \n",
       "0        False            15-30           10-20  \n",
       "1        False            50-70            0-10  \n",
       "2        False            15-30           10-20  \n",
       "3         True            15-30           10-20  \n",
       "4        False            15-30           10-20  \n",
       "...        ...              ...             ...  \n",
       "300151   False            50-70            0-10  \n",
       "300152   False            15-30           10-20  \n",
       "300153   False            30-50            0-10  \n",
       "300154   False            30-50            0-10  \n",
       "300155   False            30-50            0-10  \n",
       "\n",
       "[300156 rows x 22 columns]"
      ]
     },
     "execution_count": 277,
     "metadata": {},
     "output_type": "execute_result"
    }
   ],
   "source": [
    "bins = [0,10,20,30,40]\n",
    "category = [\"0-10\",\"10-20\",\"20-30\",\">30\"]\n",
    "df['Vehicle_Age_bin'] = pd.cut(df['VehicleAge'], bins, labels=category)\n",
    "df"
   ]
  },
  {
   "cell_type": "markdown",
   "id": "41136f98",
   "metadata": {},
   "source": [
    "Consider till here for capstone."
   ]
  },
  {
   "cell_type": "code",
   "execution_count": null,
   "id": "8ed2be53",
   "metadata": {},
   "outputs": [],
   "source": []
  },
  {
   "cell_type": "code",
   "execution_count": null,
   "id": "a774d869",
   "metadata": {},
   "outputs": [],
   "source": []
  },
  {
   "cell_type": "code",
   "execution_count": null,
   "id": "d76b83c2",
   "metadata": {},
   "outputs": [],
   "source": []
  },
  {
   "cell_type": "code",
   "execution_count": null,
   "id": "3f4f0054",
   "metadata": {},
   "outputs": [],
   "source": []
  },
  {
   "cell_type": "code",
   "execution_count": null,
   "id": "32b1ac25",
   "metadata": {},
   "outputs": [],
   "source": []
  },
  {
   "cell_type": "code",
   "execution_count": null,
   "id": "9d43c978",
   "metadata": {},
   "outputs": [],
   "source": []
  },
  {
   "cell_type": "code",
   "execution_count": null,
   "id": "d1291768",
   "metadata": {},
   "outputs": [],
   "source": []
  },
  {
   "cell_type": "code",
   "execution_count": null,
   "id": "f3594384",
   "metadata": {},
   "outputs": [],
   "source": []
  },
  {
   "cell_type": "code",
   "execution_count": 278,
   "id": "0c9c4f0a",
   "metadata": {},
   "outputs": [
    {
     "ename": "ValueError",
     "evalue": "could not convert string to float: '09/17/2022'",
     "output_type": "error",
     "traceback": [
      "\u001b[0;31m---------------------------------------------------------------------------\u001b[0m",
      "\u001b[0;31mValueError\u001b[0m                                Traceback (most recent call last)",
      "Input \u001b[0;32mIn [278]\u001b[0m, in \u001b[0;36m<cell line: 19>\u001b[0;34m()\u001b[0m\n\u001b[1;32m     15\u001b[0m     scores\u001b[38;5;241m=\u001b[39mpd\u001b[38;5;241m.\u001b[39mDataFrame(pcs\u001b[38;5;241m.\u001b[39mfit_transform(df),columns\u001b[38;5;241m=\u001b[39mpcsSummary_df\u001b[38;5;241m.\u001b[39mcolumns)\n\u001b[1;32m     17\u001b[0m     \u001b[38;5;28;01mreturn\u001b[39;00m pcsSummary_df, pcsComponents_df, scores  \u001b[38;5;66;03m# return #1 summary of PCA, #2 components, #scores\u001b[39;00m\n\u001b[0;32m---> 19\u001b[0m pcsSummary_df\u001b[38;5;241m=\u001b[39m\u001b[43mscale_sum\u001b[49m\u001b[43m(\u001b[49m\u001b[43mdf\u001b[49m\u001b[38;5;241;43m=\u001b[39;49m\u001b[43mdf\u001b[49m\u001b[38;5;241;43m.\u001b[39;49m\u001b[43miloc\u001b[49m\u001b[43m[\u001b[49m\u001b[43m:\u001b[49m\u001b[43m,\u001b[49m\u001b[38;5;241;43m1\u001b[39;49m\u001b[43m:\u001b[49m\u001b[43m]\u001b[49m\u001b[43m,\u001b[49m\u001b[43mscaler\u001b[49m\u001b[43m \u001b[49m\u001b[38;5;241;43m=\u001b[39;49m\u001b[43m \u001b[49m\u001b[43mpreprocessing\u001b[49m\u001b[38;5;241;43m.\u001b[39;49m\u001b[43mMinMaxScaler\u001b[49m\u001b[43m(\u001b[49m\u001b[43m)\u001b[49m\u001b[43m,\u001b[49m\u001b[43mindex\u001b[49m\u001b[38;5;241;43m=\u001b[39;49m\u001b[43mdf\u001b[49m\u001b[38;5;241;43m.\u001b[39;49m\u001b[43mcolumns\u001b[49m\u001b[43m[\u001b[49m\u001b[38;5;241;43m1\u001b[39;49m\u001b[43m:\u001b[49m\u001b[43m]\u001b[49m\u001b[43m)\u001b[49m[\u001b[38;5;241m0\u001b[39m]\n\u001b[1;32m     20\u001b[0m pcsSummary_df\n",
      "Input \u001b[0;32mIn [278]\u001b[0m, in \u001b[0;36mscale_sum\u001b[0;34m(df, scaler, index)\u001b[0m\n\u001b[1;32m      2\u001b[0m \u001b[38;5;28;01mdef\u001b[39;00m \u001b[38;5;21mscale_sum\u001b[39m(df,scaler,index):\n\u001b[0;32m----> 3\u001b[0m     df \u001b[38;5;241m=\u001b[39m pd\u001b[38;5;241m.\u001b[39mDataFrame(\u001b[43mscaler\u001b[49m\u001b[38;5;241;43m.\u001b[39;49m\u001b[43mfit_transform\u001b[49m\u001b[43m(\u001b[49m\u001b[43mdf\u001b[49m\u001b[43m)\u001b[49m) \u001b[38;5;66;03m#scaled object\u001b[39;00m\n\u001b[1;32m      4\u001b[0m     pcs \u001b[38;5;241m=\u001b[39m PCA()  \u001b[38;5;66;03m#pca technique\u001b[39;00m\n\u001b[1;32m      5\u001b[0m     pcs\u001b[38;5;241m.\u001b[39mfit(df) \u001b[38;5;66;03m#fit data to pca\u001b[39;00m\n",
      "File \u001b[0;32m~/opt/anaconda3/lib/python3.9/site-packages/sklearn/base.py:867\u001b[0m, in \u001b[0;36mTransformerMixin.fit_transform\u001b[0;34m(self, X, y, **fit_params)\u001b[0m\n\u001b[1;32m    863\u001b[0m \u001b[38;5;66;03m# non-optimized default implementation; override when a better\u001b[39;00m\n\u001b[1;32m    864\u001b[0m \u001b[38;5;66;03m# method is possible for a given clustering algorithm\u001b[39;00m\n\u001b[1;32m    865\u001b[0m \u001b[38;5;28;01mif\u001b[39;00m y \u001b[38;5;129;01mis\u001b[39;00m \u001b[38;5;28;01mNone\u001b[39;00m:\n\u001b[1;32m    866\u001b[0m     \u001b[38;5;66;03m# fit method of arity 1 (unsupervised transformation)\u001b[39;00m\n\u001b[0;32m--> 867\u001b[0m     \u001b[38;5;28;01mreturn\u001b[39;00m \u001b[38;5;28;43mself\u001b[39;49m\u001b[38;5;241;43m.\u001b[39;49m\u001b[43mfit\u001b[49m\u001b[43m(\u001b[49m\u001b[43mX\u001b[49m\u001b[43m,\u001b[49m\u001b[43m \u001b[49m\u001b[38;5;241;43m*\u001b[39;49m\u001b[38;5;241;43m*\u001b[39;49m\u001b[43mfit_params\u001b[49m\u001b[43m)\u001b[49m\u001b[38;5;241m.\u001b[39mtransform(X)\n\u001b[1;32m    868\u001b[0m \u001b[38;5;28;01melse\u001b[39;00m:\n\u001b[1;32m    869\u001b[0m     \u001b[38;5;66;03m# fit method of arity 2 (supervised transformation)\u001b[39;00m\n\u001b[1;32m    870\u001b[0m     \u001b[38;5;28;01mreturn\u001b[39;00m \u001b[38;5;28mself\u001b[39m\u001b[38;5;241m.\u001b[39mfit(X, y, \u001b[38;5;241m*\u001b[39m\u001b[38;5;241m*\u001b[39mfit_params)\u001b[38;5;241m.\u001b[39mtransform(X)\n",
      "File \u001b[0;32m~/opt/anaconda3/lib/python3.9/site-packages/sklearn/preprocessing/_data.py:420\u001b[0m, in \u001b[0;36mMinMaxScaler.fit\u001b[0;34m(self, X, y)\u001b[0m\n\u001b[1;32m    418\u001b[0m \u001b[38;5;66;03m# Reset internal state before fitting\u001b[39;00m\n\u001b[1;32m    419\u001b[0m \u001b[38;5;28mself\u001b[39m\u001b[38;5;241m.\u001b[39m_reset()\n\u001b[0;32m--> 420\u001b[0m \u001b[38;5;28;01mreturn\u001b[39;00m \u001b[38;5;28;43mself\u001b[39;49m\u001b[38;5;241;43m.\u001b[39;49m\u001b[43mpartial_fit\u001b[49m\u001b[43m(\u001b[49m\u001b[43mX\u001b[49m\u001b[43m,\u001b[49m\u001b[43m \u001b[49m\u001b[43my\u001b[49m\u001b[43m)\u001b[49m\n",
      "File \u001b[0;32m~/opt/anaconda3/lib/python3.9/site-packages/sklearn/preprocessing/_data.py:457\u001b[0m, in \u001b[0;36mMinMaxScaler.partial_fit\u001b[0;34m(self, X, y)\u001b[0m\n\u001b[1;32m    451\u001b[0m     \u001b[38;5;28;01mraise\u001b[39;00m \u001b[38;5;167;01mTypeError\u001b[39;00m(\n\u001b[1;32m    452\u001b[0m         \u001b[38;5;124m\"\u001b[39m\u001b[38;5;124mMinMaxScaler does not support sparse input. \u001b[39m\u001b[38;5;124m\"\u001b[39m\n\u001b[1;32m    453\u001b[0m         \u001b[38;5;124m\"\u001b[39m\u001b[38;5;124mConsider using MaxAbsScaler instead.\u001b[39m\u001b[38;5;124m\"\u001b[39m\n\u001b[1;32m    454\u001b[0m     )\n\u001b[1;32m    456\u001b[0m first_pass \u001b[38;5;241m=\u001b[39m \u001b[38;5;129;01mnot\u001b[39;00m \u001b[38;5;28mhasattr\u001b[39m(\u001b[38;5;28mself\u001b[39m, \u001b[38;5;124m\"\u001b[39m\u001b[38;5;124mn_samples_seen_\u001b[39m\u001b[38;5;124m\"\u001b[39m)\n\u001b[0;32m--> 457\u001b[0m X \u001b[38;5;241m=\u001b[39m \u001b[38;5;28;43mself\u001b[39;49m\u001b[38;5;241;43m.\u001b[39;49m\u001b[43m_validate_data\u001b[49m\u001b[43m(\u001b[49m\n\u001b[1;32m    458\u001b[0m \u001b[43m    \u001b[49m\u001b[43mX\u001b[49m\u001b[43m,\u001b[49m\n\u001b[1;32m    459\u001b[0m \u001b[43m    \u001b[49m\u001b[43mreset\u001b[49m\u001b[38;5;241;43m=\u001b[39;49m\u001b[43mfirst_pass\u001b[49m\u001b[43m,\u001b[49m\n\u001b[1;32m    460\u001b[0m \u001b[43m    \u001b[49m\u001b[43mdtype\u001b[49m\u001b[38;5;241;43m=\u001b[39;49m\u001b[43mFLOAT_DTYPES\u001b[49m\u001b[43m,\u001b[49m\n\u001b[1;32m    461\u001b[0m \u001b[43m    \u001b[49m\u001b[43mforce_all_finite\u001b[49m\u001b[38;5;241;43m=\u001b[39;49m\u001b[38;5;124;43m\"\u001b[39;49m\u001b[38;5;124;43mallow-nan\u001b[39;49m\u001b[38;5;124;43m\"\u001b[39;49m\u001b[43m,\u001b[49m\n\u001b[1;32m    462\u001b[0m \u001b[43m\u001b[49m\u001b[43m)\u001b[49m\n\u001b[1;32m    464\u001b[0m data_min \u001b[38;5;241m=\u001b[39m np\u001b[38;5;241m.\u001b[39mnanmin(X, axis\u001b[38;5;241m=\u001b[39m\u001b[38;5;241m0\u001b[39m)\n\u001b[1;32m    465\u001b[0m data_max \u001b[38;5;241m=\u001b[39m np\u001b[38;5;241m.\u001b[39mnanmax(X, axis\u001b[38;5;241m=\u001b[39m\u001b[38;5;241m0\u001b[39m)\n",
      "File \u001b[0;32m~/opt/anaconda3/lib/python3.9/site-packages/sklearn/base.py:577\u001b[0m, in \u001b[0;36mBaseEstimator._validate_data\u001b[0;34m(self, X, y, reset, validate_separately, **check_params)\u001b[0m\n\u001b[1;32m    575\u001b[0m     \u001b[38;5;28;01mraise\u001b[39;00m \u001b[38;5;167;01mValueError\u001b[39;00m(\u001b[38;5;124m\"\u001b[39m\u001b[38;5;124mValidation should be done on X, y or both.\u001b[39m\u001b[38;5;124m\"\u001b[39m)\n\u001b[1;32m    576\u001b[0m \u001b[38;5;28;01melif\u001b[39;00m \u001b[38;5;129;01mnot\u001b[39;00m no_val_X \u001b[38;5;129;01mand\u001b[39;00m no_val_y:\n\u001b[0;32m--> 577\u001b[0m     X \u001b[38;5;241m=\u001b[39m \u001b[43mcheck_array\u001b[49m\u001b[43m(\u001b[49m\u001b[43mX\u001b[49m\u001b[43m,\u001b[49m\u001b[43m \u001b[49m\u001b[43minput_name\u001b[49m\u001b[38;5;241;43m=\u001b[39;49m\u001b[38;5;124;43m\"\u001b[39;49m\u001b[38;5;124;43mX\u001b[39;49m\u001b[38;5;124;43m\"\u001b[39;49m\u001b[43m,\u001b[49m\u001b[43m \u001b[49m\u001b[38;5;241;43m*\u001b[39;49m\u001b[38;5;241;43m*\u001b[39;49m\u001b[43mcheck_params\u001b[49m\u001b[43m)\u001b[49m\n\u001b[1;32m    578\u001b[0m     out \u001b[38;5;241m=\u001b[39m X\n\u001b[1;32m    579\u001b[0m \u001b[38;5;28;01melif\u001b[39;00m no_val_X \u001b[38;5;129;01mand\u001b[39;00m \u001b[38;5;129;01mnot\u001b[39;00m no_val_y:\n",
      "File \u001b[0;32m~/opt/anaconda3/lib/python3.9/site-packages/sklearn/utils/validation.py:791\u001b[0m, in \u001b[0;36mcheck_array\u001b[0;34m(array, accept_sparse, accept_large_sparse, dtype, order, copy, force_all_finite, ensure_2d, allow_nd, ensure_min_samples, ensure_min_features, estimator, input_name)\u001b[0m\n\u001b[1;32m    786\u001b[0m \u001b[38;5;28;01mif\u001b[39;00m pandas_requires_conversion:\n\u001b[1;32m    787\u001b[0m     \u001b[38;5;66;03m# pandas dataframe requires conversion earlier to handle extension dtypes with\u001b[39;00m\n\u001b[1;32m    788\u001b[0m     \u001b[38;5;66;03m# nans\u001b[39;00m\n\u001b[1;32m    789\u001b[0m     \u001b[38;5;66;03m# Use the original dtype for conversion if dtype is None\u001b[39;00m\n\u001b[1;32m    790\u001b[0m     new_dtype \u001b[38;5;241m=\u001b[39m dtype_orig \u001b[38;5;28;01mif\u001b[39;00m dtype \u001b[38;5;129;01mis\u001b[39;00m \u001b[38;5;28;01mNone\u001b[39;00m \u001b[38;5;28;01melse\u001b[39;00m dtype\n\u001b[0;32m--> 791\u001b[0m     array \u001b[38;5;241m=\u001b[39m \u001b[43marray\u001b[49m\u001b[38;5;241;43m.\u001b[39;49m\u001b[43mastype\u001b[49m\u001b[43m(\u001b[49m\u001b[43mnew_dtype\u001b[49m\u001b[43m)\u001b[49m\n\u001b[1;32m    792\u001b[0m     \u001b[38;5;66;03m# Since we converted here, we do not need to convert again later\u001b[39;00m\n\u001b[1;32m    793\u001b[0m     dtype \u001b[38;5;241m=\u001b[39m \u001b[38;5;28;01mNone\u001b[39;00m\n",
      "File \u001b[0;32m~/opt/anaconda3/lib/python3.9/site-packages/pandas/core/generic.py:5912\u001b[0m, in \u001b[0;36mNDFrame.astype\u001b[0;34m(self, dtype, copy, errors)\u001b[0m\n\u001b[1;32m   5905\u001b[0m     results \u001b[38;5;241m=\u001b[39m [\n\u001b[1;32m   5906\u001b[0m         \u001b[38;5;28mself\u001b[39m\u001b[38;5;241m.\u001b[39miloc[:, i]\u001b[38;5;241m.\u001b[39mastype(dtype, copy\u001b[38;5;241m=\u001b[39mcopy)\n\u001b[1;32m   5907\u001b[0m         \u001b[38;5;28;01mfor\u001b[39;00m i \u001b[38;5;129;01min\u001b[39;00m \u001b[38;5;28mrange\u001b[39m(\u001b[38;5;28mlen\u001b[39m(\u001b[38;5;28mself\u001b[39m\u001b[38;5;241m.\u001b[39mcolumns))\n\u001b[1;32m   5908\u001b[0m     ]\n\u001b[1;32m   5910\u001b[0m \u001b[38;5;28;01melse\u001b[39;00m:\n\u001b[1;32m   5911\u001b[0m     \u001b[38;5;66;03m# else, only a single dtype is given\u001b[39;00m\n\u001b[0;32m-> 5912\u001b[0m     new_data \u001b[38;5;241m=\u001b[39m \u001b[38;5;28;43mself\u001b[39;49m\u001b[38;5;241;43m.\u001b[39;49m\u001b[43m_mgr\u001b[49m\u001b[38;5;241;43m.\u001b[39;49m\u001b[43mastype\u001b[49m\u001b[43m(\u001b[49m\u001b[43mdtype\u001b[49m\u001b[38;5;241;43m=\u001b[39;49m\u001b[43mdtype\u001b[49m\u001b[43m,\u001b[49m\u001b[43m \u001b[49m\u001b[43mcopy\u001b[49m\u001b[38;5;241;43m=\u001b[39;49m\u001b[43mcopy\u001b[49m\u001b[43m,\u001b[49m\u001b[43m \u001b[49m\u001b[43merrors\u001b[49m\u001b[38;5;241;43m=\u001b[39;49m\u001b[43merrors\u001b[49m\u001b[43m)\u001b[49m\n\u001b[1;32m   5913\u001b[0m     \u001b[38;5;28;01mreturn\u001b[39;00m \u001b[38;5;28mself\u001b[39m\u001b[38;5;241m.\u001b[39m_constructor(new_data)\u001b[38;5;241m.\u001b[39m__finalize__(\u001b[38;5;28mself\u001b[39m, method\u001b[38;5;241m=\u001b[39m\u001b[38;5;124m\"\u001b[39m\u001b[38;5;124mastype\u001b[39m\u001b[38;5;124m\"\u001b[39m)\n\u001b[1;32m   5915\u001b[0m \u001b[38;5;66;03m# GH 33113: handle empty frame or series\u001b[39;00m\n",
      "File \u001b[0;32m~/opt/anaconda3/lib/python3.9/site-packages/pandas/core/internals/managers.py:419\u001b[0m, in \u001b[0;36mBaseBlockManager.astype\u001b[0;34m(self, dtype, copy, errors)\u001b[0m\n\u001b[1;32m    418\u001b[0m \u001b[38;5;28;01mdef\u001b[39;00m \u001b[38;5;21mastype\u001b[39m(\u001b[38;5;28mself\u001b[39m: T, dtype, copy: \u001b[38;5;28mbool\u001b[39m \u001b[38;5;241m=\u001b[39m \u001b[38;5;28;01mFalse\u001b[39;00m, errors: \u001b[38;5;28mstr\u001b[39m \u001b[38;5;241m=\u001b[39m \u001b[38;5;124m\"\u001b[39m\u001b[38;5;124mraise\u001b[39m\u001b[38;5;124m\"\u001b[39m) \u001b[38;5;241m-\u001b[39m\u001b[38;5;241m>\u001b[39m T:\n\u001b[0;32m--> 419\u001b[0m     \u001b[38;5;28;01mreturn\u001b[39;00m \u001b[38;5;28;43mself\u001b[39;49m\u001b[38;5;241;43m.\u001b[39;49m\u001b[43mapply\u001b[49m\u001b[43m(\u001b[49m\u001b[38;5;124;43m\"\u001b[39;49m\u001b[38;5;124;43mastype\u001b[39;49m\u001b[38;5;124;43m\"\u001b[39;49m\u001b[43m,\u001b[49m\u001b[43m \u001b[49m\u001b[43mdtype\u001b[49m\u001b[38;5;241;43m=\u001b[39;49m\u001b[43mdtype\u001b[49m\u001b[43m,\u001b[49m\u001b[43m \u001b[49m\u001b[43mcopy\u001b[49m\u001b[38;5;241;43m=\u001b[39;49m\u001b[43mcopy\u001b[49m\u001b[43m,\u001b[49m\u001b[43m \u001b[49m\u001b[43merrors\u001b[49m\u001b[38;5;241;43m=\u001b[39;49m\u001b[43merrors\u001b[49m\u001b[43m)\u001b[49m\n",
      "File \u001b[0;32m~/opt/anaconda3/lib/python3.9/site-packages/pandas/core/internals/managers.py:304\u001b[0m, in \u001b[0;36mBaseBlockManager.apply\u001b[0;34m(self, f, align_keys, ignore_failures, **kwargs)\u001b[0m\n\u001b[1;32m    302\u001b[0m         applied \u001b[38;5;241m=\u001b[39m b\u001b[38;5;241m.\u001b[39mapply(f, \u001b[38;5;241m*\u001b[39m\u001b[38;5;241m*\u001b[39mkwargs)\n\u001b[1;32m    303\u001b[0m     \u001b[38;5;28;01melse\u001b[39;00m:\n\u001b[0;32m--> 304\u001b[0m         applied \u001b[38;5;241m=\u001b[39m \u001b[38;5;28;43mgetattr\u001b[39;49m\u001b[43m(\u001b[49m\u001b[43mb\u001b[49m\u001b[43m,\u001b[49m\u001b[43m \u001b[49m\u001b[43mf\u001b[49m\u001b[43m)\u001b[49m\u001b[43m(\u001b[49m\u001b[38;5;241;43m*\u001b[39;49m\u001b[38;5;241;43m*\u001b[39;49m\u001b[43mkwargs\u001b[49m\u001b[43m)\u001b[49m\n\u001b[1;32m    305\u001b[0m \u001b[38;5;28;01mexcept\u001b[39;00m (\u001b[38;5;167;01mTypeError\u001b[39;00m, \u001b[38;5;167;01mNotImplementedError\u001b[39;00m):\n\u001b[1;32m    306\u001b[0m     \u001b[38;5;28;01mif\u001b[39;00m \u001b[38;5;129;01mnot\u001b[39;00m ignore_failures:\n",
      "File \u001b[0;32m~/opt/anaconda3/lib/python3.9/site-packages/pandas/core/internals/blocks.py:580\u001b[0m, in \u001b[0;36mBlock.astype\u001b[0;34m(self, dtype, copy, errors)\u001b[0m\n\u001b[1;32m    562\u001b[0m \u001b[38;5;124;03m\"\"\"\u001b[39;00m\n\u001b[1;32m    563\u001b[0m \u001b[38;5;124;03mCoerce to the new dtype.\u001b[39;00m\n\u001b[1;32m    564\u001b[0m \n\u001b[0;32m   (...)\u001b[0m\n\u001b[1;32m    576\u001b[0m \u001b[38;5;124;03mBlock\u001b[39;00m\n\u001b[1;32m    577\u001b[0m \u001b[38;5;124;03m\"\"\"\u001b[39;00m\n\u001b[1;32m    578\u001b[0m values \u001b[38;5;241m=\u001b[39m \u001b[38;5;28mself\u001b[39m\u001b[38;5;241m.\u001b[39mvalues\n\u001b[0;32m--> 580\u001b[0m new_values \u001b[38;5;241m=\u001b[39m \u001b[43mastype_array_safe\u001b[49m\u001b[43m(\u001b[49m\u001b[43mvalues\u001b[49m\u001b[43m,\u001b[49m\u001b[43m \u001b[49m\u001b[43mdtype\u001b[49m\u001b[43m,\u001b[49m\u001b[43m \u001b[49m\u001b[43mcopy\u001b[49m\u001b[38;5;241;43m=\u001b[39;49m\u001b[43mcopy\u001b[49m\u001b[43m,\u001b[49m\u001b[43m \u001b[49m\u001b[43merrors\u001b[49m\u001b[38;5;241;43m=\u001b[39;49m\u001b[43merrors\u001b[49m\u001b[43m)\u001b[49m\n\u001b[1;32m    582\u001b[0m new_values \u001b[38;5;241m=\u001b[39m maybe_coerce_values(new_values)\n\u001b[1;32m    583\u001b[0m newb \u001b[38;5;241m=\u001b[39m \u001b[38;5;28mself\u001b[39m\u001b[38;5;241m.\u001b[39mmake_block(new_values)\n",
      "File \u001b[0;32m~/opt/anaconda3/lib/python3.9/site-packages/pandas/core/dtypes/cast.py:1292\u001b[0m, in \u001b[0;36mastype_array_safe\u001b[0;34m(values, dtype, copy, errors)\u001b[0m\n\u001b[1;32m   1289\u001b[0m     dtype \u001b[38;5;241m=\u001b[39m dtype\u001b[38;5;241m.\u001b[39mnumpy_dtype\n\u001b[1;32m   1291\u001b[0m \u001b[38;5;28;01mtry\u001b[39;00m:\n\u001b[0;32m-> 1292\u001b[0m     new_values \u001b[38;5;241m=\u001b[39m \u001b[43mastype_array\u001b[49m\u001b[43m(\u001b[49m\u001b[43mvalues\u001b[49m\u001b[43m,\u001b[49m\u001b[43m \u001b[49m\u001b[43mdtype\u001b[49m\u001b[43m,\u001b[49m\u001b[43m \u001b[49m\u001b[43mcopy\u001b[49m\u001b[38;5;241;43m=\u001b[39;49m\u001b[43mcopy\u001b[49m\u001b[43m)\u001b[49m\n\u001b[1;32m   1293\u001b[0m \u001b[38;5;28;01mexcept\u001b[39;00m (\u001b[38;5;167;01mValueError\u001b[39;00m, \u001b[38;5;167;01mTypeError\u001b[39;00m):\n\u001b[1;32m   1294\u001b[0m     \u001b[38;5;66;03m# e.g. astype_nansafe can fail on object-dtype of strings\u001b[39;00m\n\u001b[1;32m   1295\u001b[0m     \u001b[38;5;66;03m#  trying to convert to float\u001b[39;00m\n\u001b[1;32m   1296\u001b[0m     \u001b[38;5;28;01mif\u001b[39;00m errors \u001b[38;5;241m==\u001b[39m \u001b[38;5;124m\"\u001b[39m\u001b[38;5;124mignore\u001b[39m\u001b[38;5;124m\"\u001b[39m:\n",
      "File \u001b[0;32m~/opt/anaconda3/lib/python3.9/site-packages/pandas/core/dtypes/cast.py:1237\u001b[0m, in \u001b[0;36mastype_array\u001b[0;34m(values, dtype, copy)\u001b[0m\n\u001b[1;32m   1234\u001b[0m     values \u001b[38;5;241m=\u001b[39m values\u001b[38;5;241m.\u001b[39mastype(dtype, copy\u001b[38;5;241m=\u001b[39mcopy)\n\u001b[1;32m   1236\u001b[0m \u001b[38;5;28;01melse\u001b[39;00m:\n\u001b[0;32m-> 1237\u001b[0m     values \u001b[38;5;241m=\u001b[39m \u001b[43mastype_nansafe\u001b[49m\u001b[43m(\u001b[49m\u001b[43mvalues\u001b[49m\u001b[43m,\u001b[49m\u001b[43m \u001b[49m\u001b[43mdtype\u001b[49m\u001b[43m,\u001b[49m\u001b[43m \u001b[49m\u001b[43mcopy\u001b[49m\u001b[38;5;241;43m=\u001b[39;49m\u001b[43mcopy\u001b[49m\u001b[43m)\u001b[49m\n\u001b[1;32m   1239\u001b[0m \u001b[38;5;66;03m# in pandas we don't store numpy str dtypes, so convert to object\u001b[39;00m\n\u001b[1;32m   1240\u001b[0m \u001b[38;5;28;01mif\u001b[39;00m \u001b[38;5;28misinstance\u001b[39m(dtype, np\u001b[38;5;241m.\u001b[39mdtype) \u001b[38;5;129;01mand\u001b[39;00m \u001b[38;5;28missubclass\u001b[39m(values\u001b[38;5;241m.\u001b[39mdtype\u001b[38;5;241m.\u001b[39mtype, \u001b[38;5;28mstr\u001b[39m):\n",
      "File \u001b[0;32m~/opt/anaconda3/lib/python3.9/site-packages/pandas/core/dtypes/cast.py:1098\u001b[0m, in \u001b[0;36mastype_nansafe\u001b[0;34m(arr, dtype, copy, skipna)\u001b[0m\n\u001b[1;32m   1096\u001b[0m \u001b[38;5;28;01mif\u001b[39;00m arr\u001b[38;5;241m.\u001b[39mndim \u001b[38;5;241m>\u001b[39m \u001b[38;5;241m1\u001b[39m:\n\u001b[1;32m   1097\u001b[0m     flat \u001b[38;5;241m=\u001b[39m arr\u001b[38;5;241m.\u001b[39mravel()\n\u001b[0;32m-> 1098\u001b[0m     result \u001b[38;5;241m=\u001b[39m \u001b[43mastype_nansafe\u001b[49m\u001b[43m(\u001b[49m\u001b[43mflat\u001b[49m\u001b[43m,\u001b[49m\u001b[43m \u001b[49m\u001b[43mdtype\u001b[49m\u001b[43m,\u001b[49m\u001b[43m \u001b[49m\u001b[43mcopy\u001b[49m\u001b[38;5;241;43m=\u001b[39;49m\u001b[43mcopy\u001b[49m\u001b[43m,\u001b[49m\u001b[43m \u001b[49m\u001b[43mskipna\u001b[49m\u001b[38;5;241;43m=\u001b[39;49m\u001b[43mskipna\u001b[49m\u001b[43m)\u001b[49m\n\u001b[1;32m   1099\u001b[0m     \u001b[38;5;66;03m# error: Item \"ExtensionArray\" of \"Union[ExtensionArray, ndarray]\" has no\u001b[39;00m\n\u001b[1;32m   1100\u001b[0m     \u001b[38;5;66;03m# attribute \"reshape\"\u001b[39;00m\n\u001b[1;32m   1101\u001b[0m     \u001b[38;5;28;01mreturn\u001b[39;00m result\u001b[38;5;241m.\u001b[39mreshape(arr\u001b[38;5;241m.\u001b[39mshape)  \u001b[38;5;66;03m# type: ignore[union-attr]\u001b[39;00m\n",
      "File \u001b[0;32m~/opt/anaconda3/lib/python3.9/site-packages/pandas/core/dtypes/cast.py:1181\u001b[0m, in \u001b[0;36mastype_nansafe\u001b[0;34m(arr, dtype, copy, skipna)\u001b[0m\n\u001b[1;32m   1177\u001b[0m     \u001b[38;5;28;01mraise\u001b[39;00m \u001b[38;5;167;01mValueError\u001b[39;00m(msg)\n\u001b[1;32m   1179\u001b[0m \u001b[38;5;28;01mif\u001b[39;00m copy \u001b[38;5;129;01mor\u001b[39;00m is_object_dtype(arr\u001b[38;5;241m.\u001b[39mdtype) \u001b[38;5;129;01mor\u001b[39;00m is_object_dtype(dtype):\n\u001b[1;32m   1180\u001b[0m     \u001b[38;5;66;03m# Explicit copy, or required since NumPy can't view from / to object.\u001b[39;00m\n\u001b[0;32m-> 1181\u001b[0m     \u001b[38;5;28;01mreturn\u001b[39;00m \u001b[43marr\u001b[49m\u001b[38;5;241;43m.\u001b[39;49m\u001b[43mastype\u001b[49m\u001b[43m(\u001b[49m\u001b[43mdtype\u001b[49m\u001b[43m,\u001b[49m\u001b[43m \u001b[49m\u001b[43mcopy\u001b[49m\u001b[38;5;241;43m=\u001b[39;49m\u001b[38;5;28;43;01mTrue\u001b[39;49;00m\u001b[43m)\u001b[49m\n\u001b[1;32m   1183\u001b[0m \u001b[38;5;28;01mreturn\u001b[39;00m arr\u001b[38;5;241m.\u001b[39mastype(dtype, copy\u001b[38;5;241m=\u001b[39mcopy)\n",
      "\u001b[0;31mValueError\u001b[0m: could not convert string to float: '09/17/2022'"
     ]
    }
   ],
   "source": [
    "#sklearn.preprocessing.MinMaxScaler\n",
    "def scale_sum(df,scaler,index):\n",
    "    df = pd.DataFrame(scaler.fit_transform(df)) #scaled object\n",
    "    pcs = PCA()  #pca technique\n",
    "    pcs.fit(df) #fit data to pca\n",
    "    pcsSummary_df = pd.DataFrame({'Explained Variance': np.sqrt(pcs.explained_variance_),\n",
    "                           'Explained Variance Ratio': pcs.explained_variance_ratio_,\n",
    "                           'Cumulative Proportion': np.cumsum(pcs.explained_variance_ratio_)})\n",
    "    pcsSummary_df = pcsSummary_df.transpose()\n",
    "    pcsSummary_df.columns = ['PC{}'.format(i) for i in range(1, len(pcsSummary_df.columns) + 1)]\n",
    "    pcsSummary_df.round(4)\n",
    "    \n",
    "    pcsComponents_df = pd.DataFrame(pcs.components_.transpose(),columns=pcsSummary_df.columns, index=index)\n",
    "    \n",
    "    scores=pd.DataFrame(pcs.fit_transform(df),columns=pcsSummary_df.columns)\n",
    "    \n",
    "    return pcsSummary_df, pcsComponents_df, scores  # return #1 summary of PCA, #2 components, #scores\n",
    "\n",
    "pcsSummary_df=scale_sum(df=df.iloc[:,1:],scaler = preprocessing.MinMaxScaler(),index=df.columns[1:])[0]\n",
    "pcsSummary_df"
   ]
  },
  {
   "cell_type": "markdown",
   "id": "2805fc44",
   "metadata": {},
   "source": [
    "# Scree Plot"
   ]
  },
  {
   "cell_type": "code",
   "execution_count": null,
   "id": "375d39af",
   "metadata": {},
   "outputs": [],
   "source": [
    "plt.figure(figsize=(20,10))\n",
    "plt.plot(pcsSummary_df[1:2].transpose())\n",
    "plt.xlabel('Component')\n",
    "plt.ylabel('Explained Variance in %')\n",
    "plt.title('Explained Variance by Component')"
   ]
  },
  {
   "cell_type": "code",
   "execution_count": null,
   "id": "6bae8639",
   "metadata": {},
   "outputs": [],
   "source": [
    "pcsComponents_df=scale_sum(df=df.iloc[:,1:],scaler = preprocessing.MinMaxScaler(),index=df.columns[1:])[1]\n",
    "pcsComponents_df"
   ]
  },
  {
   "cell_type": "markdown",
   "id": "f8c83a62",
   "metadata": {},
   "source": [
    "Going by the scree plot above, we could make use of 4 PCA components"
   ]
  },
  {
   "cell_type": "code",
   "execution_count": null,
   "id": "631f72b7",
   "metadata": {},
   "outputs": [],
   "source": [
    "pcsComponents_df[['PC1','PC2','PC3','PC4']].transpose().plot(kind='bar', stacked=True,figsize=(16, 16))"
   ]
  },
  {
   "cell_type": "markdown",
   "id": "ecd138aa",
   "metadata": {},
   "source": [
    "# Main features represented by the each component above:\n",
    "\n",
    " - PC1 mainly represents alcohol, followed by residual_sugar and total_sulphur_dioxide <br>\n",
    " - PC2 mainly represents total_sulphur_dioxide, followed by volatile acidity <br>\n",
    " - PC3 mainly represents citric_acid, followed by total_sulphur_dioxide <br>\n",
    " - PC4 mainly represents quality, followed by residual sugar <br>"
   ]
  },
  {
   "cell_type": "code",
   "execution_count": null,
   "id": "7997f334",
   "metadata": {},
   "outputs": [],
   "source": [
    "scores=scale_sum(df=df.iloc[:,1:],scaler = preprocessing.MinMaxScaler(),index=df.columns[1:])[2]\n",
    "scores"
   ]
  },
  {
   "cell_type": "markdown",
   "id": "4dd6b9e5",
   "metadata": {},
   "source": [
    "# Scatter plot for checking natural clusters\n",
    "- Let's plot first 2 components "
   ]
  },
  {
   "cell_type": "code",
   "execution_count": null,
   "id": "67860d74",
   "metadata": {},
   "outputs": [],
   "source": [
    "scores.plot.scatter(x='PC1', y='PC2',figsize=(12, 12))#plot first 2 components"
   ]
  },
  {
   "cell_type": "code",
   "execution_count": null,
   "id": "b9144291",
   "metadata": {},
   "outputs": [],
   "source": [
    "cols=['PC1', 'PC2', 'PC3','PC4'] #list # of components I want to use\n",
    "\n",
    "silhouette=[] \n",
    "inertia=[]\n",
    "clusters=[]\n",
    "for i in range(2,40):  #2=2 clusters, use enough to where we see declining silhouette and/or flattening of inertia\n",
    "    kmeans = KMeans(n_clusters=i, random_state=0).fit(scores[cols])\n",
    "    silhouette.append(silhouette_score(scores[cols],kmeans.labels_)) #silhoustte\n",
    "    inertia.append(kmeans.inertia_)\n",
    "    clusters.append(i)"
   ]
  },
  {
   "cell_type": "code",
   "execution_count": null,
   "id": "5a207004",
   "metadata": {},
   "outputs": [],
   "source": [
    "kmeans_eval=pd.DataFrame({'silhouette_score': silhouette,'inertia': inertia,},index=clusters) #put dilhouette and inertia in df\n",
    "kmeans_eval  #index # clusters, silhouette_score is the score for that many clusters"
   ]
  },
  {
   "cell_type": "code",
   "execution_count": null,
   "id": "8ea498e9",
   "metadata": {},
   "outputs": [],
   "source": [
    "kmeans_eval['inertia'].plot(figsize=(12, 12))#use elbow method of finding # of components to cluster\n",
    "plt.xlabel('# Clusters')\n",
    "plt.ylabel('Inertia')\n",
    "plt.title('Scree Plot Inertia')"
   ]
  },
  {
   "cell_type": "code",
   "execution_count": null,
   "id": "2fbc1702",
   "metadata": {},
   "outputs": [],
   "source": [
    "kmeans_eval['silhouette_score'].plot(figsize=(12, 12)) #plot silhouete_score, visually look for highest value and corresponding cluster\n",
    "plt.xlabel('# Clusters')\n",
    "plt.ylabel('Silhouette Score')\n",
    "plt.title('Silhouette score by # of clusters')\n",
    "#print(kmeans_eval['silhouette_score'])"
   ]
  },
  {
   "cell_type": "code",
   "execution_count": null,
   "id": "fb89c0ac",
   "metadata": {},
   "outputs": [],
   "source": [
    "kmeans= KMeans(n_clusters=4).fit(scores[cols]) #kmeans number of clusters is subjective (unsupervised)\n",
    "scores['cluster']=kmeans.labels_   #kmeans\n",
    "scores['quality']=df['quality']\n",
    "\n",
    "\n",
    "groups = scores.groupby('cluster') #grouping subplots\n",
    "\n",
    "df['cluster']=scores['cluster']  #add the cluster to primary df\n",
    "\n",
    "ax = scores.plot.scatter(x='PC1', y='PC2', figsize=(16, 16))\n",
    "\n",
    "\n",
    "#points = scores[['PC1','PC2']]\n",
    "\n",
    "#texts = [] #adjust text\n",
    "#for _, (x, y, s) in points.iterrows():#adjust text\n",
    "#        texts.append(ax.text(x, y, s))#adjust text\n",
    "#adjust_text(texts, force_text=0.05, arrowprops=dict(arrowstyle=\"-|>\", color='r', alpha=0.5))#adjust text\n",
    "\n",
    "\n",
    "for name, group in groups:  #grouping subplots\n",
    "    ax.plot(group.PC1, group.PC2, marker='o', linestyle='', ms=12, label=name) #grouping subplots\n",
    "ax.legend() #grouping subplots"
   ]
  },
  {
   "cell_type": "code",
   "execution_count": null,
   "id": "edd99514",
   "metadata": {},
   "outputs": [],
   "source": [
    "kmeans= KMeans(n_clusters=3).fit(scores[cols]) #kmeans number of clusters is subjective (unsupervised)\n",
    "scores['cluster']=kmeans.labels_   #kmeans\n",
    "\n",
    "\n",
    "groups = scores.groupby('cluster') #grouping subplots\n",
    "\n",
    "df['cluster']=scores['cluster']  #add the cluster to primary df\n",
    "\n",
    "ax = scores.plot.scatter(x='PC1', y='PC2', figsize=(16, 16))\n",
    "points = scores[['PC1','PC2','quality']]\n",
    "\n",
    "_ = points.apply(lambda x:   ax.text(*x, rotation=20, horizontalalignment='left',\n",
    "                                     verticalalignment='bottom', fontsize=8), axis=1)\n",
    "\n",
    "\n",
    "\n",
    "#texts = [] #adjust text\n",
    "#for _, (x, y, s) in points.iterrows():#adjust text\n",
    "#        texts.append(ax.text(x, y, s))#adjust text\n",
    "#adjust_text(texts, force_text=0.05, arrowprops=dict(arrowstyle=\"-|>\", color='r', alpha=0.5))#adjust text\n",
    "\n",
    "\n",
    "for name, group in groups:  #grouping subplots\n",
    "    ax.plot(group.PC1, group.PC2, marker='o', linestyle='', ms=12, label=name) #grouping subplots\n",
    "ax.legend() #grouping subplots\n",
    "\n"
   ]
  },
  {
   "cell_type": "code",
   "execution_count": null,
   "id": "680538fd",
   "metadata": {},
   "outputs": [],
   "source": [
    "df"
   ]
  },
  {
   "cell_type": "code",
   "execution_count": null,
   "id": "af1450f0",
   "metadata": {},
   "outputs": [],
   "source": [
    "df_new= df"
   ]
  },
  {
   "cell_type": "code",
   "execution_count": null,
   "id": "9c33fd2f",
   "metadata": {},
   "outputs": [],
   "source": [
    "\n",
    "X = df_new.drop(columns=['quality'])\n",
    "y = df_new['quality']"
   ]
  },
  {
   "cell_type": "code",
   "execution_count": null,
   "id": "441bc10d",
   "metadata": {},
   "outputs": [],
   "source": [
    "y.value_counts()"
   ]
  },
  {
   "cell_type": "code",
   "execution_count": null,
   "id": "531300bf",
   "metadata": {},
   "outputs": [],
   "source": [
    "#class imbalance#\n",
    "from imblearn.over_sampling import SMOTE\n",
    "oversample = SMOTE(k_neighbors=4)\n",
    "#transform the dataset\n",
    "X, y = oversample.fit_resample(X, y) "
   ]
  },
  {
   "cell_type": "code",
   "execution_count": null,
   "id": "1237f634",
   "metadata": {},
   "outputs": [],
   "source": [
    "y.value_counts()"
   ]
  },
  {
   "cell_type": "code",
   "execution_count": null,
   "id": "23a6482e",
   "metadata": {},
   "outputs": [],
   "source": [
    "from sklearn.model_selection import cross_val_score, train_test_split\n",
    "def classify(model, X, y):\n",
    "    x_train, x_test, y_train, y_test = train_test_split(X , y, test_size = 0.25, random_state= 42)\n",
    "    #train the model\n",
    "    model.fit(x_train, y_train)\n",
    "    print(\"Accuracy: \" ,model.score(x_test, y_test)* 100)\n",
    "    #cross- validation\n",
    "    score = cross_val_score(model, X, y, cv=5)\n",
    "    print(\"CV score: \", np.mean(score)*100)"
   ]
  },
  {
   "cell_type": "code",
   "execution_count": null,
   "id": "dfd7fb04",
   "metadata": {},
   "outputs": [],
   "source": [
    "from sklearn.linear_model import LogisticRegression\n",
    "model= LogisticRegression()\n",
    "classify(model, X, y)"
   ]
  },
  {
   "cell_type": "code",
   "execution_count": null,
   "id": "2c8c9180",
   "metadata": {},
   "outputs": [],
   "source": [
    "from sklearn.tree import DecisionTreeClassifier\n",
    "model= DecisionTreeClassifier()\n",
    "classify(model, X, y)\n"
   ]
  },
  {
   "cell_type": "code",
   "execution_count": null,
   "id": "2ed18a19",
   "metadata": {},
   "outputs": [],
   "source": [
    "from sklearn.ensemble import RandomForestClassifier\n",
    "model= RandomForestClassifier()\n",
    "classify(model, X, y)"
   ]
  },
  {
   "cell_type": "code",
   "execution_count": null,
   "id": "0da74b70",
   "metadata": {},
   "outputs": [],
   "source": [
    "from sklearn.ensemble import ExtraTreesClassifier\n",
    "model= ExtraTreesClassifier()\n",
    "classify(model, X, y)"
   ]
  },
  {
   "cell_type": "markdown",
   "id": "239f75ce",
   "metadata": {},
   "source": [
    "# Standardization"
   ]
  },
  {
   "cell_type": "markdown",
   "id": "fdcad645",
   "metadata": {},
   "source": [
    "1) Standard Scaler"
   ]
  },
  {
   "cell_type": "code",
   "execution_count": null,
   "id": "690375d1",
   "metadata": {},
   "outputs": [],
   "source": [
    "df.info()"
   ]
  },
  {
   "cell_type": "code",
   "execution_count": null,
   "id": "005f8b8c",
   "metadata": {},
   "outputs": [],
   "source": [
    "cols = ['fixed_acidity', 'volatile_acidity', 'citric_acid', 'residual_sugar',\n",
    "        'total_sulfur_dioxide',\n",
    "       'pH', 'sulphates', 'alcohol']\n",
    "\n",
    "scaler = preprocessing.StandardScaler()\n",
    "df_std = pd.DataFrame(scaler.fit_transform(df[cols]), index=df.index, columns=cols)\n",
    "df_std"
   ]
  },
  {
   "cell_type": "markdown",
   "id": "d110bb73",
   "metadata": {},
   "source": [
    "2) Robust Scalar"
   ]
  },
  {
   "cell_type": "code",
   "execution_count": null,
   "id": "3901707d",
   "metadata": {},
   "outputs": [],
   "source": [
    "scaler = preprocessing.RobustScaler()\n",
    "df_robust = pd.DataFrame(scaler.fit_transform(df[cols]), index=df.index, columns=cols)\n",
    "df_robust"
   ]
  },
  {
   "cell_type": "markdown",
   "id": "7a7bcb8b",
   "metadata": {},
   "source": [
    "3) Max-Abs Scalar"
   ]
  },
  {
   "cell_type": "code",
   "execution_count": null,
   "id": "077d2d94",
   "metadata": {},
   "outputs": [],
   "source": [
    "scaler = preprocessing.MaxAbsScaler()\n",
    "df_maxabs = pd.DataFrame(scaler.fit_transform(df[cols]), index=df.index, columns=cols)\n",
    "df_maxabs"
   ]
  },
  {
   "cell_type": "markdown",
   "id": "4703d84b",
   "metadata": {},
   "source": [
    "4) Min-Max Scalar"
   ]
  },
  {
   "cell_type": "code",
   "execution_count": null,
   "id": "431c7044",
   "metadata": {},
   "outputs": [],
   "source": [
    "scaler = preprocessing.MinMaxScaler()\n",
    "df_min_max = pd.DataFrame(scaler.fit_transform(df[cols]), index=df.index, columns=cols)\n",
    "df_min_max"
   ]
  },
  {
   "cell_type": "markdown",
   "id": "98ec22ca",
   "metadata": {},
   "source": [
    "# 1) k-NN Classifier"
   ]
  },
  {
   "cell_type": "markdown",
   "id": "24c4c437",
   "metadata": {},
   "source": [
    "# Split the data into training and validation set"
   ]
  },
  {
   "cell_type": "code",
   "execution_count": null,
   "id": "4e4870d4",
   "metadata": {},
   "outputs": [],
   "source": [
    "train_X, valid_X, train_y, valid_y = train_test_split(df_min_max,df['quality'], test_size=0.4, random_state=26)\n",
    "\n",
    "print(train_X.shape)\n",
    "print(valid_X.shape)\n",
    "print(train_y.shape)\n",
    "print(valid_y.shape)"
   ]
  },
  {
   "cell_type": "markdown",
   "id": "e231b649",
   "metadata": {},
   "source": [
    "# Applying k-NN model "
   ]
  },
  {
   "cell_type": "code",
   "execution_count": null,
   "id": "3f067fb0",
   "metadata": {},
   "outputs": [],
   "source": [
    "# Train a classifier for different values of k\n",
    "\n",
    "results = []\n",
    "for k in range(1, 10):  #  interate 1 to 5 k\n",
    "        knn = KNeighborsRegressor(n_neighbors=k,n_jobs=-1).fit(train_X, train_y) #model \n",
    "        results.append({\n",
    "            'k': k,\n",
    "            'MAE': mean_absolute_error(valid_y, knn.predict(valid_X))\n",
    "    })\n",
    "\n",
    "# Convert results to a pandas data frame\n",
    "results = pd.DataFrame(results)\n",
    "results.sort_values(by='MAE')\n",
    "results.index=results.k\n",
    "results=results.drop('k',axis=1)\n",
    "results.plot()"
   ]
  },
  {
   "cell_type": "code",
   "execution_count": null,
   "id": "b8fce33a",
   "metadata": {},
   "outputs": [],
   "source": [
    "# Train a classifier for different values of k\n",
    "\n",
    "metric_list=['euclidean','manhattan','chebyshev','minkowski',]\n",
    "             \n",
    "results = []\n",
    "for k in range(1, 10):\n",
    "    for m in metric_list:\n",
    "        knn = KNeighborsRegressor(n_neighbors=k,metric=m,n_jobs=-1).fit(train_X, train_y)\n",
    "        results.append({\n",
    "            'k_distance': str(k)+\" \"+str(m),\n",
    "            'MAE': mean_absolute_error(valid_y, knn.predict(valid_X))\n",
    "    })\n",
    "\n",
    "# Convert results to a pandas data frame\n",
    "results = pd.DataFrame(results)\n",
    "results.sort_values(by='MAE')"
   ]
  },
  {
   "cell_type": "code",
   "execution_count": null,
   "id": "c4daae9b",
   "metadata": {},
   "outputs": [],
   "source": [
    "#when given new/unseen data for a wine , we can use this model to predict \n",
    "\n",
    "new_data = pd.DataFrame([{'fixed_acidity': 22.9054634, \n",
    "                        'volatile_acidity': 0.709864,\n",
    "                        'citric_acid': 4.96437,\n",
    "                        'residual_sugar': 19.3777777 ,\n",
    "                        'total_sulfur_dioxide':76.89905 ,\n",
    "                        'pH': 3.755897 ,\n",
    "                        'sulphates': 90.789834 ,\n",
    "                        'alcohol': 9.70092 }])\n",
    "new_data"
   ]
  },
  {
   "cell_type": "code",
   "execution_count": null,
   "id": "c76e1fed",
   "metadata": {},
   "outputs": [],
   "source": [
    "#scaler = preprocessing.MinMaxScaler()\n",
    "\n",
    "new_data_scaled=pd.DataFrame(scaler.transform(new_data), columns=new_data.columns)  #on new data, use the scaling technique used on the training data\n",
    "new_data_scaled"
   ]
  },
  {
   "cell_type": "code",
   "execution_count": null,
   "id": "c915d6d7",
   "metadata": {},
   "outputs": [],
   "source": [
    "# train knn model with k=1 and metric=chebyshev\n",
    "knn = KNeighborsRegressor(n_neighbors=1,metric='manhattan',n_jobs=-1)\n",
    "knn.fit(train_X, train_y)"
   ]
  },
  {
   "cell_type": "code",
   "execution_count": null,
   "id": "20a0ce65",
   "metadata": {},
   "outputs": [],
   "source": [
    "knn.predict(new_data_scaled)"
   ]
  },
  {
   "cell_type": "markdown",
   "id": "023714cc",
   "metadata": {},
   "source": [
    "# RMSE"
   ]
  },
  {
   "cell_type": "code",
   "execution_count": null,
   "id": "a4dced68",
   "metadata": {},
   "outputs": [],
   "source": [
    "\"Training RMSE: \"+str(mean_squared_error(train_y, knn.predict(train_X))**.5)"
   ]
  },
  {
   "cell_type": "code",
   "execution_count": null,
   "id": "f372f087",
   "metadata": {},
   "outputs": [],
   "source": [
    "\"Validation RMSE: \"+str(mean_squared_error(valid_y, knn.predict(valid_X))**.5)"
   ]
  },
  {
   "cell_type": "markdown",
   "id": "41f1ad06",
   "metadata": {},
   "source": [
    "# 2) Multiple Linear Regression "
   ]
  },
  {
   "cell_type": "code",
   "execution_count": null,
   "id": "cabb5b54",
   "metadata": {},
   "outputs": [],
   "source": [
    "df_min_max"
   ]
  },
  {
   "cell_type": "code",
   "execution_count": null,
   "id": "6ff88441",
   "metadata": {},
   "outputs": [],
   "source": [
    "y = df['quality']\n",
    "\n",
    "train_X, temp_X, train_y, temp_y = train_test_split(df_min_max, y, test_size=0.5, random_state=1)\n",
    "valid_X, test_X, valid_y, test_y = train_test_split(temp_X, temp_y, test_size=0.4, random_state=1)\n",
    "\n",
    "\n",
    "\n",
    "print('Training : ', train_X.shape)\n",
    "print('Validation : ', valid_X.shape)\n",
    "print('Test : ', test_X.shape)"
   ]
  },
  {
   "cell_type": "code",
   "execution_count": null,
   "id": "e45e9ccc",
   "metadata": {},
   "outputs": [],
   "source": [
    "model=LinearRegression()\n",
    "reg = model.fit(train_X, train_y)\n",
    "pred_train = reg.predict(train_X)\n",
    "pred_valid = reg.predict(valid_X)\n",
    "print(\"\\nTraning data\")\n",
    "print('MAE/MAD: ',mean_absolute_error(train_y,pred_train))\n",
    "print('MSE: ',mean_squared_error(train_y, pred_train))\n",
    "print('RMSE: ',np.sqrt(mean_squared_error(train_y, pred_train)))\n",
    "print(\"\\nValidation data\")\n",
    "print('MAE/MAD: ',mean_absolute_error(valid_y,pred_valid))\n",
    "print('MSE: ',mean_squared_error(valid_y, pred_valid))\n",
    "print('RMSE: ',np.sqrt(mean_squared_error(valid_y, pred_valid)))\n",
    "AA=pd.DataFrame({'Predictor': df_min_max.columns, 'coefficient': model.coef_})\n",
    "print('\\n',AA)\n",
    "AB = pd.DataFrame({'label': df_min_max.columns, 'value': model.coef_})\n",
    "AC = AB.plot.barh(x='label', y='value')\n"
   ]
  },
  {
   "cell_type": "code",
   "execution_count": null,
   "id": "c58730e4",
   "metadata": {},
   "outputs": [],
   "source": [
    "def subset(s, n):\n",
    "    return list(map(set, itertools.combinations(s, n)))\n",
    "\n",
    "def data(model,train_X,train_y,valid_X,valid_y):\n",
    "    low_err=600000**2\n",
    "    \n",
    "    for x in range(len(train_X.columns),0,-1):\n",
    "        n=x\n",
    "        ss=subset(train_X.columns,n)\n",
    "        print(\"_\"*50)\n",
    "        print(str(len(ss))+\" model(s) using \"+ str(n)+ \" features\")\n",
    "        for z in range(0,len(ss)):\n",
    "            model = model\n",
    "            #Traning\n",
    "            reg = model.fit(train_X[ss[z]], train_y)\n",
    "            pred_train = reg.predict(train_X[ss[z]])\n",
    "            err_train= mean_squared_error(train_y, pred_train)\n",
    "            #Validation\n",
    "            pred_valid = reg.predict(valid_X[ss[z]])\n",
    "            err_valid = mean_squared_error(valid_y, pred_valid)\n",
    "            mae_valid = mean_absolute_error(valid_y,pred_valid) \n",
    " \n",
    "            if err_valid < low_err:\n",
    "                low_err=err_valid\n",
    "                low_err_features=list(ss[z])\n",
    "                print(\"_\"*50)\n",
    "                print(low_err_features)\n",
    "                print(\"RMSE train: \"+str(err_train ** .5))\n",
    "                print(\"MSE validation: \"+str(low_err))\n",
    "                print(\"RMSE validation: \"+str(low_err ** .5))\n",
    "                print(\"MAE validation: \"+str(mae_valid))\n",
    "                abs(valid_y-pred_valid).hist()\n",
    "                plt.show()\n",
    "                print(\"_\"*50)"
   ]
  },
  {
   "cell_type": "code",
   "execution_count": null,
   "id": "9c35e840",
   "metadata": {},
   "outputs": [],
   "source": [
    "data(model=LinearRegression(normalize=False,n_jobs=-1), train_X=train_X[cols], train_y=train_y,valid_X=valid_X[cols],valid_y=valid_y )"
   ]
  },
  {
   "cell_type": "markdown",
   "id": "7c896bab",
   "metadata": {},
   "source": [
    "# Model with 7 feature have the most predictive value."
   ]
  },
  {
   "cell_type": "code",
   "execution_count": null,
   "id": "099141bd",
   "metadata": {},
   "outputs": [],
   "source": [
    "data(model=LinearRegression(normalize=True,n_jobs=-1), train_X=train_X, train_y=train_y,valid_X=valid_X,valid_y=valid_y )"
   ]
  },
  {
   "cell_type": "code",
   "execution_count": null,
   "id": "ec8baa5c",
   "metadata": {},
   "outputs": [],
   "source": [
    "def shrink(model,train_X,train_y,valid_X,valid_y):\n",
    "    model = model\n",
    "    reg = model.fit(train_X, train_y)\n",
    " \n",
    "    pred_train = reg.predict(train_X)\n",
    "    err_train= mean_squared_error(train_y, pred_train)\n",
    "    pred_valid = reg.predict(valid_X)\n",
    "    err_valid = mean_squared_error(valid_y, pred_valid)\n",
    " \n",
    "    print(\"RMSE train: \"+str(err_train ** .5))\n",
    "    print(\"RMSE validation: \"+str(err_valid ** .5))\n",
    "    print(\"Differnce: \",(err_train ** .5)-(err_valid ** .5))\n",
    "    print(\"features: \\n\",train_X.columns)\n",
    "    abs(valid_y-pred_valid).hist()\n"
   ]
  },
  {
   "cell_type": "code",
   "execution_count": null,
   "id": "06a541cb",
   "metadata": {},
   "outputs": [],
   "source": [
    "shrink(model=Lasso(normalize=True,alpha=1), train_X=train_X, train_y=train_y,valid_X=valid_X,valid_y=valid_y )"
   ]
  },
  {
   "cell_type": "code",
   "execution_count": null,
   "id": "e84f071e",
   "metadata": {},
   "outputs": [],
   "source": [
    "shrink(model=LassoCV(normalize=True,cv=5), train_X=train_X, train_y=train_y,valid_X=valid_X,valid_y=valid_y )"
   ]
  },
  {
   "cell_type": "code",
   "execution_count": null,
   "id": "076238d6",
   "metadata": {},
   "outputs": [],
   "source": [
    "shrink(model=Ridge(normalize=True,alpha=1), train_X=train_X, train_y=train_y,valid_X=valid_X,valid_y=valid_y )"
   ]
  },
  {
   "cell_type": "code",
   "execution_count": null,
   "id": "b62fbea1",
   "metadata": {},
   "outputs": [],
   "source": [
    "shrink(model=RidgeCV(normalize=True,cv=5), train_X=train_X, train_y=train_y,valid_X=valid_X,valid_y=valid_y )"
   ]
  },
  {
   "cell_type": "markdown",
   "id": "7d95fe30",
   "metadata": {},
   "source": [
    "# 3) Regression Trees"
   ]
  },
  {
   "cell_type": "code",
   "execution_count": null,
   "id": "d25e2077",
   "metadata": {},
   "outputs": [],
   "source": [
    "X=df_min_max  \n",
    "y=df['quality']\n",
    "\n",
    "# partition the data into training (60%) and validiation (40%). Set random_state=1 for reproducibility of results \n",
    "train_X, valid_X, train_y, valid_y = train_test_split(X, y, test_size=0.4, random_state=1)\n",
    "print('Training set:', train_X.shape, 'Validation set:', valid_X.shape)"
   ]
  },
  {
   "cell_type": "markdown",
   "id": "a6a5627d",
   "metadata": {},
   "source": [
    "# - Overfitting tree"
   ]
  },
  {
   "cell_type": "code",
   "execution_count": null,
   "id": "98eaae38",
   "metadata": {},
   "outputs": [],
   "source": [
    "# setting random state will ensure that the same tree is produced every time\n",
    "deepTree = DecisionTreeRegressor()\n",
    "deepTree.fit(train_X, train_y)\n",
    "\n",
    "print('Tree has {} nodes'.format(deepTree.tree_.node_count))\n",
    "plotDecisionTree(deepTree, feature_names=train_X.columns, impurity=False)"
   ]
  },
  {
   "cell_type": "code",
   "execution_count": null,
   "id": "a9c6b567",
   "metadata": {},
   "outputs": [],
   "source": [
    "# FULL GROWN REGRESSION TREE\n",
    "warnings.filterwarnings('ignore')\n",
    "reg = DecisionTreeRegressor(random_state=1)\n",
    "reg.fit(train_X, train_y)\n",
    "print('Tree has {} nodes'.format(reg.tree_.node_count))\n",
    "plt.figure(figsize=(60,40))\n",
    "plot_tree(reg)\n",
    "plt.show()"
   ]
  },
  {
   "cell_type": "markdown",
   "id": "f0f2ae4c",
   "metadata": {},
   "source": [
    "# Feature importance"
   ]
  },
  {
   "cell_type": "code",
   "execution_count": null,
   "id": "957987dc",
   "metadata": {},
   "outputs": [],
   "source": [
    "# Variable importance\n",
    "importance = pd.DataFrame({'features': train_X.columns, \n",
    "                           'importance': deepTree.feature_importances_})\n",
    "importance.index=importance.features\n",
    "importance.sort_values(by='importance', ascending=True).plot.barh()"
   ]
  },
  {
   "cell_type": "code",
   "execution_count": null,
   "id": "9b2c5701",
   "metadata": {},
   "outputs": [],
   "source": [
    "main = pd.DataFrame({'features': train_X.columns,\n",
    " 'main': reg.feature_importances_})\n",
    "main.index=main.features\n",
    "main.sort_values(by='main', ascending=True).plot.barh()\n",
    "a=main.sort_values(by='main', ascending=False)\n",
    "print(a.head())"
   ]
  },
  {
   "cell_type": "markdown",
   "id": "b2ad6054",
   "metadata": {},
   "source": [
    "# Tree has 2333 nodes\n",
    "Top 5 features are:\n",
    "- alcohol              0.249495\n",
    "- volatile_acidity     0.138074\n",
    "- sulphates            0.098981\n",
    "- chlorides            0.086466\n",
    "- total_sulfur_dioxide 0.081969"
   ]
  },
  {
   "cell_type": "markdown",
   "id": "c7d55e76",
   "metadata": {},
   "source": [
    "# Validation & Training Error"
   ]
  },
  {
   "cell_type": "code",
   "execution_count": null,
   "id": "69e32ce8",
   "metadata": {},
   "outputs": [],
   "source": [
    "RMSE_Val_DT=(mean_squared_error(valid_y, reg.predict(valid_X))**.5)\n",
    "RMSE_Tra_DT=(mean_squared_error(train_y, reg.predict(train_X))**.5)\n",
    "print(\"RMSE: Validation: \"+str(RMSE_Val_DT))\n",
    "print(\"RMSE: Training: \"+str(RMSE_Tra_DT))"
   ]
  },
  {
   "cell_type": "markdown",
   "id": "661c2c3b",
   "metadata": {},
   "source": [
    "# - Shallow Tree"
   ]
  },
  {
   "cell_type": "code",
   "execution_count": null,
   "id": "689e5c4a",
   "metadata": {},
   "outputs": [],
   "source": [
    "shallowTree = DecisionTreeRegressor(max_depth=3)\n",
    "shallowTree.fit(train_X, train_y)\n",
    "print('Tree has {} nodes'.format(shallowTree.tree_.node_count))\n",
    "plotDecisionTree(shallowTree, feature_names=train_X.columns, rotate=True, impurity=False)"
   ]
  },
  {
   "cell_type": "markdown",
   "id": "0fb0cb38",
   "metadata": {},
   "source": [
    "# Feature importance"
   ]
  },
  {
   "cell_type": "code",
   "execution_count": null,
   "id": "4e92ac5b",
   "metadata": {},
   "outputs": [],
   "source": [
    "# Variable importance\n",
    "main = pd.DataFrame({'features': train_X.columns,\n",
    " 'main': shallowTree.feature_importances_})\n",
    "main.index=main.features\n",
    "main.sort_values(by='main', ascending=True).plot.barh()\n",
    "a=main.sort_values(by='main', ascending=False)\n",
    "print(a.head())"
   ]
  },
  {
   "cell_type": "markdown",
   "id": "db564490",
   "metadata": {},
   "source": [
    "# Tree has 15 nodes\n",
    "Top features are:\n",
    "-  alcohol             0.740557\n",
    "- volatile_acidity     0.226059\n",
    "- total_sulfur_dioxide 0.017398\n",
    "- fixed_acidity        0.015986"
   ]
  },
  {
   "cell_type": "markdown",
   "id": "0b2a9cc0",
   "metadata": {},
   "source": [
    "# Validation & Training Error"
   ]
  },
  {
   "cell_type": "code",
   "execution_count": null,
   "id": "5fe8114b",
   "metadata": {},
   "outputs": [],
   "source": [
    "RMSE_Val_ST=(mean_squared_error(valid_y, shallowTree.predict(valid_X))**.5)\n",
    "RMSE_Tra_ST=(mean_squared_error(train_y, shallowTree.predict(train_X))**.5)\n",
    "print(\"RMSE: Validation: \"+str(RMSE_Val_ST))\n",
    "print(\"RMSE: Training: \"+str(RMSE_Tra_ST))"
   ]
  },
  {
   "cell_type": "markdown",
   "id": "83f3707c",
   "metadata": {},
   "source": [
    "# 4) Naive Baiyes Classifier"
   ]
  },
  {
   "cell_type": "code",
   "execution_count": null,
   "id": "f706159e",
   "metadata": {},
   "outputs": [],
   "source": [
    "df"
   ]
  },
  {
   "cell_type": "code",
   "execution_count": null,
   "id": "5af80624",
   "metadata": {},
   "outputs": [],
   "source": [
    "bins = [1,5,10]\n",
    "category = [\"bad\",\"good\"]"
   ]
  },
  {
   "cell_type": "code",
   "execution_count": null,
   "id": "c57c7786",
   "metadata": {},
   "outputs": [],
   "source": [
    "df['quality_bin'] = pd.cut(df['quality'], bins, labels=category)\n",
    "df "
   ]
  },
  {
   "cell_type": "code",
   "execution_count": null,
   "id": "e8585171",
   "metadata": {},
   "outputs": [],
   "source": [
    "predictors = ['fixed_acidity', 'volatile_acidity', 'citric_acid', 'residual_sugar', 'total_sulfur_dioxide',\n",
    "        'pH', 'sulphates', 'alcohol', ]\n",
    "\n",
    "X = pd.get_dummies(df[predictors]) #features/columns/predictors\n",
    "y = df['quality_bin']  #response/outcome"
   ]
  },
  {
   "cell_type": "code",
   "execution_count": null,
   "id": "fc6dfbe0",
   "metadata": {},
   "outputs": [],
   "source": [
    "# split into training and validation\n",
    "X_train, X_valid, y_train, y_valid = train_test_split(X, y, test_size=0.40, random_state=1)"
   ]
  },
  {
   "cell_type": "code",
   "execution_count": null,
   "id": "b1ae6979",
   "metadata": {},
   "outputs": [],
   "source": [
    "#fit naive Bayes\n",
    "model = MultinomialNB(alpha=0.01)\n",
    "#model = LogisticRegression(penalty=\"l2\",C=1e12 ,solver='lbfgs',n_jobs=-1)\n",
    "\n",
    "model.fit(X_train, y_train) #fit using training data"
   ]
  },
  {
   "cell_type": "code",
   "execution_count": null,
   "id": "e35f2476",
   "metadata": {},
   "outputs": [],
   "source": [
    "# predict probabilities\n",
    "predProb_train = model.predict_proba(X_train) #training data\n",
    "predProb_valid = model.predict_proba(X_valid)  #validation data\n",
    "\n",
    "# predict class membership\n",
    "y_valid_pred = model.predict(X_valid)\n",
    "y_train_pred = model.predict(X_train)"
   ]
  },
  {
   "cell_type": "code",
   "execution_count": null,
   "id": "e0b31cb5",
   "metadata": {},
   "outputs": [],
   "source": [
    "pd.DataFrame(predProb_valid)"
   ]
  },
  {
   "cell_type": "code",
   "execution_count": null,
   "id": "7ce8c03a",
   "metadata": {},
   "outputs": [],
   "source": [
    "#check which class is 0, 1\n",
    "model.classes_"
   ]
  },
  {
   "cell_type": "code",
   "execution_count": null,
   "id": "34383a1e",
   "metadata": {},
   "outputs": [],
   "source": [
    "# model validation results \n",
    "\n",
    "#Desired cutoff value\n",
    "Cutoff=0.5\n",
    "\n",
    "#create dataframe\n",
    "df_valid=pd.DataFrame()\n",
    "\n",
    "#categorical outcome variable\n",
    "df_valid['class']=y_valid\n",
    "\n",
    "#positive prediction probabiltiy proba_\n",
    "df_valid['proba']=predProb_valid[:,0]\n",
    "\n",
    "df_valid['y_true']=[1 if p == \"good\" else 0 for p in df_valid['class']]\n",
    "\n",
    "#predicted class y_pred\n",
    "df_valid['y_pred']=[1 if p > Cutoff else 0 for p in df_valid.proba]"
   ]
  },
  {
   "cell_type": "code",
   "execution_count": null,
   "id": "5f709963",
   "metadata": {},
   "outputs": [],
   "source": [
    "df_valid"
   ]
  },
  {
   "cell_type": "code",
   "execution_count": null,
   "id": "912ed24e",
   "metadata": {},
   "outputs": [],
   "source": [
    "df_valid['class'].value_counts()"
   ]
  },
  {
   "cell_type": "code",
   "execution_count": null,
   "id": "38939b5a",
   "metadata": {},
   "outputs": [],
   "source": [
    "cm=confusion_matrix(df_valid['y_true'],df_valid['y_pred'])\n",
    "cm"
   ]
  },
  {
   "cell_type": "code",
   "execution_count": null,
   "id": "e4401779",
   "metadata": {},
   "outputs": [],
   "source": [
    "true_positive=cm[1][1]\n",
    "print(\"true positive: \"+str(true_positive))\n",
    "\n",
    "false_positive=cm[0][1]\n",
    "print('false positive: '+str(false_positive))\n",
    "\n",
    "false_negative=cm[1][0]\n",
    "print('false negative: '+str(false_negative))\n",
    "\n",
    "true_negative=cm[0][0]\n",
    "print('true negative: '+str(true_negative))"
   ]
  },
  {
   "cell_type": "code",
   "execution_count": null,
   "id": "db75ef70",
   "metadata": {},
   "outputs": [],
   "source": [
    "print(accuracy_score(df_valid['y_true'],df_valid['y_pred']))\n",
    "\n",
    "print((true_positive+true_negative)/df_valid['class'].count())"
   ]
  },
  {
   "cell_type": "code",
   "execution_count": null,
   "id": "559f5996",
   "metadata": {},
   "outputs": [],
   "source": [
    " #precision / positive predictive value   What proportion of positive identifications was actually correct\n",
    "\n",
    "print(precision_score(df_valid['y_true'],df_valid['y_pred']))\n",
    "\n",
    "print(true_positive / (true_positive + false_positive))"
   ]
  },
  {
   "cell_type": "code",
   "execution_count": null,
   "id": "bbdc2499",
   "metadata": {},
   "outputs": [],
   "source": [
    "#recall / sensitivity / True Positive Rate   How good a model is at predicting the positive class\n",
    "\n",
    "print(recall_score(df_valid['y_true'],df_valid['y_pred']))\n",
    "\n",
    "print(true_positive / (true_positive + false_negative))"
   ]
  },
  {
   "cell_type": "code",
   "execution_count": null,
   "id": "fc8d728c",
   "metadata": {},
   "outputs": [],
   "source": [
    "fpr, tpr, _ = roc_curve(df_valid.y_true, df_valid.proba)\n",
    "roc_auc = auc(fpr, tpr)\n",
    "\n",
    "plt.figure(figsize=[5, 5])\n",
    "lw = 2\n",
    "plt.plot(fpr, tpr, color='darkorange',\n",
    "         lw=lw, label='ROC curve (area = %0.4f)' % roc_auc)\n",
    "plt.plot([0, 1], [0, 1], color='navy', lw=lw, linestyle='--')\n",
    "plt.xlim([0.0, 1.0])\n",
    "plt.ylim([0.0, 1.05])\n",
    "plt.xlabel('False Positive Rate (1 - Specificity)')\n",
    "plt.ylabel('True Positive Rate (Sensitivity)')\n",
    "plt.legend(loc=\"lower right\")\n",
    "\n",
    "plt.show()"
   ]
  },
  {
   "cell_type": "code",
   "execution_count": null,
   "id": "dec85209",
   "metadata": {},
   "outputs": [],
   "source": [
    "#classes are imbalanced....\n",
    "\n",
    "precision_recall_curve(df_valid.y_true, df_valid.proba)\n",
    "\n",
    "precision, recall, _ = precision_recall_curve(df_valid.y_true, df_valid.proba)\n",
    "\n",
    "plt.figure(figsize=[5, 5])\n",
    "lw = 2\n",
    "plt.plot(precision, recall, color='darkorange',\n",
    "         lw=lw, label='precision recall curve)')\n",
    "\n",
    "plt.xlim([0.0, 1.0])\n",
    "plt.ylim([0.0, 1.05])\n",
    "plt.xlabel('Recall')\n",
    "plt.ylabel('Precision')\n",
    "plt.legend(loc=\"lower right\")\n",
    "\n",
    "plt.show()"
   ]
  },
  {
   "cell_type": "code",
   "execution_count": null,
   "id": "a0cf2801",
   "metadata": {},
   "outputs": [],
   "source": [
    "#F1 = 2 * (precision * recall) / (precision + recall)\n",
    "f1_score(df_valid.y_true, df_valid.y_pred)"
   ]
  },
  {
   "cell_type": "code",
   "execution_count": null,
   "id": "ff5f072d",
   "metadata": {},
   "outputs": [],
   "source": [
    "#use probability\n",
    "log_loss(df_valid['y_true'],df_valid['proba'])"
   ]
  },
  {
   "cell_type": "markdown",
   "id": "c4ca3d55",
   "metadata": {},
   "source": [
    "# 5) MLP Classifier"
   ]
  },
  {
   "cell_type": "code",
   "execution_count": null,
   "id": "c2d703b3",
   "metadata": {},
   "outputs": [],
   "source": [
    "predictors = ['fixed_acidity', 'volatile_acidity', 'citric_acid', 'residual_sugar', 'total_sulfur_dioxide',\n",
    "        'pH', 'sulphates', 'alcohol' ]\n",
    "outcome = 'quality_bin'\n",
    "\n",
    "X = df[predictors]\n",
    "y = df[outcome]\n",
    "classes = sorted(y.unique())"
   ]
  },
  {
   "cell_type": "code",
   "execution_count": null,
   "id": "f9b23d79",
   "metadata": {},
   "outputs": [],
   "source": [
    "clf = MLPClassifier(hidden_layer_sizes=(3), activation='logistic', solver='lbfgs', random_state=1,max_iter=200)\n",
    "clf.fit(X, y)\n",
    "clf.predict(X)\n",
    "\n",
    "# Network structure\n",
    "print('Intercepts')\n",
    "print(clf.intercepts_)\n",
    "\n",
    "print('Weights')\n",
    "print(clf.coefs_)\n",
    "\n",
    "# Prediction\n",
    "print(pd.concat([df,pd.DataFrame(clf.predict_proba(X), columns=classes)], axis=1))"
   ]
  },
  {
   "cell_type": "code",
   "execution_count": null,
   "id": "98faaab9",
   "metadata": {},
   "outputs": [],
   "source": [
    "def evaluate_performance(actual,propensity,cutoff):\n",
    "    \n",
    "    cm = confusion_matrix(actual,[1 if p > cutoff else 0 for p in propensity]).ravel()\n",
    "    \n",
    "    tn=cm[0]\n",
    "    fp=cm[1]\n",
    "    fn=cm[2]\n",
    "    tp=cm[3]\n",
    "    n=tn+fp+fn+tp\n",
    "    predictive_accuracy = (tn + tp)/n \n",
    "    \n",
    "    #--------------True positive Rate / Sensitivity / Recall / Hit Rate-----------------\n",
    "    #is the proportion of positive cases that were correctly identified\n",
    "    #  TP / (TP + FN)\n",
    "    true_positive_rate = tp / (tp + fn)\n",
    "    sensitivity = true_positive_rate\n",
    "    recall  = true_positive_rate\n",
    "    hit_rate = true_positive_rate\n",
    "\n",
    "    #-------------True Negative Rate / Specificity -----------------------\n",
    "    # TN / (FP + TN)\n",
    "    true_negative_rate = tn / (fp + tn)\n",
    "    specificity = true_negative_rate\n",
    "    \n",
    "    #----------Precision or Positive Predictive Value---------------------\n",
    "    #is the proportion of the predicted positive cases that were correct \n",
    "    # TP / (TP + FP)\n",
    "    precision= tp / (tp + fp)\n",
    "    positive_predictive_value=precision\n",
    "\n",
    "    #---------------False Positive Rate or Fall Out---------------------------    \n",
    "    #false positive rate (FP) is the proportion of negatives cases that were \n",
    "    #incorrectly classified as positive\n",
    "    # FPR = FP / (FP + TN)\n",
    "    # FPR = 1 - specificity\n",
    "    #FPR = 1 - True Negative Rate\n",
    "    false_positive_rate=fp / (fp+tn)\n",
    "    fall_out=false_positive_rate\n",
    "\n",
    "    #---------------False Negative Rate or Miss Rate --------------------------\n",
    "    #is the proportion of positives cases that were incorrectly classified as negative\n",
    "    # a=TP True Positives\n",
    "    # b=FP False Positive\n",
    "    # c=FN False Negatives\n",
    "    # d=TN True Negative  \n",
    "    #FN / (FN + TP)\n",
    "    false_negative_rate=fn/(fn+tp)\n",
    "    miss_rate=false_negative_rate\n",
    "\n",
    "    #-----------negative Predictive value------------------    \n",
    "    # TN / (TN + FN)\n",
    "    negative_predictive_value=tn/(tn+fn)\n",
    "    \n",
    "    #-----------false discovery rate ---------------------\n",
    "    # FP / (TP + FP)\n",
    "    # 1 - precision\n",
    "    false_discovery_rate=fp/(tp+fp)\n",
    "\n",
    "    #----------------informedness------------------------\n",
    "    #sensitivity + specificity - 1\n",
    "    # true positive rate + true negative rate - 1\n",
    "    informedness=sensitivity + specificity - 1\n",
    "\n",
    "    #------------------markedness----------------------------\n",
    "    #precision + negative predictive value\n",
    "    #positive predictive value + negative predictive value\n",
    "    markedness=precision + negative_predictive_value\n",
    "    \n",
    "    #klearn.metrics.accuracy_score\n",
    "    accuracy_scor=accuracy_score(actual,[1 if p > cutoff else 0 for p in propensity])\n",
    "    \n",
    "    #average_precision_score\n",
    "    average_precision_scor=average_precision_score(actual,[1 if p > cutoff else 0 for p in propensity])\n",
    "        \n",
    "    f1_scor=f1_score(actual,[1 if p > cutoff else 0 for p in propensity])\n",
    "    \n",
    "    log_loss_=log_loss(actual,[1 if p > cutoff else 0 for p in propensity])\n",
    "    \n",
    "    roc_auc_scor=roc_auc_score(actual,[1 if p > cutoff else 0 for p in propensity])\n",
    "    \n",
    "    return \"true negative \"+ str(tn), \\\n",
    "           \"false positive \"+str(fp),\\\n",
    "           \"false negative \"+str(fn),\\\n",
    "           \"true positive \"+str(tp),\\\n",
    "           \"predictive accuracy \"+ str(predictive_accuracy),\\\n",
    "           \"true positive rate \"+str(true_positive_rate),\\\n",
    "           \"sensitivity \"+str(sensitivity),\\\n",
    "           \"recall \"+str(recall),\\\n",
    "           \"hit rate \"+str(hit_rate),\\\n",
    "           \"true negative rate \"+str(true_negative_rate),\\\n",
    "           \"specificity \"+str(specificity),\\\n",
    "           \"precision \"+str(precision),\\\n",
    "           \"positive predictive value \" + str(positive_predictive_value),\\\n",
    "           \"false_positive_rate \"+str(false_positive_rate),\\\n",
    "           \"fall_out \"+str(fall_out),\\\n",
    "           \"false_negative_rate \"+str(false_negative_rate),\\\n",
    "           \"miss_rate \"+str(miss_rate),\\\n",
    "           \"negative_predictive_value \"+str(negative_predictive_value), \\\n",
    "           \"false_discovery_rate \"+str(false_discovery_rate), \\\n",
    "           \"informedness \"+str(informedness),\\\n",
    "           \"markedness \"+str(markedness),\\\n",
    "           \"accuracy score \"+str(accuracy_scor),\\\n",
    "           \"average_precision_score \"+str(average_precision_scor),\\\n",
    "           \"f1_score \"+str(f1_scor),\\\n",
    "           \"log_loss \"+str(log_loss_),\\\n",
    "           \"roc auc score \"+str(roc_auc_scor)\n",
    "\n"
   ]
  },
  {
   "cell_type": "code",
   "execution_count": null,
   "id": "ee216dc0",
   "metadata": {},
   "outputs": [],
   "source": [
    "evaluate_performance(actual=[1 if p =='good' else 0 for p in y],\n",
    "                     propensity=pd.DataFrame(clf.predict_proba(X), columns=classes).iloc[:,1],\n",
    "                     cutoff=0.5)"
   ]
  },
  {
   "cell_type": "code",
   "execution_count": null,
   "id": "078d5102",
   "metadata": {},
   "outputs": [],
   "source": [
    "#ROC Curve\n",
    "\n",
    "actual=[1 if p =='good' else 0 for p in y]\n",
    "propensity=pd.DataFrame(clf.predict_proba(X), columns=classes).iloc[:,1]\n",
    "\n",
    "fpr, tpr, _ = roc_curve(actual,propensity)\n",
    "roc_auc = auc(fpr, tpr)\n",
    "\n",
    "plt.figure(figsize=[5, 5])\n",
    "lw = 2\n",
    "plt.plot(fpr, tpr, color='darkorange',\n",
    "         lw=lw, label='ROC curve (area = %0.4f)' % roc_auc)\n",
    "plt.plot([0, 1], [0, 1], color='navy', lw=lw, linestyle='--')\n",
    "plt.xlim([0.0, 1.0])\n",
    "plt.ylim([0.0, 1.05])\n",
    "plt.xlabel('False Positive Rate (1 - Specificity)')\n",
    "plt.ylabel('True Positive Rate (Sensitivity)')\n",
    "plt.legend(loc=\"lower right\")\n",
    "\n",
    "plt.show()"
   ]
  },
  {
   "cell_type": "markdown",
   "id": "95740cc0",
   "metadata": {},
   "source": [
    "# Conclusion\n",
    "After removing the class imbalance from the dataframe we have applied different classification models and based on the accuracy and cross validation score of all the models we have selected the ExtraTreesClassifier Model.\n",
    "ExtraTreesClassifier Model: The Extra Trees algorithm works by creating many unpruned decision trees from the training dataset. Predictions are made using majority voting in the case of classification.<br>\n",
    "\n",
    "Accuracy:  88.45456377191215<br>\n",
    "CV score:  89.30601140383651\n"
   ]
  },
  {
   "cell_type": "markdown",
   "id": "faff7fcd",
   "metadata": {},
   "source": []
  }
 ],
 "metadata": {
  "kernelspec": {
   "display_name": "Python 3 (ipykernel)",
   "language": "python",
   "name": "python3"
  },
  "language_info": {
   "codemirror_mode": {
    "name": "ipython",
    "version": 3
   },
   "file_extension": ".py",
   "mimetype": "text/x-python",
   "name": "python",
   "nbconvert_exporter": "python",
   "pygments_lexer": "ipython3",
   "version": "3.9.12"
  }
 },
 "nbformat": 4,
 "nbformat_minor": 5
}
